{
 "cells": [
  {
   "cell_type": "code",
   "execution_count": 3,
   "id": "cf6ae74a",
   "metadata": {},
   "outputs": [],
   "source": [
    "# Tratamiento de datos\n",
    "# -----------------------------------------------------------------------\n",
    "import pandas as pd\n",
    "import numpy as np\n",
    "import re\n",
    "\n",
    "# Imputación de nulos usando métodos avanzados estadísticos\n",
    "# -----------------------------------------------------------------------\n",
    "from sklearn.impute import SimpleImputer\n",
    "from sklearn.experimental import enable_iterative_imputer\n",
    "from sklearn.impute import IterativeImputer\n",
    "from sklearn.impute import KNNImputer\n",
    "\n",
    "# Librerías de visualización\n",
    "# -----------------------------------------------------------------------\n",
    "import seaborn as sns\n",
    "import matplotlib.pyplot as plt\n",
    "\n",
    "# Configuración\n",
    "# -----------------------------------------------------------------------\n",
    "pd.set_option('display.max_columns', None) # para poder visualizar todas las columnas de los DataFrames\n",
    "pd.set_option('display.max_rows', None) # ver todas las filas"
   ]
  },
  {
   "cell_type": "code",
   "execution_count": null,
   "id": "f7d3f382",
   "metadata": {},
   "outputs": [],
   "source": [
    "df1 = pd.read_csv(\"StudentsPerformance.csv\")\n",
    "df2 = pd.read_csv(\"xAPI-Edu-Data.csv\")"
   ]
  },
  {
   "cell_type": "code",
   "execution_count": null,
   "id": "08ac889c",
   "metadata": {},
   "outputs": [],
   "source": [
    "# Funcion para realizar un EDA Básico\n",
    "def eda_basico(df):\n",
    "    # 🌷 Mostrar ejemplos de datos para tener una primera idea\n",
    "    print('🌷 Ejemplo de datos del DF:')\n",
    "    display(df.head(3))    # Primeras 3 filas\n",
    "    display(df.tail(3))    # Últimas 3 filas\n",
    "    display(df.sample(3))  # 3 filas aleatorias\n",
    "    print('─' * 100)\n",
    "\n",
    "    # 🌻 Número total de filas (observaciones)\n",
    "    print('🌻 Número de filas:')\n",
    "    print(df.shape[0])\n",
    "    print('─' * 100)\n",
    "\n",
    "    # 🌱 Número total de columnas (variables)\n",
    "    print('🌱 Número de columnas:')\n",
    "    print(df.shape[1])\n",
    "    print('─' * 100)\n",
    "\n",
    "    # 🌼 Información general del DataFrame (tipos, nulos, etc.)\n",
    "    print('🌼 Información de la tabla:')\n",
    "    display(df.info())\n",
    "    print('─' * 100)\n",
    "\n",
    "    # 🌑 Lista con los nombres de las columnas\n",
    "    print('🌑 Nombre de las columnas:')\n",
    "    print(df.columns.tolist())\n",
    "    print('─' * 100)\n",
    "\n",
    "    # 🍄 Estadísticas descriptivas de columnas numéricas\n",
    "    print('🍄 Descripción de los datos numéricos:')\n",
    "    display(df.describe().T)\n",
    "    print('─' * 100)\n",
    "\n",
    "    # 🌋 Estadísticas descriptivas de columnas categóricas (si existen)\n",
    "    print('🌋 Descripción de los datos no-numéricos:')\n",
    "    if not df.select_dtypes(include='object').empty:\n",
    "        display(df.describe(include='object').T)\n",
    "    else:\n",
    "        print('📭 No hay columnas tipo \"object\" en este DataFrame.')\n",
    "    print('─' * 100)\n",
    "\n",
    "    # 🍂 Cuántos valores únicos hay en cada columna\n",
    "    print('🍂 Número de valores únicos por columna:')\n",
    "    display(df.nunique())\n",
    "    print('─' * 100)\n",
    "\n",
    "    # 🐖 Cuántos valores nulos hay en cada columna\n",
    "    print('🐖 Valores nulos por columna:')\n",
    "    display(df.isnull().sum())\n",
    "    print('─' * 100)\n",
    "\n",
    "    # 🐲 Revisión de filas duplicadas\n",
    "    print('🐲 Filas duplicadas:')\n",
    "    duplicados = df.duplicated().sum()\n",
    "    if duplicados > 0:\n",
    "        print(f'📛 Hay {duplicados} filas duplicadas.')\n",
    "        display(df[df.duplicated()].head(3))\n",
    "    else:\n",
    "        print('✅ No hay filas duplicadas.')\n",
    "    print('─' * 100)\n",
    "\n",
    "    # 🪹 Columnas constantes (con solo un valor único)\n",
    "    print('🪹 Columnas constantes (solo un valor):')\n",
    "    constantes = df.columns[df.nunique() <= 1]\n",
    "    if not constantes.empty:\n",
    "        print(f'📌 {len(constantes)} columnas con solo un valor:')\n",
    "        display(constantes.tolist())\n",
    "    else:\n",
    "        print('✅ No hay columnas constantes.')\n",
    "    print('─' * 100)\n",
    "\n",
    "    # 🚀 Ver valores únicos de columnas categóricas (si existen)\n",
    "    print('🚀 Valores únicos en columnas categóricas:')\n",
    "    cat_cols = df.select_dtypes(include='object')\n",
    "    if not cat_cols.empty:\n",
    "        for col in cat_cols.columns:\n",
    "            print(f'🔸 {col}')\n",
    "            print(cat_cols[col].unique())\n",
    "            print('─' * 60)\n",
    "    else:\n",
    "        print('📭 No hay columnas categóricas.')\n",
    "    print('─' * 100)\n",
    "\n",
    "    # 🧬 Resumen de tipos de datos presentes en el DataFrame\n",
    "    print('🧬 Tipos de datos por columna:')\n",
    "    display(df.dtypes.value_counts())\n",
    "    print('─' * 100)"
   ]
  },
  {
   "cell_type": "code",
   "execution_count": 7,
   "id": "49b60b14",
   "metadata": {},
   "outputs": [
    {
     "name": "stdout",
     "output_type": "stream",
     "text": [
      "🌷 Ejemplo de datos del DF:\n"
     ]
    },
    {
     "data": {
      "application/vnd.microsoft.datawrangler.viewer.v0+json": {
       "columns": [
        {
         "name": "index",
         "rawType": "int64",
         "type": "integer"
        },
        {
         "name": "gender",
         "rawType": "object",
         "type": "string"
        },
        {
         "name": "race/ethnicity",
         "rawType": "object",
         "type": "string"
        },
        {
         "name": "parental level of education",
         "rawType": "object",
         "type": "string"
        },
        {
         "name": "lunch",
         "rawType": "object",
         "type": "string"
        },
        {
         "name": "test preparation course",
         "rawType": "object",
         "type": "string"
        },
        {
         "name": "math score",
         "rawType": "int64",
         "type": "integer"
        },
        {
         "name": "reading score",
         "rawType": "int64",
         "type": "integer"
        },
        {
         "name": "writing score",
         "rawType": "int64",
         "type": "integer"
        }
       ],
       "ref": "18fb5800-e19f-4e37-81e2-1cd86665087c",
       "rows": [
        [
         "0",
         "female",
         "group B",
         "bachelor's degree",
         "standard",
         "none",
         "72",
         "72",
         "74"
        ],
        [
         "1",
         "female",
         "group C",
         "some college",
         "standard",
         "completed",
         "69",
         "90",
         "88"
        ],
        [
         "2",
         "female",
         "group B",
         "master's degree",
         "standard",
         "none",
         "90",
         "95",
         "93"
        ]
       ],
       "shape": {
        "columns": 8,
        "rows": 3
       }
      },
      "text/html": [
       "<div>\n",
       "<style scoped>\n",
       "    .dataframe tbody tr th:only-of-type {\n",
       "        vertical-align: middle;\n",
       "    }\n",
       "\n",
       "    .dataframe tbody tr th {\n",
       "        vertical-align: top;\n",
       "    }\n",
       "\n",
       "    .dataframe thead th {\n",
       "        text-align: right;\n",
       "    }\n",
       "</style>\n",
       "<table border=\"1\" class=\"dataframe\">\n",
       "  <thead>\n",
       "    <tr style=\"text-align: right;\">\n",
       "      <th></th>\n",
       "      <th>gender</th>\n",
       "      <th>race/ethnicity</th>\n",
       "      <th>parental level of education</th>\n",
       "      <th>lunch</th>\n",
       "      <th>test preparation course</th>\n",
       "      <th>math score</th>\n",
       "      <th>reading score</th>\n",
       "      <th>writing score</th>\n",
       "    </tr>\n",
       "  </thead>\n",
       "  <tbody>\n",
       "    <tr>\n",
       "      <th>0</th>\n",
       "      <td>female</td>\n",
       "      <td>group B</td>\n",
       "      <td>bachelor's degree</td>\n",
       "      <td>standard</td>\n",
       "      <td>none</td>\n",
       "      <td>72</td>\n",
       "      <td>72</td>\n",
       "      <td>74</td>\n",
       "    </tr>\n",
       "    <tr>\n",
       "      <th>1</th>\n",
       "      <td>female</td>\n",
       "      <td>group C</td>\n",
       "      <td>some college</td>\n",
       "      <td>standard</td>\n",
       "      <td>completed</td>\n",
       "      <td>69</td>\n",
       "      <td>90</td>\n",
       "      <td>88</td>\n",
       "    </tr>\n",
       "    <tr>\n",
       "      <th>2</th>\n",
       "      <td>female</td>\n",
       "      <td>group B</td>\n",
       "      <td>master's degree</td>\n",
       "      <td>standard</td>\n",
       "      <td>none</td>\n",
       "      <td>90</td>\n",
       "      <td>95</td>\n",
       "      <td>93</td>\n",
       "    </tr>\n",
       "  </tbody>\n",
       "</table>\n",
       "</div>"
      ],
      "text/plain": [
       "   gender race/ethnicity parental level of education     lunch  \\\n",
       "0  female        group B           bachelor's degree  standard   \n",
       "1  female        group C                some college  standard   \n",
       "2  female        group B             master's degree  standard   \n",
       "\n",
       "  test preparation course  math score  reading score  writing score  \n",
       "0                    none          72             72             74  \n",
       "1               completed          69             90             88  \n",
       "2                    none          90             95             93  "
      ]
     },
     "metadata": {},
     "output_type": "display_data"
    },
    {
     "data": {
      "application/vnd.microsoft.datawrangler.viewer.v0+json": {
       "columns": [
        {
         "name": "index",
         "rawType": "int64",
         "type": "integer"
        },
        {
         "name": "gender",
         "rawType": "object",
         "type": "string"
        },
        {
         "name": "race/ethnicity",
         "rawType": "object",
         "type": "string"
        },
        {
         "name": "parental level of education",
         "rawType": "object",
         "type": "string"
        },
        {
         "name": "lunch",
         "rawType": "object",
         "type": "string"
        },
        {
         "name": "test preparation course",
         "rawType": "object",
         "type": "string"
        },
        {
         "name": "math score",
         "rawType": "int64",
         "type": "integer"
        },
        {
         "name": "reading score",
         "rawType": "int64",
         "type": "integer"
        },
        {
         "name": "writing score",
         "rawType": "int64",
         "type": "integer"
        }
       ],
       "ref": "e116fdd3-9911-4dd6-b249-b889117bb904",
       "rows": [
        [
         "997",
         "female",
         "group C",
         "high school",
         "free/reduced",
         "completed",
         "59",
         "71",
         "65"
        ],
        [
         "998",
         "female",
         "group D",
         "some college",
         "standard",
         "completed",
         "68",
         "78",
         "77"
        ],
        [
         "999",
         "female",
         "group D",
         "some college",
         "free/reduced",
         "none",
         "77",
         "86",
         "86"
        ]
       ],
       "shape": {
        "columns": 8,
        "rows": 3
       }
      },
      "text/html": [
       "<div>\n",
       "<style scoped>\n",
       "    .dataframe tbody tr th:only-of-type {\n",
       "        vertical-align: middle;\n",
       "    }\n",
       "\n",
       "    .dataframe tbody tr th {\n",
       "        vertical-align: top;\n",
       "    }\n",
       "\n",
       "    .dataframe thead th {\n",
       "        text-align: right;\n",
       "    }\n",
       "</style>\n",
       "<table border=\"1\" class=\"dataframe\">\n",
       "  <thead>\n",
       "    <tr style=\"text-align: right;\">\n",
       "      <th></th>\n",
       "      <th>gender</th>\n",
       "      <th>race/ethnicity</th>\n",
       "      <th>parental level of education</th>\n",
       "      <th>lunch</th>\n",
       "      <th>test preparation course</th>\n",
       "      <th>math score</th>\n",
       "      <th>reading score</th>\n",
       "      <th>writing score</th>\n",
       "    </tr>\n",
       "  </thead>\n",
       "  <tbody>\n",
       "    <tr>\n",
       "      <th>997</th>\n",
       "      <td>female</td>\n",
       "      <td>group C</td>\n",
       "      <td>high school</td>\n",
       "      <td>free/reduced</td>\n",
       "      <td>completed</td>\n",
       "      <td>59</td>\n",
       "      <td>71</td>\n",
       "      <td>65</td>\n",
       "    </tr>\n",
       "    <tr>\n",
       "      <th>998</th>\n",
       "      <td>female</td>\n",
       "      <td>group D</td>\n",
       "      <td>some college</td>\n",
       "      <td>standard</td>\n",
       "      <td>completed</td>\n",
       "      <td>68</td>\n",
       "      <td>78</td>\n",
       "      <td>77</td>\n",
       "    </tr>\n",
       "    <tr>\n",
       "      <th>999</th>\n",
       "      <td>female</td>\n",
       "      <td>group D</td>\n",
       "      <td>some college</td>\n",
       "      <td>free/reduced</td>\n",
       "      <td>none</td>\n",
       "      <td>77</td>\n",
       "      <td>86</td>\n",
       "      <td>86</td>\n",
       "    </tr>\n",
       "  </tbody>\n",
       "</table>\n",
       "</div>"
      ],
      "text/plain": [
       "     gender race/ethnicity parental level of education         lunch  \\\n",
       "997  female        group C                 high school  free/reduced   \n",
       "998  female        group D                some college      standard   \n",
       "999  female        group D                some college  free/reduced   \n",
       "\n",
       "    test preparation course  math score  reading score  writing score  \n",
       "997               completed          59             71             65  \n",
       "998               completed          68             78             77  \n",
       "999                    none          77             86             86  "
      ]
     },
     "metadata": {},
     "output_type": "display_data"
    },
    {
     "data": {
      "application/vnd.microsoft.datawrangler.viewer.v0+json": {
       "columns": [
        {
         "name": "index",
         "rawType": "int64",
         "type": "integer"
        },
        {
         "name": "gender",
         "rawType": "object",
         "type": "string"
        },
        {
         "name": "race/ethnicity",
         "rawType": "object",
         "type": "string"
        },
        {
         "name": "parental level of education",
         "rawType": "object",
         "type": "string"
        },
        {
         "name": "lunch",
         "rawType": "object",
         "type": "string"
        },
        {
         "name": "test preparation course",
         "rawType": "object",
         "type": "string"
        },
        {
         "name": "math score",
         "rawType": "int64",
         "type": "integer"
        },
        {
         "name": "reading score",
         "rawType": "int64",
         "type": "integer"
        },
        {
         "name": "writing score",
         "rawType": "int64",
         "type": "integer"
        }
       ],
       "ref": "7c410a6d-1078-4990-8142-e74868cc4516",
       "rows": [
        [
         "22",
         "male",
         "group D",
         "some college",
         "standard",
         "none",
         "44",
         "54",
         "53"
        ],
        [
         "321",
         "female",
         "group E",
         "high school",
         "standard",
         "none",
         "75",
         "86",
         "79"
        ],
        [
         "85",
         "female",
         "group C",
         "some college",
         "standard",
         "none",
         "73",
         "80",
         "82"
        ]
       ],
       "shape": {
        "columns": 8,
        "rows": 3
       }
      },
      "text/html": [
       "<div>\n",
       "<style scoped>\n",
       "    .dataframe tbody tr th:only-of-type {\n",
       "        vertical-align: middle;\n",
       "    }\n",
       "\n",
       "    .dataframe tbody tr th {\n",
       "        vertical-align: top;\n",
       "    }\n",
       "\n",
       "    .dataframe thead th {\n",
       "        text-align: right;\n",
       "    }\n",
       "</style>\n",
       "<table border=\"1\" class=\"dataframe\">\n",
       "  <thead>\n",
       "    <tr style=\"text-align: right;\">\n",
       "      <th></th>\n",
       "      <th>gender</th>\n",
       "      <th>race/ethnicity</th>\n",
       "      <th>parental level of education</th>\n",
       "      <th>lunch</th>\n",
       "      <th>test preparation course</th>\n",
       "      <th>math score</th>\n",
       "      <th>reading score</th>\n",
       "      <th>writing score</th>\n",
       "    </tr>\n",
       "  </thead>\n",
       "  <tbody>\n",
       "    <tr>\n",
       "      <th>22</th>\n",
       "      <td>male</td>\n",
       "      <td>group D</td>\n",
       "      <td>some college</td>\n",
       "      <td>standard</td>\n",
       "      <td>none</td>\n",
       "      <td>44</td>\n",
       "      <td>54</td>\n",
       "      <td>53</td>\n",
       "    </tr>\n",
       "    <tr>\n",
       "      <th>321</th>\n",
       "      <td>female</td>\n",
       "      <td>group E</td>\n",
       "      <td>high school</td>\n",
       "      <td>standard</td>\n",
       "      <td>none</td>\n",
       "      <td>75</td>\n",
       "      <td>86</td>\n",
       "      <td>79</td>\n",
       "    </tr>\n",
       "    <tr>\n",
       "      <th>85</th>\n",
       "      <td>female</td>\n",
       "      <td>group C</td>\n",
       "      <td>some college</td>\n",
       "      <td>standard</td>\n",
       "      <td>none</td>\n",
       "      <td>73</td>\n",
       "      <td>80</td>\n",
       "      <td>82</td>\n",
       "    </tr>\n",
       "  </tbody>\n",
       "</table>\n",
       "</div>"
      ],
      "text/plain": [
       "     gender race/ethnicity parental level of education     lunch  \\\n",
       "22     male        group D                some college  standard   \n",
       "321  female        group E                 high school  standard   \n",
       "85   female        group C                some college  standard   \n",
       "\n",
       "    test preparation course  math score  reading score  writing score  \n",
       "22                     none          44             54             53  \n",
       "321                    none          75             86             79  \n",
       "85                     none          73             80             82  "
      ]
     },
     "metadata": {},
     "output_type": "display_data"
    },
    {
     "name": "stdout",
     "output_type": "stream",
     "text": [
      "────────────────────────────────────────────────────────────────────────────────────────────────────\n",
      "🌻 Número de filas:\n",
      "1000\n",
      "────────────────────────────────────────────────────────────────────────────────────────────────────\n",
      "🌱 Número de columnas:\n",
      "8\n",
      "────────────────────────────────────────────────────────────────────────────────────────────────────\n",
      "🌼 Información de la tabla:\n",
      "<class 'pandas.core.frame.DataFrame'>\n",
      "RangeIndex: 1000 entries, 0 to 999\n",
      "Data columns (total 8 columns):\n",
      " #   Column                       Non-Null Count  Dtype \n",
      "---  ------                       --------------  ----- \n",
      " 0   gender                       1000 non-null   object\n",
      " 1   race/ethnicity               1000 non-null   object\n",
      " 2   parental level of education  1000 non-null   object\n",
      " 3   lunch                        1000 non-null   object\n",
      " 4   test preparation course      1000 non-null   object\n",
      " 5   math score                   1000 non-null   int64 \n",
      " 6   reading score                1000 non-null   int64 \n",
      " 7   writing score                1000 non-null   int64 \n",
      "dtypes: int64(3), object(5)\n",
      "memory usage: 62.6+ KB\n"
     ]
    },
    {
     "data": {
      "text/plain": [
       "None"
      ]
     },
     "metadata": {},
     "output_type": "display_data"
    },
    {
     "name": "stdout",
     "output_type": "stream",
     "text": [
      "────────────────────────────────────────────────────────────────────────────────────────────────────\n",
      "🌑 Nombre de las columnas:\n",
      "['gender', 'race/ethnicity', 'parental level of education', 'lunch', 'test preparation course', 'math score', 'reading score', 'writing score']\n",
      "────────────────────────────────────────────────────────────────────────────────────────────────────\n",
      "🍄 Descripción de los datos numéricos:\n"
     ]
    },
    {
     "data": {
      "application/vnd.microsoft.datawrangler.viewer.v0+json": {
       "columns": [
        {
         "name": "index",
         "rawType": "object",
         "type": "string"
        },
        {
         "name": "count",
         "rawType": "float64",
         "type": "float"
        },
        {
         "name": "mean",
         "rawType": "float64",
         "type": "float"
        },
        {
         "name": "std",
         "rawType": "float64",
         "type": "float"
        },
        {
         "name": "min",
         "rawType": "float64",
         "type": "float"
        },
        {
         "name": "25%",
         "rawType": "float64",
         "type": "float"
        },
        {
         "name": "50%",
         "rawType": "float64",
         "type": "float"
        },
        {
         "name": "75%",
         "rawType": "float64",
         "type": "float"
        },
        {
         "name": "max",
         "rawType": "float64",
         "type": "float"
        }
       ],
       "ref": "62dcb77b-dcbe-4fac-b70c-c75acf37ab38",
       "rows": [
        [
         "math score",
         "1000.0",
         "66.089",
         "15.163080096009468",
         "0.0",
         "57.0",
         "66.0",
         "77.0",
         "100.0"
        ],
        [
         "reading score",
         "1000.0",
         "69.169",
         "14.60019193725222",
         "17.0",
         "59.0",
         "70.0",
         "79.0",
         "100.0"
        ],
        [
         "writing score",
         "1000.0",
         "68.054",
         "15.195657010869642",
         "10.0",
         "57.75",
         "69.0",
         "79.0",
         "100.0"
        ]
       ],
       "shape": {
        "columns": 8,
        "rows": 3
       }
      },
      "text/html": [
       "<div>\n",
       "<style scoped>\n",
       "    .dataframe tbody tr th:only-of-type {\n",
       "        vertical-align: middle;\n",
       "    }\n",
       "\n",
       "    .dataframe tbody tr th {\n",
       "        vertical-align: top;\n",
       "    }\n",
       "\n",
       "    .dataframe thead th {\n",
       "        text-align: right;\n",
       "    }\n",
       "</style>\n",
       "<table border=\"1\" class=\"dataframe\">\n",
       "  <thead>\n",
       "    <tr style=\"text-align: right;\">\n",
       "      <th></th>\n",
       "      <th>count</th>\n",
       "      <th>mean</th>\n",
       "      <th>std</th>\n",
       "      <th>min</th>\n",
       "      <th>25%</th>\n",
       "      <th>50%</th>\n",
       "      <th>75%</th>\n",
       "      <th>max</th>\n",
       "    </tr>\n",
       "  </thead>\n",
       "  <tbody>\n",
       "    <tr>\n",
       "      <th>math score</th>\n",
       "      <td>1000.0</td>\n",
       "      <td>66.089</td>\n",
       "      <td>15.163080</td>\n",
       "      <td>0.0</td>\n",
       "      <td>57.00</td>\n",
       "      <td>66.0</td>\n",
       "      <td>77.0</td>\n",
       "      <td>100.0</td>\n",
       "    </tr>\n",
       "    <tr>\n",
       "      <th>reading score</th>\n",
       "      <td>1000.0</td>\n",
       "      <td>69.169</td>\n",
       "      <td>14.600192</td>\n",
       "      <td>17.0</td>\n",
       "      <td>59.00</td>\n",
       "      <td>70.0</td>\n",
       "      <td>79.0</td>\n",
       "      <td>100.0</td>\n",
       "    </tr>\n",
       "    <tr>\n",
       "      <th>writing score</th>\n",
       "      <td>1000.0</td>\n",
       "      <td>68.054</td>\n",
       "      <td>15.195657</td>\n",
       "      <td>10.0</td>\n",
       "      <td>57.75</td>\n",
       "      <td>69.0</td>\n",
       "      <td>79.0</td>\n",
       "      <td>100.0</td>\n",
       "    </tr>\n",
       "  </tbody>\n",
       "</table>\n",
       "</div>"
      ],
      "text/plain": [
       "                count    mean        std   min    25%   50%   75%    max\n",
       "math score     1000.0  66.089  15.163080   0.0  57.00  66.0  77.0  100.0\n",
       "reading score  1000.0  69.169  14.600192  17.0  59.00  70.0  79.0  100.0\n",
       "writing score  1000.0  68.054  15.195657  10.0  57.75  69.0  79.0  100.0"
      ]
     },
     "metadata": {},
     "output_type": "display_data"
    },
    {
     "name": "stdout",
     "output_type": "stream",
     "text": [
      "────────────────────────────────────────────────────────────────────────────────────────────────────\n",
      "🌋 Descripción de los datos no-numéricos:\n"
     ]
    },
    {
     "data": {
      "application/vnd.microsoft.datawrangler.viewer.v0+json": {
       "columns": [
        {
         "name": "index",
         "rawType": "object",
         "type": "string"
        },
        {
         "name": "count",
         "rawType": "object",
         "type": "unknown"
        },
        {
         "name": "unique",
         "rawType": "object",
         "type": "unknown"
        },
        {
         "name": "top",
         "rawType": "object",
         "type": "string"
        },
        {
         "name": "freq",
         "rawType": "object",
         "type": "unknown"
        }
       ],
       "ref": "d2110b11-ac96-4fab-bbf4-46756aea30cc",
       "rows": [
        [
         "gender",
         "1000",
         "2",
         "female",
         "518"
        ],
        [
         "race/ethnicity",
         "1000",
         "5",
         "group C",
         "319"
        ],
        [
         "parental level of education",
         "1000",
         "6",
         "some college",
         "226"
        ],
        [
         "lunch",
         "1000",
         "2",
         "standard",
         "645"
        ],
        [
         "test preparation course",
         "1000",
         "2",
         "none",
         "642"
        ]
       ],
       "shape": {
        "columns": 4,
        "rows": 5
       }
      },
      "text/html": [
       "<div>\n",
       "<style scoped>\n",
       "    .dataframe tbody tr th:only-of-type {\n",
       "        vertical-align: middle;\n",
       "    }\n",
       "\n",
       "    .dataframe tbody tr th {\n",
       "        vertical-align: top;\n",
       "    }\n",
       "\n",
       "    .dataframe thead th {\n",
       "        text-align: right;\n",
       "    }\n",
       "</style>\n",
       "<table border=\"1\" class=\"dataframe\">\n",
       "  <thead>\n",
       "    <tr style=\"text-align: right;\">\n",
       "      <th></th>\n",
       "      <th>count</th>\n",
       "      <th>unique</th>\n",
       "      <th>top</th>\n",
       "      <th>freq</th>\n",
       "    </tr>\n",
       "  </thead>\n",
       "  <tbody>\n",
       "    <tr>\n",
       "      <th>gender</th>\n",
       "      <td>1000</td>\n",
       "      <td>2</td>\n",
       "      <td>female</td>\n",
       "      <td>518</td>\n",
       "    </tr>\n",
       "    <tr>\n",
       "      <th>race/ethnicity</th>\n",
       "      <td>1000</td>\n",
       "      <td>5</td>\n",
       "      <td>group C</td>\n",
       "      <td>319</td>\n",
       "    </tr>\n",
       "    <tr>\n",
       "      <th>parental level of education</th>\n",
       "      <td>1000</td>\n",
       "      <td>6</td>\n",
       "      <td>some college</td>\n",
       "      <td>226</td>\n",
       "    </tr>\n",
       "    <tr>\n",
       "      <th>lunch</th>\n",
       "      <td>1000</td>\n",
       "      <td>2</td>\n",
       "      <td>standard</td>\n",
       "      <td>645</td>\n",
       "    </tr>\n",
       "    <tr>\n",
       "      <th>test preparation course</th>\n",
       "      <td>1000</td>\n",
       "      <td>2</td>\n",
       "      <td>none</td>\n",
       "      <td>642</td>\n",
       "    </tr>\n",
       "  </tbody>\n",
       "</table>\n",
       "</div>"
      ],
      "text/plain": [
       "                            count unique           top freq\n",
       "gender                       1000      2        female  518\n",
       "race/ethnicity               1000      5       group C  319\n",
       "parental level of education  1000      6  some college  226\n",
       "lunch                        1000      2      standard  645\n",
       "test preparation course      1000      2          none  642"
      ]
     },
     "metadata": {},
     "output_type": "display_data"
    },
    {
     "name": "stdout",
     "output_type": "stream",
     "text": [
      "────────────────────────────────────────────────────────────────────────────────────────────────────\n",
      "🍂 Número de valores únicos por columna:\n"
     ]
    },
    {
     "data": {
      "application/vnd.microsoft.datawrangler.viewer.v0+json": {
       "columns": [
        {
         "name": "index",
         "rawType": "object",
         "type": "string"
        },
        {
         "name": "0",
         "rawType": "int64",
         "type": "integer"
        }
       ],
       "ref": "0751c1cf-ab9c-400c-beb1-d36d4b600876",
       "rows": [
        [
         "gender",
         "2"
        ],
        [
         "race/ethnicity",
         "5"
        ],
        [
         "parental level of education",
         "6"
        ],
        [
         "lunch",
         "2"
        ],
        [
         "test preparation course",
         "2"
        ],
        [
         "math score",
         "81"
        ],
        [
         "reading score",
         "72"
        ],
        [
         "writing score",
         "77"
        ]
       ],
       "shape": {
        "columns": 1,
        "rows": 8
       }
      },
      "text/plain": [
       "gender                          2\n",
       "race/ethnicity                  5\n",
       "parental level of education     6\n",
       "lunch                           2\n",
       "test preparation course         2\n",
       "math score                     81\n",
       "reading score                  72\n",
       "writing score                  77\n",
       "dtype: int64"
      ]
     },
     "metadata": {},
     "output_type": "display_data"
    },
    {
     "name": "stdout",
     "output_type": "stream",
     "text": [
      "────────────────────────────────────────────────────────────────────────────────────────────────────\n",
      "🐖 Valores nulos por columna:\n"
     ]
    },
    {
     "data": {
      "application/vnd.microsoft.datawrangler.viewer.v0+json": {
       "columns": [
        {
         "name": "index",
         "rawType": "object",
         "type": "string"
        },
        {
         "name": "0",
         "rawType": "int64",
         "type": "integer"
        }
       ],
       "ref": "fdcb4f38-dc44-468c-a9f5-653c21f7d7eb",
       "rows": [
        [
         "gender",
         "0"
        ],
        [
         "race/ethnicity",
         "0"
        ],
        [
         "parental level of education",
         "0"
        ],
        [
         "lunch",
         "0"
        ],
        [
         "test preparation course",
         "0"
        ],
        [
         "math score",
         "0"
        ],
        [
         "reading score",
         "0"
        ],
        [
         "writing score",
         "0"
        ]
       ],
       "shape": {
        "columns": 1,
        "rows": 8
       }
      },
      "text/plain": [
       "gender                         0\n",
       "race/ethnicity                 0\n",
       "parental level of education    0\n",
       "lunch                          0\n",
       "test preparation course        0\n",
       "math score                     0\n",
       "reading score                  0\n",
       "writing score                  0\n",
       "dtype: int64"
      ]
     },
     "metadata": {},
     "output_type": "display_data"
    },
    {
     "name": "stdout",
     "output_type": "stream",
     "text": [
      "────────────────────────────────────────────────────────────────────────────────────────────────────\n",
      "🐲 Filas duplicadas:\n",
      "✅ No hay filas duplicadas.\n",
      "────────────────────────────────────────────────────────────────────────────────────────────────────\n",
      "🪹 Columnas constantes (solo un valor):\n",
      "✅ No hay columnas constantes.\n",
      "────────────────────────────────────────────────────────────────────────────────────────────────────\n",
      "🚀 Valores únicos en columnas categóricas:\n",
      "🔸 gender\n",
      "['female' 'male']\n",
      "────────────────────────────────────────────────────────────\n",
      "🔸 race/ethnicity\n",
      "['group B' 'group C' 'group A' 'group D' 'group E']\n",
      "────────────────────────────────────────────────────────────\n",
      "🔸 parental level of education\n",
      "[\"bachelor's degree\" 'some college' \"master's degree\" \"associate's degree\"\n",
      " 'high school' 'some high school']\n",
      "────────────────────────────────────────────────────────────\n",
      "🔸 lunch\n",
      "['standard' 'free/reduced']\n",
      "────────────────────────────────────────────────────────────\n",
      "🔸 test preparation course\n",
      "['none' 'completed']\n",
      "────────────────────────────────────────────────────────────\n",
      "────────────────────────────────────────────────────────────────────────────────────────────────────\n",
      "🧬 Tipos de datos por columna:\n"
     ]
    },
    {
     "data": {
      "application/vnd.microsoft.datawrangler.viewer.v0+json": {
       "columns": [
        {
         "name": "index",
         "rawType": "object",
         "type": "unknown"
        },
        {
         "name": "count",
         "rawType": "int64",
         "type": "integer"
        }
       ],
       "ref": "24b174e9-1f53-4c90-8d2b-e74b8ecfc6c7",
       "rows": [
        [
         "object",
         "5"
        ],
        [
         "int64",
         "3"
        ]
       ],
       "shape": {
        "columns": 1,
        "rows": 2
       }
      },
      "text/plain": [
       "object    5\n",
       "int64     3\n",
       "Name: count, dtype: int64"
      ]
     },
     "metadata": {},
     "output_type": "display_data"
    },
    {
     "name": "stdout",
     "output_type": "stream",
     "text": [
      "────────────────────────────────────────────────────────────────────────────────────────────────────\n"
     ]
    }
   ],
   "source": [
    "eda_basico(df1)"
   ]
  },
  {
   "cell_type": "code",
   "execution_count": 8,
   "id": "6b70f137",
   "metadata": {},
   "outputs": [
    {
     "name": "stdout",
     "output_type": "stream",
     "text": [
      "🌷 Ejemplo de datos del DF:\n"
     ]
    },
    {
     "data": {
      "application/vnd.microsoft.datawrangler.viewer.v0+json": {
       "columns": [
        {
         "name": "index",
         "rawType": "int64",
         "type": "integer"
        },
        {
         "name": "Gender",
         "rawType": "object",
         "type": "string"
        },
        {
         "name": "Nationality",
         "rawType": "object",
         "type": "string"
        },
        {
         "name": "Place of birth",
         "rawType": "object",
         "type": "string"
        },
        {
         "name": "Educational Stages ",
         "rawType": "object",
         "type": "string"
        },
        {
         "name": "Grade Levels",
         "rawType": "object",
         "type": "string"
        },
        {
         "name": "Section ID",
         "rawType": "object",
         "type": "string"
        },
        {
         "name": "Topic",
         "rawType": "object",
         "type": "string"
        },
        {
         "name": "Semester",
         "rawType": "object",
         "type": "string"
        },
        {
         "name": "Parent responsible for student",
         "rawType": "object",
         "type": "string"
        },
        {
         "name": "Raised hand",
         "rawType": "int64",
         "type": "integer"
        },
        {
         "name": "Visited resources",
         "rawType": "int64",
         "type": "integer"
        },
        {
         "name": "Viewing announcements",
         "rawType": "int64",
         "type": "integer"
        },
        {
         "name": "Discussion groups",
         "rawType": "int64",
         "type": "integer"
        },
        {
         "name": "Parent Answering Survey",
         "rawType": "object",
         "type": "string"
        },
        {
         "name": "ParentschoolSatisfaction",
         "rawType": "object",
         "type": "string"
        },
        {
         "name": "StudentAbsenceDays",
         "rawType": "object",
         "type": "string"
        },
        {
         "name": "Total",
         "rawType": "object",
         "type": "string"
        }
       ],
       "ref": "e2e07207-0737-49fc-9145-ff493334b595",
       "rows": [
        [
         "0",
         "Male",
         "KuwaIT",
         "KuwaIT",
         "lowerlevel",
         "G-04",
         "A",
         "IT",
         "First",
         "Father",
         "15",
         "16",
         "2",
         "20",
         "Yes",
         "Good",
         "Under-7",
         "Middle-Level"
        ],
        [
         "1",
         "Male",
         "KuwaIT",
         "KuwaIT",
         "lowerlevel",
         "G-04",
         "A",
         "IT",
         "First",
         "Father",
         "20",
         "20",
         "3",
         "25",
         "Yes",
         "Good",
         "Under-7",
         "Middle-Level"
        ],
        [
         "2",
         "Male",
         "KuwaIT",
         "KuwaIT",
         "lowerlevel",
         "G-04",
         "A",
         "IT",
         "First",
         "Father",
         "10",
         "7",
         "0",
         "30",
         "No",
         "Bad",
         "Above-7",
         "Low-Level"
        ]
       ],
       "shape": {
        "columns": 17,
        "rows": 3
       }
      },
      "text/html": [
       "<div>\n",
       "<style scoped>\n",
       "    .dataframe tbody tr th:only-of-type {\n",
       "        vertical-align: middle;\n",
       "    }\n",
       "\n",
       "    .dataframe tbody tr th {\n",
       "        vertical-align: top;\n",
       "    }\n",
       "\n",
       "    .dataframe thead th {\n",
       "        text-align: right;\n",
       "    }\n",
       "</style>\n",
       "<table border=\"1\" class=\"dataframe\">\n",
       "  <thead>\n",
       "    <tr style=\"text-align: right;\">\n",
       "      <th></th>\n",
       "      <th>Gender</th>\n",
       "      <th>Nationality</th>\n",
       "      <th>Place of birth</th>\n",
       "      <th>Educational Stages</th>\n",
       "      <th>Grade Levels</th>\n",
       "      <th>Section ID</th>\n",
       "      <th>Topic</th>\n",
       "      <th>Semester</th>\n",
       "      <th>Parent responsible for student</th>\n",
       "      <th>Raised hand</th>\n",
       "      <th>Visited resources</th>\n",
       "      <th>Viewing announcements</th>\n",
       "      <th>Discussion groups</th>\n",
       "      <th>Parent Answering Survey</th>\n",
       "      <th>ParentschoolSatisfaction</th>\n",
       "      <th>StudentAbsenceDays</th>\n",
       "      <th>Total</th>\n",
       "    </tr>\n",
       "  </thead>\n",
       "  <tbody>\n",
       "    <tr>\n",
       "      <th>0</th>\n",
       "      <td>Male</td>\n",
       "      <td>KuwaIT</td>\n",
       "      <td>KuwaIT</td>\n",
       "      <td>lowerlevel</td>\n",
       "      <td>G-04</td>\n",
       "      <td>A</td>\n",
       "      <td>IT</td>\n",
       "      <td>First</td>\n",
       "      <td>Father</td>\n",
       "      <td>15</td>\n",
       "      <td>16</td>\n",
       "      <td>2</td>\n",
       "      <td>20</td>\n",
       "      <td>Yes</td>\n",
       "      <td>Good</td>\n",
       "      <td>Under-7</td>\n",
       "      <td>Middle-Level</td>\n",
       "    </tr>\n",
       "    <tr>\n",
       "      <th>1</th>\n",
       "      <td>Male</td>\n",
       "      <td>KuwaIT</td>\n",
       "      <td>KuwaIT</td>\n",
       "      <td>lowerlevel</td>\n",
       "      <td>G-04</td>\n",
       "      <td>A</td>\n",
       "      <td>IT</td>\n",
       "      <td>First</td>\n",
       "      <td>Father</td>\n",
       "      <td>20</td>\n",
       "      <td>20</td>\n",
       "      <td>3</td>\n",
       "      <td>25</td>\n",
       "      <td>Yes</td>\n",
       "      <td>Good</td>\n",
       "      <td>Under-7</td>\n",
       "      <td>Middle-Level</td>\n",
       "    </tr>\n",
       "    <tr>\n",
       "      <th>2</th>\n",
       "      <td>Male</td>\n",
       "      <td>KuwaIT</td>\n",
       "      <td>KuwaIT</td>\n",
       "      <td>lowerlevel</td>\n",
       "      <td>G-04</td>\n",
       "      <td>A</td>\n",
       "      <td>IT</td>\n",
       "      <td>First</td>\n",
       "      <td>Father</td>\n",
       "      <td>10</td>\n",
       "      <td>7</td>\n",
       "      <td>0</td>\n",
       "      <td>30</td>\n",
       "      <td>No</td>\n",
       "      <td>Bad</td>\n",
       "      <td>Above-7</td>\n",
       "      <td>Low-Level</td>\n",
       "    </tr>\n",
       "  </tbody>\n",
       "</table>\n",
       "</div>"
      ],
      "text/plain": [
       "  Gender Nationality Place of birth Educational Stages  Grade Levels  \\\n",
       "0   Male      KuwaIT         KuwaIT          lowerlevel         G-04   \n",
       "1   Male      KuwaIT         KuwaIT          lowerlevel         G-04   \n",
       "2   Male      KuwaIT         KuwaIT          lowerlevel         G-04   \n",
       "\n",
       "  Section ID Topic Semester Parent responsible for student  Raised hand  \\\n",
       "0          A    IT    First                         Father           15   \n",
       "1          A    IT    First                         Father           20   \n",
       "2          A    IT    First                         Father           10   \n",
       "\n",
       "   Visited resources  Viewing announcements  Discussion groups  \\\n",
       "0                 16                      2                 20   \n",
       "1                 20                      3                 25   \n",
       "2                  7                      0                 30   \n",
       "\n",
       "  Parent Answering Survey ParentschoolSatisfaction StudentAbsenceDays  \\\n",
       "0                     Yes                     Good            Under-7   \n",
       "1                     Yes                     Good            Under-7   \n",
       "2                      No                      Bad            Above-7   \n",
       "\n",
       "          Total  \n",
       "0  Middle-Level  \n",
       "1  Middle-Level  \n",
       "2     Low-Level  "
      ]
     },
     "metadata": {},
     "output_type": "display_data"
    },
    {
     "data": {
      "application/vnd.microsoft.datawrangler.viewer.v0+json": {
       "columns": [
        {
         "name": "index",
         "rawType": "int64",
         "type": "integer"
        },
        {
         "name": "Gender",
         "rawType": "object",
         "type": "string"
        },
        {
         "name": "Nationality",
         "rawType": "object",
         "type": "string"
        },
        {
         "name": "Place of birth",
         "rawType": "object",
         "type": "string"
        },
        {
         "name": "Educational Stages ",
         "rawType": "object",
         "type": "string"
        },
        {
         "name": "Grade Levels",
         "rawType": "object",
         "type": "string"
        },
        {
         "name": "Section ID",
         "rawType": "object",
         "type": "string"
        },
        {
         "name": "Topic",
         "rawType": "object",
         "type": "string"
        },
        {
         "name": "Semester",
         "rawType": "object",
         "type": "string"
        },
        {
         "name": "Parent responsible for student",
         "rawType": "object",
         "type": "string"
        },
        {
         "name": "Raised hand",
         "rawType": "int64",
         "type": "integer"
        },
        {
         "name": "Visited resources",
         "rawType": "int64",
         "type": "integer"
        },
        {
         "name": "Viewing announcements",
         "rawType": "int64",
         "type": "integer"
        },
        {
         "name": "Discussion groups",
         "rawType": "int64",
         "type": "integer"
        },
        {
         "name": "Parent Answering Survey",
         "rawType": "object",
         "type": "string"
        },
        {
         "name": "ParentschoolSatisfaction",
         "rawType": "object",
         "type": "string"
        },
        {
         "name": "StudentAbsenceDays",
         "rawType": "object",
         "type": "string"
        },
        {
         "name": "Total",
         "rawType": "object",
         "type": "string"
        }
       ],
       "ref": "0b07c0d6-b92f-4e10-8137-8a186a747519",
       "rows": [
        [
         "477",
         "Female",
         "Jordan",
         "Jordan",
         "MiddleSchool",
         "G-08",
         "A",
         "Geology",
         "Second",
         "Father",
         "55",
         "74",
         "25",
         "29",
         "No",
         "Bad",
         "Under-7",
         "Middle-Level"
        ],
        [
         "478",
         "Female",
         "Jordan",
         "Jordan",
         "MiddleSchool",
         "G-08",
         "A",
         "History",
         "First",
         "Father",
         "30",
         "17",
         "14",
         "57",
         "No",
         "Bad",
         "Above-7",
         "Low-Level"
        ],
        [
         "479",
         "Female",
         "Jordan",
         "Jordan",
         "MiddleSchool",
         "G-08",
         "A",
         "History",
         "Second",
         "Father",
         "35",
         "14",
         "23",
         "62",
         "No",
         "Bad",
         "Above-7",
         "Low-Level"
        ]
       ],
       "shape": {
        "columns": 17,
        "rows": 3
       }
      },
      "text/html": [
       "<div>\n",
       "<style scoped>\n",
       "    .dataframe tbody tr th:only-of-type {\n",
       "        vertical-align: middle;\n",
       "    }\n",
       "\n",
       "    .dataframe tbody tr th {\n",
       "        vertical-align: top;\n",
       "    }\n",
       "\n",
       "    .dataframe thead th {\n",
       "        text-align: right;\n",
       "    }\n",
       "</style>\n",
       "<table border=\"1\" class=\"dataframe\">\n",
       "  <thead>\n",
       "    <tr style=\"text-align: right;\">\n",
       "      <th></th>\n",
       "      <th>Gender</th>\n",
       "      <th>Nationality</th>\n",
       "      <th>Place of birth</th>\n",
       "      <th>Educational Stages</th>\n",
       "      <th>Grade Levels</th>\n",
       "      <th>Section ID</th>\n",
       "      <th>Topic</th>\n",
       "      <th>Semester</th>\n",
       "      <th>Parent responsible for student</th>\n",
       "      <th>Raised hand</th>\n",
       "      <th>Visited resources</th>\n",
       "      <th>Viewing announcements</th>\n",
       "      <th>Discussion groups</th>\n",
       "      <th>Parent Answering Survey</th>\n",
       "      <th>ParentschoolSatisfaction</th>\n",
       "      <th>StudentAbsenceDays</th>\n",
       "      <th>Total</th>\n",
       "    </tr>\n",
       "  </thead>\n",
       "  <tbody>\n",
       "    <tr>\n",
       "      <th>477</th>\n",
       "      <td>Female</td>\n",
       "      <td>Jordan</td>\n",
       "      <td>Jordan</td>\n",
       "      <td>MiddleSchool</td>\n",
       "      <td>G-08</td>\n",
       "      <td>A</td>\n",
       "      <td>Geology</td>\n",
       "      <td>Second</td>\n",
       "      <td>Father</td>\n",
       "      <td>55</td>\n",
       "      <td>74</td>\n",
       "      <td>25</td>\n",
       "      <td>29</td>\n",
       "      <td>No</td>\n",
       "      <td>Bad</td>\n",
       "      <td>Under-7</td>\n",
       "      <td>Middle-Level</td>\n",
       "    </tr>\n",
       "    <tr>\n",
       "      <th>478</th>\n",
       "      <td>Female</td>\n",
       "      <td>Jordan</td>\n",
       "      <td>Jordan</td>\n",
       "      <td>MiddleSchool</td>\n",
       "      <td>G-08</td>\n",
       "      <td>A</td>\n",
       "      <td>History</td>\n",
       "      <td>First</td>\n",
       "      <td>Father</td>\n",
       "      <td>30</td>\n",
       "      <td>17</td>\n",
       "      <td>14</td>\n",
       "      <td>57</td>\n",
       "      <td>No</td>\n",
       "      <td>Bad</td>\n",
       "      <td>Above-7</td>\n",
       "      <td>Low-Level</td>\n",
       "    </tr>\n",
       "    <tr>\n",
       "      <th>479</th>\n",
       "      <td>Female</td>\n",
       "      <td>Jordan</td>\n",
       "      <td>Jordan</td>\n",
       "      <td>MiddleSchool</td>\n",
       "      <td>G-08</td>\n",
       "      <td>A</td>\n",
       "      <td>History</td>\n",
       "      <td>Second</td>\n",
       "      <td>Father</td>\n",
       "      <td>35</td>\n",
       "      <td>14</td>\n",
       "      <td>23</td>\n",
       "      <td>62</td>\n",
       "      <td>No</td>\n",
       "      <td>Bad</td>\n",
       "      <td>Above-7</td>\n",
       "      <td>Low-Level</td>\n",
       "    </tr>\n",
       "  </tbody>\n",
       "</table>\n",
       "</div>"
      ],
      "text/plain": [
       "     Gender Nationality Place of birth Educational Stages  Grade Levels  \\\n",
       "477  Female      Jordan         Jordan        MiddleSchool         G-08   \n",
       "478  Female      Jordan         Jordan        MiddleSchool         G-08   \n",
       "479  Female      Jordan         Jordan        MiddleSchool         G-08   \n",
       "\n",
       "    Section ID    Topic Semester Parent responsible for student  Raised hand  \\\n",
       "477          A  Geology   Second                         Father           55   \n",
       "478          A  History    First                         Father           30   \n",
       "479          A  History   Second                         Father           35   \n",
       "\n",
       "     Visited resources  Viewing announcements  Discussion groups  \\\n",
       "477                 74                     25                 29   \n",
       "478                 17                     14                 57   \n",
       "479                 14                     23                 62   \n",
       "\n",
       "    Parent Answering Survey ParentschoolSatisfaction StudentAbsenceDays  \\\n",
       "477                      No                      Bad            Under-7   \n",
       "478                      No                      Bad            Above-7   \n",
       "479                      No                      Bad            Above-7   \n",
       "\n",
       "            Total  \n",
       "477  Middle-Level  \n",
       "478     Low-Level  \n",
       "479     Low-Level  "
      ]
     },
     "metadata": {},
     "output_type": "display_data"
    },
    {
     "data": {
      "application/vnd.microsoft.datawrangler.viewer.v0+json": {
       "columns": [
        {
         "name": "index",
         "rawType": "int64",
         "type": "integer"
        },
        {
         "name": "Gender",
         "rawType": "object",
         "type": "string"
        },
        {
         "name": "Nationality",
         "rawType": "object",
         "type": "string"
        },
        {
         "name": "Place of birth",
         "rawType": "object",
         "type": "string"
        },
        {
         "name": "Educational Stages ",
         "rawType": "object",
         "type": "string"
        },
        {
         "name": "Grade Levels",
         "rawType": "object",
         "type": "string"
        },
        {
         "name": "Section ID",
         "rawType": "object",
         "type": "string"
        },
        {
         "name": "Topic",
         "rawType": "object",
         "type": "string"
        },
        {
         "name": "Semester",
         "rawType": "object",
         "type": "string"
        },
        {
         "name": "Parent responsible for student",
         "rawType": "object",
         "type": "string"
        },
        {
         "name": "Raised hand",
         "rawType": "int64",
         "type": "integer"
        },
        {
         "name": "Visited resources",
         "rawType": "int64",
         "type": "integer"
        },
        {
         "name": "Viewing announcements",
         "rawType": "int64",
         "type": "integer"
        },
        {
         "name": "Discussion groups",
         "rawType": "int64",
         "type": "integer"
        },
        {
         "name": "Parent Answering Survey",
         "rawType": "object",
         "type": "string"
        },
        {
         "name": "ParentschoolSatisfaction",
         "rawType": "object",
         "type": "string"
        },
        {
         "name": "StudentAbsenceDays",
         "rawType": "object",
         "type": "string"
        },
        {
         "name": "Total",
         "rawType": "object",
         "type": "string"
        }
       ],
       "ref": "060678ca-8635-4063-99b3-625d7c79ec06",
       "rows": [
        [
         "56",
         "Male",
         "USA",
         "USA",
         "MiddleSchool",
         "G-08",
         "B",
         "Math",
         "First",
         "Father",
         "19",
         "5",
         "4",
         "1",
         "Yes",
         "Good",
         "Above-7",
         "Low-Level"
        ],
        [
         "103",
         "Male,",
         "KuwaIT",
         "KuwaIT",
         "lowerlevel",
         "G-02",
         "B",
         "IT",
         "First",
         "Father",
         "1",
         "7",
         "6",
         "10",
         "No",
         "Bad",
         "Above-7",
         "Low-Level"
        ],
        [
         "346",
         "Female",
         "Jordan",
         "Jordan",
         "lowerlevel",
         "G-02",
         "B",
         "French",
         "Second",
         "mom",
         "24",
         "97",
         "15",
         "14",
         "No",
         "Good",
         "Under-7",
         "High-Level"
        ]
       ],
       "shape": {
        "columns": 17,
        "rows": 3
       }
      },
      "text/html": [
       "<div>\n",
       "<style scoped>\n",
       "    .dataframe tbody tr th:only-of-type {\n",
       "        vertical-align: middle;\n",
       "    }\n",
       "\n",
       "    .dataframe tbody tr th {\n",
       "        vertical-align: top;\n",
       "    }\n",
       "\n",
       "    .dataframe thead th {\n",
       "        text-align: right;\n",
       "    }\n",
       "</style>\n",
       "<table border=\"1\" class=\"dataframe\">\n",
       "  <thead>\n",
       "    <tr style=\"text-align: right;\">\n",
       "      <th></th>\n",
       "      <th>Gender</th>\n",
       "      <th>Nationality</th>\n",
       "      <th>Place of birth</th>\n",
       "      <th>Educational Stages</th>\n",
       "      <th>Grade Levels</th>\n",
       "      <th>Section ID</th>\n",
       "      <th>Topic</th>\n",
       "      <th>Semester</th>\n",
       "      <th>Parent responsible for student</th>\n",
       "      <th>Raised hand</th>\n",
       "      <th>Visited resources</th>\n",
       "      <th>Viewing announcements</th>\n",
       "      <th>Discussion groups</th>\n",
       "      <th>Parent Answering Survey</th>\n",
       "      <th>ParentschoolSatisfaction</th>\n",
       "      <th>StudentAbsenceDays</th>\n",
       "      <th>Total</th>\n",
       "    </tr>\n",
       "  </thead>\n",
       "  <tbody>\n",
       "    <tr>\n",
       "      <th>56</th>\n",
       "      <td>Male</td>\n",
       "      <td>USA</td>\n",
       "      <td>USA</td>\n",
       "      <td>MiddleSchool</td>\n",
       "      <td>G-08</td>\n",
       "      <td>B</td>\n",
       "      <td>Math</td>\n",
       "      <td>First</td>\n",
       "      <td>Father</td>\n",
       "      <td>19</td>\n",
       "      <td>5</td>\n",
       "      <td>4</td>\n",
       "      <td>1</td>\n",
       "      <td>Yes</td>\n",
       "      <td>Good</td>\n",
       "      <td>Above-7</td>\n",
       "      <td>Low-Level</td>\n",
       "    </tr>\n",
       "    <tr>\n",
       "      <th>103</th>\n",
       "      <td>Male,</td>\n",
       "      <td>KuwaIT</td>\n",
       "      <td>KuwaIT</td>\n",
       "      <td>lowerlevel</td>\n",
       "      <td>G-02</td>\n",
       "      <td>B</td>\n",
       "      <td>IT</td>\n",
       "      <td>First</td>\n",
       "      <td>Father</td>\n",
       "      <td>1</td>\n",
       "      <td>7</td>\n",
       "      <td>6</td>\n",
       "      <td>10</td>\n",
       "      <td>No</td>\n",
       "      <td>Bad</td>\n",
       "      <td>Above-7</td>\n",
       "      <td>Low-Level</td>\n",
       "    </tr>\n",
       "    <tr>\n",
       "      <th>346</th>\n",
       "      <td>Female</td>\n",
       "      <td>Jordan</td>\n",
       "      <td>Jordan</td>\n",
       "      <td>lowerlevel</td>\n",
       "      <td>G-02</td>\n",
       "      <td>B</td>\n",
       "      <td>French</td>\n",
       "      <td>Second</td>\n",
       "      <td>mom</td>\n",
       "      <td>24</td>\n",
       "      <td>97</td>\n",
       "      <td>15</td>\n",
       "      <td>14</td>\n",
       "      <td>No</td>\n",
       "      <td>Good</td>\n",
       "      <td>Under-7</td>\n",
       "      <td>High-Level</td>\n",
       "    </tr>\n",
       "  </tbody>\n",
       "</table>\n",
       "</div>"
      ],
      "text/plain": [
       "     Gender Nationality Place of birth Educational Stages  Grade Levels  \\\n",
       "56     Male         USA            USA        MiddleSchool         G-08   \n",
       "103   Male,      KuwaIT         KuwaIT          lowerlevel         G-02   \n",
       "346  Female      Jordan         Jordan          lowerlevel         G-02   \n",
       "\n",
       "    Section ID   Topic Semester Parent responsible for student  Raised hand  \\\n",
       "56           B    Math    First                         Father           19   \n",
       "103          B      IT    First                         Father            1   \n",
       "346          B  French   Second                            mom           24   \n",
       "\n",
       "     Visited resources  Viewing announcements  Discussion groups  \\\n",
       "56                   5                      4                  1   \n",
       "103                  7                      6                 10   \n",
       "346                 97                     15                 14   \n",
       "\n",
       "    Parent Answering Survey ParentschoolSatisfaction StudentAbsenceDays  \\\n",
       "56                      Yes                     Good            Above-7   \n",
       "103                      No                      Bad            Above-7   \n",
       "346                      No                     Good            Under-7   \n",
       "\n",
       "          Total  \n",
       "56    Low-Level  \n",
       "103   Low-Level  \n",
       "346  High-Level  "
      ]
     },
     "metadata": {},
     "output_type": "display_data"
    },
    {
     "name": "stdout",
     "output_type": "stream",
     "text": [
      "────────────────────────────────────────────────────────────────────────────────────────────────────\n",
      "🌻 Número de filas:\n",
      "480\n",
      "────────────────────────────────────────────────────────────────────────────────────────────────────\n",
      "🌱 Número de columnas:\n",
      "17\n",
      "────────────────────────────────────────────────────────────────────────────────────────────────────\n",
      "🌼 Información de la tabla:\n",
      "<class 'pandas.core.frame.DataFrame'>\n",
      "RangeIndex: 480 entries, 0 to 479\n",
      "Data columns (total 17 columns):\n",
      " #   Column                          Non-Null Count  Dtype \n",
      "---  ------                          --------------  ----- \n",
      " 0   Gender                          480 non-null    object\n",
      " 1   Nationality                     480 non-null    object\n",
      " 2   Place of birth                  480 non-null    object\n",
      " 3   Educational Stages              480 non-null    object\n",
      " 4   Grade Levels                    480 non-null    object\n",
      " 5   Section ID                      480 non-null    object\n",
      " 6   Topic                           480 non-null    object\n",
      " 7   Semester                        480 non-null    object\n",
      " 8   Parent responsible for student  480 non-null    object\n",
      " 9   Raised hand                     480 non-null    int64 \n",
      " 10  Visited resources               480 non-null    int64 \n",
      " 11  Viewing announcements           480 non-null    int64 \n",
      " 12  Discussion groups               480 non-null    int64 \n",
      " 13  Parent Answering Survey         480 non-null    object\n",
      " 14  ParentschoolSatisfaction        480 non-null    object\n",
      " 15  StudentAbsenceDays              480 non-null    object\n",
      " 16  Total                           480 non-null    object\n",
      "dtypes: int64(4), object(13)\n",
      "memory usage: 63.9+ KB\n"
     ]
    },
    {
     "data": {
      "text/plain": [
       "None"
      ]
     },
     "metadata": {},
     "output_type": "display_data"
    },
    {
     "name": "stdout",
     "output_type": "stream",
     "text": [
      "────────────────────────────────────────────────────────────────────────────────────────────────────\n",
      "🌑 Nombre de las columnas:\n",
      "['Gender', 'Nationality', 'Place of birth', 'Educational Stages ', 'Grade Levels', 'Section ID', 'Topic', 'Semester', 'Parent responsible for student', 'Raised hand', 'Visited resources', 'Viewing announcements', 'Discussion groups', 'Parent Answering Survey', 'ParentschoolSatisfaction', 'StudentAbsenceDays', 'Total']\n",
      "────────────────────────────────────────────────────────────────────────────────────────────────────\n",
      "🍄 Descripción de los datos numéricos:\n"
     ]
    },
    {
     "data": {
      "application/vnd.microsoft.datawrangler.viewer.v0+json": {
       "columns": [
        {
         "name": "index",
         "rawType": "object",
         "type": "string"
        },
        {
         "name": "count",
         "rawType": "float64",
         "type": "float"
        },
        {
         "name": "mean",
         "rawType": "float64",
         "type": "float"
        },
        {
         "name": "std",
         "rawType": "float64",
         "type": "float"
        },
        {
         "name": "min",
         "rawType": "float64",
         "type": "float"
        },
        {
         "name": "25%",
         "rawType": "float64",
         "type": "float"
        },
        {
         "name": "50%",
         "rawType": "float64",
         "type": "float"
        },
        {
         "name": "75%",
         "rawType": "float64",
         "type": "float"
        },
        {
         "name": "max",
         "rawType": "float64",
         "type": "float"
        }
       ],
       "ref": "2a0148e6-7839-4a2e-a66e-0e3ea7ba6653",
       "rows": [
        [
         "Raised hand",
         "480.0",
         "46.775",
         "30.779222582734224",
         "0.0",
         "15.75",
         "50.0",
         "75.0",
         "100.0"
        ],
        [
         "Visited resources",
         "480.0",
         "54.797916666666666",
         "33.08000669966417",
         "0.0",
         "20.0",
         "65.0",
         "84.0",
         "99.0"
        ],
        [
         "Viewing announcements",
         "480.0",
         "37.91875",
         "26.611244081903486",
         "0.0",
         "14.0",
         "33.0",
         "58.0",
         "98.0"
        ],
        [
         "Discussion groups",
         "480.0",
         "43.28333333333333",
         "27.637735038376356",
         "1.0",
         "20.0",
         "39.0",
         "70.0",
         "99.0"
        ]
       ],
       "shape": {
        "columns": 8,
        "rows": 4
       }
      },
      "text/html": [
       "<div>\n",
       "<style scoped>\n",
       "    .dataframe tbody tr th:only-of-type {\n",
       "        vertical-align: middle;\n",
       "    }\n",
       "\n",
       "    .dataframe tbody tr th {\n",
       "        vertical-align: top;\n",
       "    }\n",
       "\n",
       "    .dataframe thead th {\n",
       "        text-align: right;\n",
       "    }\n",
       "</style>\n",
       "<table border=\"1\" class=\"dataframe\">\n",
       "  <thead>\n",
       "    <tr style=\"text-align: right;\">\n",
       "      <th></th>\n",
       "      <th>count</th>\n",
       "      <th>mean</th>\n",
       "      <th>std</th>\n",
       "      <th>min</th>\n",
       "      <th>25%</th>\n",
       "      <th>50%</th>\n",
       "      <th>75%</th>\n",
       "      <th>max</th>\n",
       "    </tr>\n",
       "  </thead>\n",
       "  <tbody>\n",
       "    <tr>\n",
       "      <th>Raised hand</th>\n",
       "      <td>480.0</td>\n",
       "      <td>46.775000</td>\n",
       "      <td>30.779223</td>\n",
       "      <td>0.0</td>\n",
       "      <td>15.75</td>\n",
       "      <td>50.0</td>\n",
       "      <td>75.0</td>\n",
       "      <td>100.0</td>\n",
       "    </tr>\n",
       "    <tr>\n",
       "      <th>Visited resources</th>\n",
       "      <td>480.0</td>\n",
       "      <td>54.797917</td>\n",
       "      <td>33.080007</td>\n",
       "      <td>0.0</td>\n",
       "      <td>20.00</td>\n",
       "      <td>65.0</td>\n",
       "      <td>84.0</td>\n",
       "      <td>99.0</td>\n",
       "    </tr>\n",
       "    <tr>\n",
       "      <th>Viewing announcements</th>\n",
       "      <td>480.0</td>\n",
       "      <td>37.918750</td>\n",
       "      <td>26.611244</td>\n",
       "      <td>0.0</td>\n",
       "      <td>14.00</td>\n",
       "      <td>33.0</td>\n",
       "      <td>58.0</td>\n",
       "      <td>98.0</td>\n",
       "    </tr>\n",
       "    <tr>\n",
       "      <th>Discussion groups</th>\n",
       "      <td>480.0</td>\n",
       "      <td>43.283333</td>\n",
       "      <td>27.637735</td>\n",
       "      <td>1.0</td>\n",
       "      <td>20.00</td>\n",
       "      <td>39.0</td>\n",
       "      <td>70.0</td>\n",
       "      <td>99.0</td>\n",
       "    </tr>\n",
       "  </tbody>\n",
       "</table>\n",
       "</div>"
      ],
      "text/plain": [
       "                       count       mean        std  min    25%   50%   75%  \\\n",
       "Raised hand            480.0  46.775000  30.779223  0.0  15.75  50.0  75.0   \n",
       "Visited resources      480.0  54.797917  33.080007  0.0  20.00  65.0  84.0   \n",
       "Viewing announcements  480.0  37.918750  26.611244  0.0  14.00  33.0  58.0   \n",
       "Discussion groups      480.0  43.283333  27.637735  1.0  20.00  39.0  70.0   \n",
       "\n",
       "                         max  \n",
       "Raised hand            100.0  \n",
       "Visited resources       99.0  \n",
       "Viewing announcements   98.0  \n",
       "Discussion groups       99.0  "
      ]
     },
     "metadata": {},
     "output_type": "display_data"
    },
    {
     "name": "stdout",
     "output_type": "stream",
     "text": [
      "────────────────────────────────────────────────────────────────────────────────────────────────────\n",
      "🌋 Descripción de los datos no-numéricos:\n"
     ]
    },
    {
     "data": {
      "application/vnd.microsoft.datawrangler.viewer.v0+json": {
       "columns": [
        {
         "name": "index",
         "rawType": "object",
         "type": "string"
        },
        {
         "name": "count",
         "rawType": "object",
         "type": "unknown"
        },
        {
         "name": "unique",
         "rawType": "object",
         "type": "unknown"
        },
        {
         "name": "top",
         "rawType": "object",
         "type": "string"
        },
        {
         "name": "freq",
         "rawType": "object",
         "type": "unknown"
        }
       ],
       "ref": "0fb42d2a-4543-4764-ad73-3c9ca815071d",
       "rows": [
        [
         "Gender",
         "480",
         "4",
         "Male,",
         "160"
        ],
        [
         "Nationality",
         "480",
         "14",
         "KuwaIT",
         "179"
        ],
        [
         "Place of birth",
         "480",
         "14",
         "KuwaIT",
         "180"
        ],
        [
         "Educational Stages ",
         "480",
         "3",
         "MiddleSchool",
         "248"
        ],
        [
         "Grade Levels",
         "480",
         "10",
         "G-02",
         "147"
        ],
        [
         "Section ID",
         "480",
         "3",
         "A",
         "283"
        ],
        [
         "Topic",
         "480",
         "12",
         "IT",
         "95"
        ],
        [
         "Semester",
         "480",
         "3",
         "First",
         "244"
        ],
        [
         "Parent responsible for student",
         "480",
         "2",
         "Father",
         "283"
        ],
        [
         "Parent Answering Survey",
         "480",
         "2",
         "Yes",
         "270"
        ],
        [
         "ParentschoolSatisfaction",
         "480",
         "2",
         "Good",
         "292"
        ],
        [
         "StudentAbsenceDays",
         "480",
         "2",
         "Under-7",
         "289"
        ],
        [
         "Total",
         "480",
         "4",
         "Middle-Level",
         "210"
        ]
       ],
       "shape": {
        "columns": 4,
        "rows": 13
       }
      },
      "text/html": [
       "<div>\n",
       "<style scoped>\n",
       "    .dataframe tbody tr th:only-of-type {\n",
       "        vertical-align: middle;\n",
       "    }\n",
       "\n",
       "    .dataframe tbody tr th {\n",
       "        vertical-align: top;\n",
       "    }\n",
       "\n",
       "    .dataframe thead th {\n",
       "        text-align: right;\n",
       "    }\n",
       "</style>\n",
       "<table border=\"1\" class=\"dataframe\">\n",
       "  <thead>\n",
       "    <tr style=\"text-align: right;\">\n",
       "      <th></th>\n",
       "      <th>count</th>\n",
       "      <th>unique</th>\n",
       "      <th>top</th>\n",
       "      <th>freq</th>\n",
       "    </tr>\n",
       "  </thead>\n",
       "  <tbody>\n",
       "    <tr>\n",
       "      <th>Gender</th>\n",
       "      <td>480</td>\n",
       "      <td>4</td>\n",
       "      <td>Male,</td>\n",
       "      <td>160</td>\n",
       "    </tr>\n",
       "    <tr>\n",
       "      <th>Nationality</th>\n",
       "      <td>480</td>\n",
       "      <td>14</td>\n",
       "      <td>KuwaIT</td>\n",
       "      <td>179</td>\n",
       "    </tr>\n",
       "    <tr>\n",
       "      <th>Place of birth</th>\n",
       "      <td>480</td>\n",
       "      <td>14</td>\n",
       "      <td>KuwaIT</td>\n",
       "      <td>180</td>\n",
       "    </tr>\n",
       "    <tr>\n",
       "      <th>Educational Stages</th>\n",
       "      <td>480</td>\n",
       "      <td>3</td>\n",
       "      <td>MiddleSchool</td>\n",
       "      <td>248</td>\n",
       "    </tr>\n",
       "    <tr>\n",
       "      <th>Grade Levels</th>\n",
       "      <td>480</td>\n",
       "      <td>10</td>\n",
       "      <td>G-02</td>\n",
       "      <td>147</td>\n",
       "    </tr>\n",
       "    <tr>\n",
       "      <th>Section ID</th>\n",
       "      <td>480</td>\n",
       "      <td>3</td>\n",
       "      <td>A</td>\n",
       "      <td>283</td>\n",
       "    </tr>\n",
       "    <tr>\n",
       "      <th>Topic</th>\n",
       "      <td>480</td>\n",
       "      <td>12</td>\n",
       "      <td>IT</td>\n",
       "      <td>95</td>\n",
       "    </tr>\n",
       "    <tr>\n",
       "      <th>Semester</th>\n",
       "      <td>480</td>\n",
       "      <td>3</td>\n",
       "      <td>First</td>\n",
       "      <td>244</td>\n",
       "    </tr>\n",
       "    <tr>\n",
       "      <th>Parent responsible for student</th>\n",
       "      <td>480</td>\n",
       "      <td>2</td>\n",
       "      <td>Father</td>\n",
       "      <td>283</td>\n",
       "    </tr>\n",
       "    <tr>\n",
       "      <th>Parent Answering Survey</th>\n",
       "      <td>480</td>\n",
       "      <td>2</td>\n",
       "      <td>Yes</td>\n",
       "      <td>270</td>\n",
       "    </tr>\n",
       "    <tr>\n",
       "      <th>ParentschoolSatisfaction</th>\n",
       "      <td>480</td>\n",
       "      <td>2</td>\n",
       "      <td>Good</td>\n",
       "      <td>292</td>\n",
       "    </tr>\n",
       "    <tr>\n",
       "      <th>StudentAbsenceDays</th>\n",
       "      <td>480</td>\n",
       "      <td>2</td>\n",
       "      <td>Under-7</td>\n",
       "      <td>289</td>\n",
       "    </tr>\n",
       "    <tr>\n",
       "      <th>Total</th>\n",
       "      <td>480</td>\n",
       "      <td>4</td>\n",
       "      <td>Middle-Level</td>\n",
       "      <td>210</td>\n",
       "    </tr>\n",
       "  </tbody>\n",
       "</table>\n",
       "</div>"
      ],
      "text/plain": [
       "                               count unique           top freq\n",
       "Gender                           480      4         Male,  160\n",
       "Nationality                      480     14        KuwaIT  179\n",
       "Place of birth                   480     14        KuwaIT  180\n",
       "Educational Stages               480      3  MiddleSchool  248\n",
       "Grade Levels                     480     10          G-02  147\n",
       "Section ID                       480      3             A  283\n",
       "Topic                            480     12            IT   95\n",
       "Semester                         480      3         First  244\n",
       "Parent responsible for student   480      2        Father  283\n",
       "Parent Answering Survey          480      2           Yes  270\n",
       "ParentschoolSatisfaction         480      2          Good  292\n",
       "StudentAbsenceDays               480      2       Under-7  289\n",
       "Total                            480      4  Middle-Level  210"
      ]
     },
     "metadata": {},
     "output_type": "display_data"
    },
    {
     "name": "stdout",
     "output_type": "stream",
     "text": [
      "────────────────────────────────────────────────────────────────────────────────────────────────────\n",
      "🍂 Número de valores únicos por columna:\n"
     ]
    },
    {
     "data": {
      "application/vnd.microsoft.datawrangler.viewer.v0+json": {
       "columns": [
        {
         "name": "index",
         "rawType": "object",
         "type": "string"
        },
        {
         "name": "0",
         "rawType": "int64",
         "type": "integer"
        }
       ],
       "ref": "1e9a8801-5dd1-455a-92de-fb6ae7ca1122",
       "rows": [
        [
         "Gender",
         "4"
        ],
        [
         "Nationality",
         "14"
        ],
        [
         "Place of birth",
         "14"
        ],
        [
         "Educational Stages ",
         "3"
        ],
        [
         "Grade Levels",
         "10"
        ],
        [
         "Section ID",
         "3"
        ],
        [
         "Topic",
         "12"
        ],
        [
         "Semester",
         "3"
        ],
        [
         "Parent responsible for student",
         "2"
        ],
        [
         "Raised hand",
         "82"
        ],
        [
         "Visited resources",
         "89"
        ],
        [
         "Viewing announcements",
         "88"
        ],
        [
         "Discussion groups",
         "90"
        ],
        [
         "Parent Answering Survey",
         "2"
        ],
        [
         "ParentschoolSatisfaction",
         "2"
        ],
        [
         "StudentAbsenceDays",
         "2"
        ],
        [
         "Total",
         "4"
        ]
       ],
       "shape": {
        "columns": 1,
        "rows": 17
       }
      },
      "text/plain": [
       "Gender                             4\n",
       "Nationality                       14\n",
       "Place of birth                    14\n",
       "Educational Stages                 3\n",
       "Grade Levels                      10\n",
       "Section ID                         3\n",
       "Topic                             12\n",
       "Semester                           3\n",
       "Parent responsible for student     2\n",
       "Raised hand                       82\n",
       "Visited resources                 89\n",
       "Viewing announcements             88\n",
       "Discussion groups                 90\n",
       "Parent Answering Survey            2\n",
       "ParentschoolSatisfaction           2\n",
       "StudentAbsenceDays                 2\n",
       "Total                              4\n",
       "dtype: int64"
      ]
     },
     "metadata": {},
     "output_type": "display_data"
    },
    {
     "name": "stdout",
     "output_type": "stream",
     "text": [
      "────────────────────────────────────────────────────────────────────────────────────────────────────\n",
      "🐖 Valores nulos por columna:\n"
     ]
    },
    {
     "data": {
      "application/vnd.microsoft.datawrangler.viewer.v0+json": {
       "columns": [
        {
         "name": "index",
         "rawType": "object",
         "type": "string"
        },
        {
         "name": "0",
         "rawType": "int64",
         "type": "integer"
        }
       ],
       "ref": "091112da-f687-4fcb-a093-e6f52fc2a556",
       "rows": [
        [
         "Gender",
         "0"
        ],
        [
         "Nationality",
         "0"
        ],
        [
         "Place of birth",
         "0"
        ],
        [
         "Educational Stages ",
         "0"
        ],
        [
         "Grade Levels",
         "0"
        ],
        [
         "Section ID",
         "0"
        ],
        [
         "Topic",
         "0"
        ],
        [
         "Semester",
         "0"
        ],
        [
         "Parent responsible for student",
         "0"
        ],
        [
         "Raised hand",
         "0"
        ],
        [
         "Visited resources",
         "0"
        ],
        [
         "Viewing announcements",
         "0"
        ],
        [
         "Discussion groups",
         "0"
        ],
        [
         "Parent Answering Survey",
         "0"
        ],
        [
         "ParentschoolSatisfaction",
         "0"
        ],
        [
         "StudentAbsenceDays",
         "0"
        ],
        [
         "Total",
         "0"
        ]
       ],
       "shape": {
        "columns": 1,
        "rows": 17
       }
      },
      "text/plain": [
       "Gender                            0\n",
       "Nationality                       0\n",
       "Place of birth                    0\n",
       "Educational Stages                0\n",
       "Grade Levels                      0\n",
       "Section ID                        0\n",
       "Topic                             0\n",
       "Semester                          0\n",
       "Parent responsible for student    0\n",
       "Raised hand                       0\n",
       "Visited resources                 0\n",
       "Viewing announcements             0\n",
       "Discussion groups                 0\n",
       "Parent Answering Survey           0\n",
       "ParentschoolSatisfaction          0\n",
       "StudentAbsenceDays                0\n",
       "Total                             0\n",
       "dtype: int64"
      ]
     },
     "metadata": {},
     "output_type": "display_data"
    },
    {
     "name": "stdout",
     "output_type": "stream",
     "text": [
      "────────────────────────────────────────────────────────────────────────────────────────────────────\n",
      "🐲 Filas duplicadas:\n",
      "📛 Hay 2 filas duplicadas.\n"
     ]
    },
    {
     "data": {
      "application/vnd.microsoft.datawrangler.viewer.v0+json": {
       "columns": [
        {
         "name": "index",
         "rawType": "int64",
         "type": "integer"
        },
        {
         "name": "Gender",
         "rawType": "object",
         "type": "string"
        },
        {
         "name": "Nationality",
         "rawType": "object",
         "type": "string"
        },
        {
         "name": "Place of birth",
         "rawType": "object",
         "type": "string"
        },
        {
         "name": "Educational Stages ",
         "rawType": "object",
         "type": "string"
        },
        {
         "name": "Grade Levels",
         "rawType": "object",
         "type": "string"
        },
        {
         "name": "Section ID",
         "rawType": "object",
         "type": "string"
        },
        {
         "name": "Topic",
         "rawType": "object",
         "type": "string"
        },
        {
         "name": "Semester",
         "rawType": "object",
         "type": "string"
        },
        {
         "name": "Parent responsible for student",
         "rawType": "object",
         "type": "string"
        },
        {
         "name": "Raised hand",
         "rawType": "int64",
         "type": "integer"
        },
        {
         "name": "Visited resources",
         "rawType": "int64",
         "type": "integer"
        },
        {
         "name": "Viewing announcements",
         "rawType": "int64",
         "type": "integer"
        },
        {
         "name": "Discussion groups",
         "rawType": "int64",
         "type": "integer"
        },
        {
         "name": "Parent Answering Survey",
         "rawType": "object",
         "type": "string"
        },
        {
         "name": "ParentschoolSatisfaction",
         "rawType": "object",
         "type": "string"
        },
        {
         "name": "StudentAbsenceDays",
         "rawType": "object",
         "type": "string"
        },
        {
         "name": "Total",
         "rawType": "object",
         "type": "string"
        }
       ],
       "ref": "4b2aa15a-6a8d-4feb-a905-64c23cb86a33",
       "rows": [
        [
         "326",
         "Male,",
         "Jordan",
         "Jordan",
         "lowerlevel",
         "G-02",
         "A",
         "French",
         "First",
         "Father",
         "10",
         "15",
         "10",
         "21",
         "No",
         "Bad",
         "Above-7",
         "Low-Level"
        ],
        [
         "327",
         "Male,",
         "Jordan",
         "Jordan",
         "lowerlevel",
         "G-02",
         "A",
         "French",
         "Second",
         "Father",
         "30",
         "10",
         "20",
         "5",
         "No",
         "Bad",
         "Above-7",
         "Low-Level"
        ]
       ],
       "shape": {
        "columns": 17,
        "rows": 2
       }
      },
      "text/html": [
       "<div>\n",
       "<style scoped>\n",
       "    .dataframe tbody tr th:only-of-type {\n",
       "        vertical-align: middle;\n",
       "    }\n",
       "\n",
       "    .dataframe tbody tr th {\n",
       "        vertical-align: top;\n",
       "    }\n",
       "\n",
       "    .dataframe thead th {\n",
       "        text-align: right;\n",
       "    }\n",
       "</style>\n",
       "<table border=\"1\" class=\"dataframe\">\n",
       "  <thead>\n",
       "    <tr style=\"text-align: right;\">\n",
       "      <th></th>\n",
       "      <th>Gender</th>\n",
       "      <th>Nationality</th>\n",
       "      <th>Place of birth</th>\n",
       "      <th>Educational Stages</th>\n",
       "      <th>Grade Levels</th>\n",
       "      <th>Section ID</th>\n",
       "      <th>Topic</th>\n",
       "      <th>Semester</th>\n",
       "      <th>Parent responsible for student</th>\n",
       "      <th>Raised hand</th>\n",
       "      <th>Visited resources</th>\n",
       "      <th>Viewing announcements</th>\n",
       "      <th>Discussion groups</th>\n",
       "      <th>Parent Answering Survey</th>\n",
       "      <th>ParentschoolSatisfaction</th>\n",
       "      <th>StudentAbsenceDays</th>\n",
       "      <th>Total</th>\n",
       "    </tr>\n",
       "  </thead>\n",
       "  <tbody>\n",
       "    <tr>\n",
       "      <th>326</th>\n",
       "      <td>Male,</td>\n",
       "      <td>Jordan</td>\n",
       "      <td>Jordan</td>\n",
       "      <td>lowerlevel</td>\n",
       "      <td>G-02</td>\n",
       "      <td>A</td>\n",
       "      <td>French</td>\n",
       "      <td>First</td>\n",
       "      <td>Father</td>\n",
       "      <td>10</td>\n",
       "      <td>15</td>\n",
       "      <td>10</td>\n",
       "      <td>21</td>\n",
       "      <td>No</td>\n",
       "      <td>Bad</td>\n",
       "      <td>Above-7</td>\n",
       "      <td>Low-Level</td>\n",
       "    </tr>\n",
       "    <tr>\n",
       "      <th>327</th>\n",
       "      <td>Male,</td>\n",
       "      <td>Jordan</td>\n",
       "      <td>Jordan</td>\n",
       "      <td>lowerlevel</td>\n",
       "      <td>G-02</td>\n",
       "      <td>A</td>\n",
       "      <td>French</td>\n",
       "      <td>Second</td>\n",
       "      <td>Father</td>\n",
       "      <td>30</td>\n",
       "      <td>10</td>\n",
       "      <td>20</td>\n",
       "      <td>5</td>\n",
       "      <td>No</td>\n",
       "      <td>Bad</td>\n",
       "      <td>Above-7</td>\n",
       "      <td>Low-Level</td>\n",
       "    </tr>\n",
       "  </tbody>\n",
       "</table>\n",
       "</div>"
      ],
      "text/plain": [
       "    Gender Nationality Place of birth Educational Stages  Grade Levels  \\\n",
       "326  Male,      Jordan         Jordan          lowerlevel         G-02   \n",
       "327  Male,      Jordan         Jordan          lowerlevel         G-02   \n",
       "\n",
       "    Section ID   Topic Semester Parent responsible for student  Raised hand  \\\n",
       "326          A  French    First                         Father           10   \n",
       "327          A  French   Second                         Father           30   \n",
       "\n",
       "     Visited resources  Viewing announcements  Discussion groups  \\\n",
       "326                 15                     10                 21   \n",
       "327                 10                     20                  5   \n",
       "\n",
       "    Parent Answering Survey ParentschoolSatisfaction StudentAbsenceDays  \\\n",
       "326                      No                      Bad            Above-7   \n",
       "327                      No                      Bad            Above-7   \n",
       "\n",
       "         Total  \n",
       "326  Low-Level  \n",
       "327  Low-Level  "
      ]
     },
     "metadata": {},
     "output_type": "display_data"
    },
    {
     "name": "stdout",
     "output_type": "stream",
     "text": [
      "────────────────────────────────────────────────────────────────────────────────────────────────────\n",
      "🪹 Columnas constantes (solo un valor):\n",
      "✅ No hay columnas constantes.\n",
      "────────────────────────────────────────────────────────────────────────────────────────────────────\n",
      "🚀 Valores únicos en columnas categóricas:\n",
      "🔸 Gender\n",
      "['Male' 'Female' 'Male,' 'Female,']\n",
      "────────────────────────────────────────────────────────────\n",
      "🔸 Nationality\n",
      "['KuwaIT' 'lebanon' 'Egypt' 'SaudiArabia' 'USA' 'Jordan' 'venzuela' 'Iran'\n",
      " 'Tunis' 'Morocco' 'Syria' 'Palestine' 'Iraq' 'Lybia']\n",
      "────────────────────────────────────────────────────────────\n",
      "🔸 Place of birth\n",
      "['KuwaIT' 'lebanon' 'Egypt' 'SaudiArabia' 'USA' 'Jordan' 'venzuela' 'Iran'\n",
      " 'Tunis' 'Morocco' 'Syria' 'Iraq' 'Palestine' 'Lybia']\n",
      "────────────────────────────────────────────────────────────\n",
      "🔸 Educational Stages \n",
      "['lowerlevel' 'MiddleSchool' 'HighSchool']\n",
      "────────────────────────────────────────────────────────────\n",
      "🔸 Grade Levels\n",
      "['G-04' 'G-07' 'G-08' 'G-06' 'G-05' 'G-09' 'G-12' 'G-11' 'G-10' 'G-02']\n",
      "────────────────────────────────────────────────────────────\n",
      "🔸 Section ID\n",
      "['A' 'B' 'C']\n",
      "────────────────────────────────────────────────────────────\n",
      "🔸 Topic\n",
      "['IT' 'Math' 'Arabic' 'Science' 'English' 'Quran' 'Spanish' 'French'\n",
      " 'History' 'Biology' 'Chemistry' 'Geology']\n",
      "────────────────────────────────────────────────────────────\n",
      "🔸 Semester\n",
      "['First' 'Second' 'F']\n",
      "────────────────────────────────────────────────────────────\n",
      "🔸 Parent responsible for student\n",
      "['Father' 'mom']\n",
      "────────────────────────────────────────────────────────────\n",
      "🔸 Parent Answering Survey\n",
      "['Yes' 'No']\n",
      "────────────────────────────────────────────────────────────\n",
      "🔸 ParentschoolSatisfaction\n",
      "['Good' 'Bad']\n",
      "────────────────────────────────────────────────────────────\n",
      "🔸 StudentAbsenceDays\n",
      "['Under-7' 'Above-7']\n",
      "────────────────────────────────────────────────────────────\n",
      "🔸 Total\n",
      "['Middle-Level' 'Low-Level' 'High-Level' '76']\n",
      "────────────────────────────────────────────────────────────\n",
      "────────────────────────────────────────────────────────────────────────────────────────────────────\n",
      "🧬 Tipos de datos por columna:\n"
     ]
    },
    {
     "data": {
      "application/vnd.microsoft.datawrangler.viewer.v0+json": {
       "columns": [
        {
         "name": "index",
         "rawType": "object",
         "type": "unknown"
        },
        {
         "name": "count",
         "rawType": "int64",
         "type": "integer"
        }
       ],
       "ref": "4b77067d-b08e-4d87-b5a9-e5ee06ab9cb3",
       "rows": [
        [
         "object",
         "13"
        ],
        [
         "int64",
         "4"
        ]
       ],
       "shape": {
        "columns": 1,
        "rows": 2
       }
      },
      "text/plain": [
       "object    13\n",
       "int64      4\n",
       "Name: count, dtype: int64"
      ]
     },
     "metadata": {},
     "output_type": "display_data"
    },
    {
     "name": "stdout",
     "output_type": "stream",
     "text": [
      "────────────────────────────────────────────────────────────────────────────────────────────────────\n"
     ]
    }
   ],
   "source": [
    "eda_basico(df2)"
   ]
  }
 ],
 "metadata": {
  "kernelspec": {
   "display_name": "base",
   "language": "python",
   "name": "python3"
  },
  "language_info": {
   "codemirror_mode": {
    "name": "ipython",
    "version": 3
   },
   "file_extension": ".py",
   "mimetype": "text/x-python",
   "name": "python",
   "nbconvert_exporter": "python",
   "pygments_lexer": "ipython3",
   "version": "3.12.7"
  }
 },
 "nbformat": 4,
 "nbformat_minor": 5
}
