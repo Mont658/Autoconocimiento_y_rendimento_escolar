{
 "cells": [
  {
   "cell_type": "code",
   "execution_count": 1,
   "id": "cf6ae74a",
   "metadata": {},
   "outputs": [],
   "source": [
    "# Tratamiento de datos\n",
    "# -----------------------------------------------------------------------\n",
    "import pandas as pd\n",
    "import numpy as np\n",
    "import re\n",
    "\n",
    "# Imputación de nulos usando métodos avanzados estadísticos\n",
    "# -----------------------------------------------------------------------\n",
    "from sklearn.impute import SimpleImputer\n",
    "from sklearn.experimental import enable_iterative_imputer\n",
    "from sklearn.impute import IterativeImputer\n",
    "from sklearn.impute import KNNImputer\n",
    "\n",
    "# Librerías de visualización\n",
    "# -----------------------------------------------------------------------\n",
    "import seaborn as sns\n",
    "import matplotlib.pyplot as plt\n",
    "\n",
    "# Configuración\n",
    "# -----------------------------------------------------------------------\n",
    "pd.set_option('display.max_columns', None) # para poder visualizar todas las columnas de los DataFrames\n",
    "pd.set_option('display.max_rows', None) # ver todas las filas"
   ]
  },
  {
   "cell_type": "code",
   "execution_count": 12,
   "id": "f7d3f382",
   "metadata": {},
   "outputs": [],
   "source": [
    "df1 = pd.read_csv(\"StudentsPerformance.csv\")\n",
    "df2 = pd.read_csv(\"xAPI-Edu-Data.csv\")\n",
    "df3 = pd.read_excel(\"Emotions.xlsx\")\n",
    "df4 = pd.read_csv(\"dataset_emociones_infancia_adolescencia.csv\")"
   ]
  },
  {
   "cell_type": "code",
   "execution_count": 6,
   "id": "08ac889c",
   "metadata": {},
   "outputs": [],
   "source": [
    "# Funcion para realizar un EDA Básico\n",
    "def eda_basico(df):\n",
    "    # 🌷 Mostrar ejemplos de datos para tener una primera idea\n",
    "    print('🌷 Ejemplo de datos del DF:')\n",
    "    display(df.head(3))    # Primeras 3 filas\n",
    "    display(df.tail(3))    # Últimas 3 filas\n",
    "    display(df.sample(3))  # 3 filas aleatorias\n",
    "    print('─' * 100)\n",
    "\n",
    "    # 🌻 Número total de filas (observaciones)\n",
    "    print('🌻 Número de filas:')\n",
    "    print(df.shape[0])\n",
    "    print('─' * 100)\n",
    "\n",
    "    # 🌱 Número total de columnas (variables)\n",
    "    print('🌱 Número de columnas:')\n",
    "    print(df.shape[1])\n",
    "    print('─' * 100)\n",
    "\n",
    "    # 🌼 Información general del DataFrame (tipos, nulos, etc.)\n",
    "    print('🌼 Información de la tabla:')\n",
    "    display(df.info())\n",
    "    print('─' * 100)\n",
    "\n",
    "    # 🌑 Lista con los nombres de las columnas\n",
    "    print('🌑 Nombre de las columnas:')\n",
    "    print(df.columns.tolist())\n",
    "    print('─' * 100)\n",
    "\n",
    "    # 🍄 Estadísticas descriptivas de columnas numéricas\n",
    "    print('🍄 Descripción de los datos numéricos:')\n",
    "    display(df.describe().T)\n",
    "    print('─' * 100)\n",
    "\n",
    "    # 🌋 Estadísticas descriptivas de columnas categóricas (si existen)\n",
    "    print('🌋 Descripción de los datos no-numéricos:')\n",
    "    if not df.select_dtypes(include='object').empty:\n",
    "        display(df.describe(include='object').T)\n",
    "    else:\n",
    "        print('📭 No hay columnas tipo \"object\" en este DataFrame.')\n",
    "    print('─' * 100)\n",
    "\n",
    "    # 🍂 Cuántos valores únicos hay en cada columna\n",
    "    print('🍂 Número de valores únicos por columna:')\n",
    "    display(df.nunique())\n",
    "    print('─' * 100)\n",
    "\n",
    "    # 🐖 Cuántos valores nulos hay en cada columna\n",
    "    print('🐖 Valores nulos por columna:')\n",
    "    display(df.isnull().sum())\n",
    "    print('─' * 100)\n",
    "\n",
    "    # 🐲 Revisión de filas duplicadas\n",
    "    print('🐲 Filas duplicadas:')\n",
    "    duplicados = df.duplicated().sum()\n",
    "    if duplicados > 0:\n",
    "        print(f'📛 Hay {duplicados} filas duplicadas.')\n",
    "        display(df[df.duplicated()].head(3))\n",
    "    else:\n",
    "        print('✅ No hay filas duplicadas.')\n",
    "    print('─' * 100)\n",
    "\n",
    "    # 🪹 Columnas constantes (con solo un valor único)\n",
    "    print('🪹 Columnas constantes (solo un valor):')\n",
    "    constantes = df.columns[df.nunique() <= 1]\n",
    "    if not constantes.empty:\n",
    "        print(f'📌 {len(constantes)} columnas con solo un valor:')\n",
    "        display(constantes.tolist())\n",
    "    else:\n",
    "        print('✅ No hay columnas constantes.')\n",
    "    print('─' * 100)\n",
    "\n",
    "    # 🚀 Ver valores únicos de columnas categóricas (si existen)\n",
    "    print('🚀 Valores únicos en columnas categóricas:')\n",
    "    cat_cols = df.select_dtypes(include='object')\n",
    "    if not cat_cols.empty:\n",
    "        for col in cat_cols.columns:\n",
    "            print(f'🔸 {col}')\n",
    "            print(cat_cols[col].unique())\n",
    "            print('─' * 60)\n",
    "    else:\n",
    "        print('📭 No hay columnas categóricas.')\n",
    "    print('─' * 100)\n",
    "\n",
    "    # 🧬 Resumen de tipos de datos presentes en el DataFrame\n",
    "    print('🧬 Tipos de datos por columna:')\n",
    "    display(df.dtypes.value_counts())\n",
    "    print('─' * 100)"
   ]
  },
  {
   "cell_type": "code",
   "execution_count": 7,
   "id": "49b60b14",
   "metadata": {},
   "outputs": [
    {
     "name": "stdout",
     "output_type": "stream",
     "text": [
      "🌷 Ejemplo de datos del DF:\n"
     ]
    },
    {
     "data": {
      "application/vnd.microsoft.datawrangler.viewer.v0+json": {
       "columns": [
        {
         "name": "index",
         "rawType": "int64",
         "type": "integer"
        },
        {
         "name": "gender",
         "rawType": "object",
         "type": "string"
        },
        {
         "name": "race/ethnicity",
         "rawType": "object",
         "type": "string"
        },
        {
         "name": "parental level of education",
         "rawType": "object",
         "type": "string"
        },
        {
         "name": "lunch",
         "rawType": "object",
         "type": "string"
        },
        {
         "name": "test preparation course",
         "rawType": "object",
         "type": "string"
        },
        {
         "name": "math score",
         "rawType": "int64",
         "type": "integer"
        },
        {
         "name": "reading score",
         "rawType": "int64",
         "type": "integer"
        },
        {
         "name": "writing score",
         "rawType": "int64",
         "type": "integer"
        }
       ],
       "ref": "18fb5800-e19f-4e37-81e2-1cd86665087c",
       "rows": [
        [
         "0",
         "female",
         "group B",
         "bachelor's degree",
         "standard",
         "none",
         "72",
         "72",
         "74"
        ],
        [
         "1",
         "female",
         "group C",
         "some college",
         "standard",
         "completed",
         "69",
         "90",
         "88"
        ],
        [
         "2",
         "female",
         "group B",
         "master's degree",
         "standard",
         "none",
         "90",
         "95",
         "93"
        ]
       ],
       "shape": {
        "columns": 8,
        "rows": 3
       }
      },
      "text/html": [
       "<div>\n",
       "<style scoped>\n",
       "    .dataframe tbody tr th:only-of-type {\n",
       "        vertical-align: middle;\n",
       "    }\n",
       "\n",
       "    .dataframe tbody tr th {\n",
       "        vertical-align: top;\n",
       "    }\n",
       "\n",
       "    .dataframe thead th {\n",
       "        text-align: right;\n",
       "    }\n",
       "</style>\n",
       "<table border=\"1\" class=\"dataframe\">\n",
       "  <thead>\n",
       "    <tr style=\"text-align: right;\">\n",
       "      <th></th>\n",
       "      <th>gender</th>\n",
       "      <th>race/ethnicity</th>\n",
       "      <th>parental level of education</th>\n",
       "      <th>lunch</th>\n",
       "      <th>test preparation course</th>\n",
       "      <th>math score</th>\n",
       "      <th>reading score</th>\n",
       "      <th>writing score</th>\n",
       "    </tr>\n",
       "  </thead>\n",
       "  <tbody>\n",
       "    <tr>\n",
       "      <th>0</th>\n",
       "      <td>female</td>\n",
       "      <td>group B</td>\n",
       "      <td>bachelor's degree</td>\n",
       "      <td>standard</td>\n",
       "      <td>none</td>\n",
       "      <td>72</td>\n",
       "      <td>72</td>\n",
       "      <td>74</td>\n",
       "    </tr>\n",
       "    <tr>\n",
       "      <th>1</th>\n",
       "      <td>female</td>\n",
       "      <td>group C</td>\n",
       "      <td>some college</td>\n",
       "      <td>standard</td>\n",
       "      <td>completed</td>\n",
       "      <td>69</td>\n",
       "      <td>90</td>\n",
       "      <td>88</td>\n",
       "    </tr>\n",
       "    <tr>\n",
       "      <th>2</th>\n",
       "      <td>female</td>\n",
       "      <td>group B</td>\n",
       "      <td>master's degree</td>\n",
       "      <td>standard</td>\n",
       "      <td>none</td>\n",
       "      <td>90</td>\n",
       "      <td>95</td>\n",
       "      <td>93</td>\n",
       "    </tr>\n",
       "  </tbody>\n",
       "</table>\n",
       "</div>"
      ],
      "text/plain": [
       "   gender race/ethnicity parental level of education     lunch  \\\n",
       "0  female        group B           bachelor's degree  standard   \n",
       "1  female        group C                some college  standard   \n",
       "2  female        group B             master's degree  standard   \n",
       "\n",
       "  test preparation course  math score  reading score  writing score  \n",
       "0                    none          72             72             74  \n",
       "1               completed          69             90             88  \n",
       "2                    none          90             95             93  "
      ]
     },
     "metadata": {},
     "output_type": "display_data"
    },
    {
     "data": {
      "application/vnd.microsoft.datawrangler.viewer.v0+json": {
       "columns": [
        {
         "name": "index",
         "rawType": "int64",
         "type": "integer"
        },
        {
         "name": "gender",
         "rawType": "object",
         "type": "string"
        },
        {
         "name": "race/ethnicity",
         "rawType": "object",
         "type": "string"
        },
        {
         "name": "parental level of education",
         "rawType": "object",
         "type": "string"
        },
        {
         "name": "lunch",
         "rawType": "object",
         "type": "string"
        },
        {
         "name": "test preparation course",
         "rawType": "object",
         "type": "string"
        },
        {
         "name": "math score",
         "rawType": "int64",
         "type": "integer"
        },
        {
         "name": "reading score",
         "rawType": "int64",
         "type": "integer"
        },
        {
         "name": "writing score",
         "rawType": "int64",
         "type": "integer"
        }
       ],
       "ref": "e116fdd3-9911-4dd6-b249-b889117bb904",
       "rows": [
        [
         "997",
         "female",
         "group C",
         "high school",
         "free/reduced",
         "completed",
         "59",
         "71",
         "65"
        ],
        [
         "998",
         "female",
         "group D",
         "some college",
         "standard",
         "completed",
         "68",
         "78",
         "77"
        ],
        [
         "999",
         "female",
         "group D",
         "some college",
         "free/reduced",
         "none",
         "77",
         "86",
         "86"
        ]
       ],
       "shape": {
        "columns": 8,
        "rows": 3
       }
      },
      "text/html": [
       "<div>\n",
       "<style scoped>\n",
       "    .dataframe tbody tr th:only-of-type {\n",
       "        vertical-align: middle;\n",
       "    }\n",
       "\n",
       "    .dataframe tbody tr th {\n",
       "        vertical-align: top;\n",
       "    }\n",
       "\n",
       "    .dataframe thead th {\n",
       "        text-align: right;\n",
       "    }\n",
       "</style>\n",
       "<table border=\"1\" class=\"dataframe\">\n",
       "  <thead>\n",
       "    <tr style=\"text-align: right;\">\n",
       "      <th></th>\n",
       "      <th>gender</th>\n",
       "      <th>race/ethnicity</th>\n",
       "      <th>parental level of education</th>\n",
       "      <th>lunch</th>\n",
       "      <th>test preparation course</th>\n",
       "      <th>math score</th>\n",
       "      <th>reading score</th>\n",
       "      <th>writing score</th>\n",
       "    </tr>\n",
       "  </thead>\n",
       "  <tbody>\n",
       "    <tr>\n",
       "      <th>997</th>\n",
       "      <td>female</td>\n",
       "      <td>group C</td>\n",
       "      <td>high school</td>\n",
       "      <td>free/reduced</td>\n",
       "      <td>completed</td>\n",
       "      <td>59</td>\n",
       "      <td>71</td>\n",
       "      <td>65</td>\n",
       "    </tr>\n",
       "    <tr>\n",
       "      <th>998</th>\n",
       "      <td>female</td>\n",
       "      <td>group D</td>\n",
       "      <td>some college</td>\n",
       "      <td>standard</td>\n",
       "      <td>completed</td>\n",
       "      <td>68</td>\n",
       "      <td>78</td>\n",
       "      <td>77</td>\n",
       "    </tr>\n",
       "    <tr>\n",
       "      <th>999</th>\n",
       "      <td>female</td>\n",
       "      <td>group D</td>\n",
       "      <td>some college</td>\n",
       "      <td>free/reduced</td>\n",
       "      <td>none</td>\n",
       "      <td>77</td>\n",
       "      <td>86</td>\n",
       "      <td>86</td>\n",
       "    </tr>\n",
       "  </tbody>\n",
       "</table>\n",
       "</div>"
      ],
      "text/plain": [
       "     gender race/ethnicity parental level of education         lunch  \\\n",
       "997  female        group C                 high school  free/reduced   \n",
       "998  female        group D                some college      standard   \n",
       "999  female        group D                some college  free/reduced   \n",
       "\n",
       "    test preparation course  math score  reading score  writing score  \n",
       "997               completed          59             71             65  \n",
       "998               completed          68             78             77  \n",
       "999                    none          77             86             86  "
      ]
     },
     "metadata": {},
     "output_type": "display_data"
    },
    {
     "data": {
      "application/vnd.microsoft.datawrangler.viewer.v0+json": {
       "columns": [
        {
         "name": "index",
         "rawType": "int64",
         "type": "integer"
        },
        {
         "name": "gender",
         "rawType": "object",
         "type": "string"
        },
        {
         "name": "race/ethnicity",
         "rawType": "object",
         "type": "string"
        },
        {
         "name": "parental level of education",
         "rawType": "object",
         "type": "string"
        },
        {
         "name": "lunch",
         "rawType": "object",
         "type": "string"
        },
        {
         "name": "test preparation course",
         "rawType": "object",
         "type": "string"
        },
        {
         "name": "math score",
         "rawType": "int64",
         "type": "integer"
        },
        {
         "name": "reading score",
         "rawType": "int64",
         "type": "integer"
        },
        {
         "name": "writing score",
         "rawType": "int64",
         "type": "integer"
        }
       ],
       "ref": "7c410a6d-1078-4990-8142-e74868cc4516",
       "rows": [
        [
         "22",
         "male",
         "group D",
         "some college",
         "standard",
         "none",
         "44",
         "54",
         "53"
        ],
        [
         "321",
         "female",
         "group E",
         "high school",
         "standard",
         "none",
         "75",
         "86",
         "79"
        ],
        [
         "85",
         "female",
         "group C",
         "some college",
         "standard",
         "none",
         "73",
         "80",
         "82"
        ]
       ],
       "shape": {
        "columns": 8,
        "rows": 3
       }
      },
      "text/html": [
       "<div>\n",
       "<style scoped>\n",
       "    .dataframe tbody tr th:only-of-type {\n",
       "        vertical-align: middle;\n",
       "    }\n",
       "\n",
       "    .dataframe tbody tr th {\n",
       "        vertical-align: top;\n",
       "    }\n",
       "\n",
       "    .dataframe thead th {\n",
       "        text-align: right;\n",
       "    }\n",
       "</style>\n",
       "<table border=\"1\" class=\"dataframe\">\n",
       "  <thead>\n",
       "    <tr style=\"text-align: right;\">\n",
       "      <th></th>\n",
       "      <th>gender</th>\n",
       "      <th>race/ethnicity</th>\n",
       "      <th>parental level of education</th>\n",
       "      <th>lunch</th>\n",
       "      <th>test preparation course</th>\n",
       "      <th>math score</th>\n",
       "      <th>reading score</th>\n",
       "      <th>writing score</th>\n",
       "    </tr>\n",
       "  </thead>\n",
       "  <tbody>\n",
       "    <tr>\n",
       "      <th>22</th>\n",
       "      <td>male</td>\n",
       "      <td>group D</td>\n",
       "      <td>some college</td>\n",
       "      <td>standard</td>\n",
       "      <td>none</td>\n",
       "      <td>44</td>\n",
       "      <td>54</td>\n",
       "      <td>53</td>\n",
       "    </tr>\n",
       "    <tr>\n",
       "      <th>321</th>\n",
       "      <td>female</td>\n",
       "      <td>group E</td>\n",
       "      <td>high school</td>\n",
       "      <td>standard</td>\n",
       "      <td>none</td>\n",
       "      <td>75</td>\n",
       "      <td>86</td>\n",
       "      <td>79</td>\n",
       "    </tr>\n",
       "    <tr>\n",
       "      <th>85</th>\n",
       "      <td>female</td>\n",
       "      <td>group C</td>\n",
       "      <td>some college</td>\n",
       "      <td>standard</td>\n",
       "      <td>none</td>\n",
       "      <td>73</td>\n",
       "      <td>80</td>\n",
       "      <td>82</td>\n",
       "    </tr>\n",
       "  </tbody>\n",
       "</table>\n",
       "</div>"
      ],
      "text/plain": [
       "     gender race/ethnicity parental level of education     lunch  \\\n",
       "22     male        group D                some college  standard   \n",
       "321  female        group E                 high school  standard   \n",
       "85   female        group C                some college  standard   \n",
       "\n",
       "    test preparation course  math score  reading score  writing score  \n",
       "22                     none          44             54             53  \n",
       "321                    none          75             86             79  \n",
       "85                     none          73             80             82  "
      ]
     },
     "metadata": {},
     "output_type": "display_data"
    },
    {
     "name": "stdout",
     "output_type": "stream",
     "text": [
      "────────────────────────────────────────────────────────────────────────────────────────────────────\n",
      "🌻 Número de filas:\n",
      "1000\n",
      "────────────────────────────────────────────────────────────────────────────────────────────────────\n",
      "🌱 Número de columnas:\n",
      "8\n",
      "────────────────────────────────────────────────────────────────────────────────────────────────────\n",
      "🌼 Información de la tabla:\n",
      "<class 'pandas.core.frame.DataFrame'>\n",
      "RangeIndex: 1000 entries, 0 to 999\n",
      "Data columns (total 8 columns):\n",
      " #   Column                       Non-Null Count  Dtype \n",
      "---  ------                       --------------  ----- \n",
      " 0   gender                       1000 non-null   object\n",
      " 1   race/ethnicity               1000 non-null   object\n",
      " 2   parental level of education  1000 non-null   object\n",
      " 3   lunch                        1000 non-null   object\n",
      " 4   test preparation course      1000 non-null   object\n",
      " 5   math score                   1000 non-null   int64 \n",
      " 6   reading score                1000 non-null   int64 \n",
      " 7   writing score                1000 non-null   int64 \n",
      "dtypes: int64(3), object(5)\n",
      "memory usage: 62.6+ KB\n"
     ]
    },
    {
     "data": {
      "text/plain": [
       "None"
      ]
     },
     "metadata": {},
     "output_type": "display_data"
    },
    {
     "name": "stdout",
     "output_type": "stream",
     "text": [
      "────────────────────────────────────────────────────────────────────────────────────────────────────\n",
      "🌑 Nombre de las columnas:\n",
      "['gender', 'race/ethnicity', 'parental level of education', 'lunch', 'test preparation course', 'math score', 'reading score', 'writing score']\n",
      "────────────────────────────────────────────────────────────────────────────────────────────────────\n",
      "🍄 Descripción de los datos numéricos:\n"
     ]
    },
    {
     "data": {
      "application/vnd.microsoft.datawrangler.viewer.v0+json": {
       "columns": [
        {
         "name": "index",
         "rawType": "object",
         "type": "string"
        },
        {
         "name": "count",
         "rawType": "float64",
         "type": "float"
        },
        {
         "name": "mean",
         "rawType": "float64",
         "type": "float"
        },
        {
         "name": "std",
         "rawType": "float64",
         "type": "float"
        },
        {
         "name": "min",
         "rawType": "float64",
         "type": "float"
        },
        {
         "name": "25%",
         "rawType": "float64",
         "type": "float"
        },
        {
         "name": "50%",
         "rawType": "float64",
         "type": "float"
        },
        {
         "name": "75%",
         "rawType": "float64",
         "type": "float"
        },
        {
         "name": "max",
         "rawType": "float64",
         "type": "float"
        }
       ],
       "ref": "62dcb77b-dcbe-4fac-b70c-c75acf37ab38",
       "rows": [
        [
         "math score",
         "1000.0",
         "66.089",
         "15.163080096009468",
         "0.0",
         "57.0",
         "66.0",
         "77.0",
         "100.0"
        ],
        [
         "reading score",
         "1000.0",
         "69.169",
         "14.60019193725222",
         "17.0",
         "59.0",
         "70.0",
         "79.0",
         "100.0"
        ],
        [
         "writing score",
         "1000.0",
         "68.054",
         "15.195657010869642",
         "10.0",
         "57.75",
         "69.0",
         "79.0",
         "100.0"
        ]
       ],
       "shape": {
        "columns": 8,
        "rows": 3
       }
      },
      "text/html": [
       "<div>\n",
       "<style scoped>\n",
       "    .dataframe tbody tr th:only-of-type {\n",
       "        vertical-align: middle;\n",
       "    }\n",
       "\n",
       "    .dataframe tbody tr th {\n",
       "        vertical-align: top;\n",
       "    }\n",
       "\n",
       "    .dataframe thead th {\n",
       "        text-align: right;\n",
       "    }\n",
       "</style>\n",
       "<table border=\"1\" class=\"dataframe\">\n",
       "  <thead>\n",
       "    <tr style=\"text-align: right;\">\n",
       "      <th></th>\n",
       "      <th>count</th>\n",
       "      <th>mean</th>\n",
       "      <th>std</th>\n",
       "      <th>min</th>\n",
       "      <th>25%</th>\n",
       "      <th>50%</th>\n",
       "      <th>75%</th>\n",
       "      <th>max</th>\n",
       "    </tr>\n",
       "  </thead>\n",
       "  <tbody>\n",
       "    <tr>\n",
       "      <th>math score</th>\n",
       "      <td>1000.0</td>\n",
       "      <td>66.089</td>\n",
       "      <td>15.163080</td>\n",
       "      <td>0.0</td>\n",
       "      <td>57.00</td>\n",
       "      <td>66.0</td>\n",
       "      <td>77.0</td>\n",
       "      <td>100.0</td>\n",
       "    </tr>\n",
       "    <tr>\n",
       "      <th>reading score</th>\n",
       "      <td>1000.0</td>\n",
       "      <td>69.169</td>\n",
       "      <td>14.600192</td>\n",
       "      <td>17.0</td>\n",
       "      <td>59.00</td>\n",
       "      <td>70.0</td>\n",
       "      <td>79.0</td>\n",
       "      <td>100.0</td>\n",
       "    </tr>\n",
       "    <tr>\n",
       "      <th>writing score</th>\n",
       "      <td>1000.0</td>\n",
       "      <td>68.054</td>\n",
       "      <td>15.195657</td>\n",
       "      <td>10.0</td>\n",
       "      <td>57.75</td>\n",
       "      <td>69.0</td>\n",
       "      <td>79.0</td>\n",
       "      <td>100.0</td>\n",
       "    </tr>\n",
       "  </tbody>\n",
       "</table>\n",
       "</div>"
      ],
      "text/plain": [
       "                count    mean        std   min    25%   50%   75%    max\n",
       "math score     1000.0  66.089  15.163080   0.0  57.00  66.0  77.0  100.0\n",
       "reading score  1000.0  69.169  14.600192  17.0  59.00  70.0  79.0  100.0\n",
       "writing score  1000.0  68.054  15.195657  10.0  57.75  69.0  79.0  100.0"
      ]
     },
     "metadata": {},
     "output_type": "display_data"
    },
    {
     "name": "stdout",
     "output_type": "stream",
     "text": [
      "────────────────────────────────────────────────────────────────────────────────────────────────────\n",
      "🌋 Descripción de los datos no-numéricos:\n"
     ]
    },
    {
     "data": {
      "application/vnd.microsoft.datawrangler.viewer.v0+json": {
       "columns": [
        {
         "name": "index",
         "rawType": "object",
         "type": "string"
        },
        {
         "name": "count",
         "rawType": "object",
         "type": "unknown"
        },
        {
         "name": "unique",
         "rawType": "object",
         "type": "unknown"
        },
        {
         "name": "top",
         "rawType": "object",
         "type": "string"
        },
        {
         "name": "freq",
         "rawType": "object",
         "type": "unknown"
        }
       ],
       "ref": "d2110b11-ac96-4fab-bbf4-46756aea30cc",
       "rows": [
        [
         "gender",
         "1000",
         "2",
         "female",
         "518"
        ],
        [
         "race/ethnicity",
         "1000",
         "5",
         "group C",
         "319"
        ],
        [
         "parental level of education",
         "1000",
         "6",
         "some college",
         "226"
        ],
        [
         "lunch",
         "1000",
         "2",
         "standard",
         "645"
        ],
        [
         "test preparation course",
         "1000",
         "2",
         "none",
         "642"
        ]
       ],
       "shape": {
        "columns": 4,
        "rows": 5
       }
      },
      "text/html": [
       "<div>\n",
       "<style scoped>\n",
       "    .dataframe tbody tr th:only-of-type {\n",
       "        vertical-align: middle;\n",
       "    }\n",
       "\n",
       "    .dataframe tbody tr th {\n",
       "        vertical-align: top;\n",
       "    }\n",
       "\n",
       "    .dataframe thead th {\n",
       "        text-align: right;\n",
       "    }\n",
       "</style>\n",
       "<table border=\"1\" class=\"dataframe\">\n",
       "  <thead>\n",
       "    <tr style=\"text-align: right;\">\n",
       "      <th></th>\n",
       "      <th>count</th>\n",
       "      <th>unique</th>\n",
       "      <th>top</th>\n",
       "      <th>freq</th>\n",
       "    </tr>\n",
       "  </thead>\n",
       "  <tbody>\n",
       "    <tr>\n",
       "      <th>gender</th>\n",
       "      <td>1000</td>\n",
       "      <td>2</td>\n",
       "      <td>female</td>\n",
       "      <td>518</td>\n",
       "    </tr>\n",
       "    <tr>\n",
       "      <th>race/ethnicity</th>\n",
       "      <td>1000</td>\n",
       "      <td>5</td>\n",
       "      <td>group C</td>\n",
       "      <td>319</td>\n",
       "    </tr>\n",
       "    <tr>\n",
       "      <th>parental level of education</th>\n",
       "      <td>1000</td>\n",
       "      <td>6</td>\n",
       "      <td>some college</td>\n",
       "      <td>226</td>\n",
       "    </tr>\n",
       "    <tr>\n",
       "      <th>lunch</th>\n",
       "      <td>1000</td>\n",
       "      <td>2</td>\n",
       "      <td>standard</td>\n",
       "      <td>645</td>\n",
       "    </tr>\n",
       "    <tr>\n",
       "      <th>test preparation course</th>\n",
       "      <td>1000</td>\n",
       "      <td>2</td>\n",
       "      <td>none</td>\n",
       "      <td>642</td>\n",
       "    </tr>\n",
       "  </tbody>\n",
       "</table>\n",
       "</div>"
      ],
      "text/plain": [
       "                            count unique           top freq\n",
       "gender                       1000      2        female  518\n",
       "race/ethnicity               1000      5       group C  319\n",
       "parental level of education  1000      6  some college  226\n",
       "lunch                        1000      2      standard  645\n",
       "test preparation course      1000      2          none  642"
      ]
     },
     "metadata": {},
     "output_type": "display_data"
    },
    {
     "name": "stdout",
     "output_type": "stream",
     "text": [
      "────────────────────────────────────────────────────────────────────────────────────────────────────\n",
      "🍂 Número de valores únicos por columna:\n"
     ]
    },
    {
     "data": {
      "application/vnd.microsoft.datawrangler.viewer.v0+json": {
       "columns": [
        {
         "name": "index",
         "rawType": "object",
         "type": "string"
        },
        {
         "name": "0",
         "rawType": "int64",
         "type": "integer"
        }
       ],
       "ref": "0751c1cf-ab9c-400c-beb1-d36d4b600876",
       "rows": [
        [
         "gender",
         "2"
        ],
        [
         "race/ethnicity",
         "5"
        ],
        [
         "parental level of education",
         "6"
        ],
        [
         "lunch",
         "2"
        ],
        [
         "test preparation course",
         "2"
        ],
        [
         "math score",
         "81"
        ],
        [
         "reading score",
         "72"
        ],
        [
         "writing score",
         "77"
        ]
       ],
       "shape": {
        "columns": 1,
        "rows": 8
       }
      },
      "text/plain": [
       "gender                          2\n",
       "race/ethnicity                  5\n",
       "parental level of education     6\n",
       "lunch                           2\n",
       "test preparation course         2\n",
       "math score                     81\n",
       "reading score                  72\n",
       "writing score                  77\n",
       "dtype: int64"
      ]
     },
     "metadata": {},
     "output_type": "display_data"
    },
    {
     "name": "stdout",
     "output_type": "stream",
     "text": [
      "────────────────────────────────────────────────────────────────────────────────────────────────────\n",
      "🐖 Valores nulos por columna:\n"
     ]
    },
    {
     "data": {
      "application/vnd.microsoft.datawrangler.viewer.v0+json": {
       "columns": [
        {
         "name": "index",
         "rawType": "object",
         "type": "string"
        },
        {
         "name": "0",
         "rawType": "int64",
         "type": "integer"
        }
       ],
       "ref": "fdcb4f38-dc44-468c-a9f5-653c21f7d7eb",
       "rows": [
        [
         "gender",
         "0"
        ],
        [
         "race/ethnicity",
         "0"
        ],
        [
         "parental level of education",
         "0"
        ],
        [
         "lunch",
         "0"
        ],
        [
         "test preparation course",
         "0"
        ],
        [
         "math score",
         "0"
        ],
        [
         "reading score",
         "0"
        ],
        [
         "writing score",
         "0"
        ]
       ],
       "shape": {
        "columns": 1,
        "rows": 8
       }
      },
      "text/plain": [
       "gender                         0\n",
       "race/ethnicity                 0\n",
       "parental level of education    0\n",
       "lunch                          0\n",
       "test preparation course        0\n",
       "math score                     0\n",
       "reading score                  0\n",
       "writing score                  0\n",
       "dtype: int64"
      ]
     },
     "metadata": {},
     "output_type": "display_data"
    },
    {
     "name": "stdout",
     "output_type": "stream",
     "text": [
      "────────────────────────────────────────────────────────────────────────────────────────────────────\n",
      "🐲 Filas duplicadas:\n",
      "✅ No hay filas duplicadas.\n",
      "────────────────────────────────────────────────────────────────────────────────────────────────────\n",
      "🪹 Columnas constantes (solo un valor):\n",
      "✅ No hay columnas constantes.\n",
      "────────────────────────────────────────────────────────────────────────────────────────────────────\n",
      "🚀 Valores únicos en columnas categóricas:\n",
      "🔸 gender\n",
      "['female' 'male']\n",
      "────────────────────────────────────────────────────────────\n",
      "🔸 race/ethnicity\n",
      "['group B' 'group C' 'group A' 'group D' 'group E']\n",
      "────────────────────────────────────────────────────────────\n",
      "🔸 parental level of education\n",
      "[\"bachelor's degree\" 'some college' \"master's degree\" \"associate's degree\"\n",
      " 'high school' 'some high school']\n",
      "────────────────────────────────────────────────────────────\n",
      "🔸 lunch\n",
      "['standard' 'free/reduced']\n",
      "────────────────────────────────────────────────────────────\n",
      "🔸 test preparation course\n",
      "['none' 'completed']\n",
      "────────────────────────────────────────────────────────────\n",
      "────────────────────────────────────────────────────────────────────────────────────────────────────\n",
      "🧬 Tipos de datos por columna:\n"
     ]
    },
    {
     "data": {
      "application/vnd.microsoft.datawrangler.viewer.v0+json": {
       "columns": [
        {
         "name": "index",
         "rawType": "object",
         "type": "unknown"
        },
        {
         "name": "count",
         "rawType": "int64",
         "type": "integer"
        }
       ],
       "ref": "24b174e9-1f53-4c90-8d2b-e74b8ecfc6c7",
       "rows": [
        [
         "object",
         "5"
        ],
        [
         "int64",
         "3"
        ]
       ],
       "shape": {
        "columns": 1,
        "rows": 2
       }
      },
      "text/plain": [
       "object    5\n",
       "int64     3\n",
       "Name: count, dtype: int64"
      ]
     },
     "metadata": {},
     "output_type": "display_data"
    },
    {
     "name": "stdout",
     "output_type": "stream",
     "text": [
      "────────────────────────────────────────────────────────────────────────────────────────────────────\n"
     ]
    }
   ],
   "source": [
    "eda_basico(df1)"
   ]
  },
  {
   "cell_type": "code",
   "execution_count": 8,
   "id": "6b70f137",
   "metadata": {},
   "outputs": [
    {
     "name": "stdout",
     "output_type": "stream",
     "text": [
      "🌷 Ejemplo de datos del DF:\n"
     ]
    },
    {
     "data": {
      "application/vnd.microsoft.datawrangler.viewer.v0+json": {
       "columns": [
        {
         "name": "index",
         "rawType": "int64",
         "type": "integer"
        },
        {
         "name": "Gender",
         "rawType": "object",
         "type": "string"
        },
        {
         "name": "Nationality",
         "rawType": "object",
         "type": "string"
        },
        {
         "name": "Place of birth",
         "rawType": "object",
         "type": "string"
        },
        {
         "name": "Educational Stages ",
         "rawType": "object",
         "type": "string"
        },
        {
         "name": "Grade Levels",
         "rawType": "object",
         "type": "string"
        },
        {
         "name": "Section ID",
         "rawType": "object",
         "type": "string"
        },
        {
         "name": "Topic",
         "rawType": "object",
         "type": "string"
        },
        {
         "name": "Semester",
         "rawType": "object",
         "type": "string"
        },
        {
         "name": "Parent responsible for student",
         "rawType": "object",
         "type": "string"
        },
        {
         "name": "Raised hand",
         "rawType": "int64",
         "type": "integer"
        },
        {
         "name": "Visited resources",
         "rawType": "int64",
         "type": "integer"
        },
        {
         "name": "Viewing announcements",
         "rawType": "int64",
         "type": "integer"
        },
        {
         "name": "Discussion groups",
         "rawType": "int64",
         "type": "integer"
        },
        {
         "name": "Parent Answering Survey",
         "rawType": "object",
         "type": "string"
        },
        {
         "name": "ParentschoolSatisfaction",
         "rawType": "object",
         "type": "string"
        },
        {
         "name": "StudentAbsenceDays",
         "rawType": "object",
         "type": "string"
        },
        {
         "name": "Total",
         "rawType": "object",
         "type": "string"
        }
       ],
       "ref": "e2e07207-0737-49fc-9145-ff493334b595",
       "rows": [
        [
         "0",
         "Male",
         "KuwaIT",
         "KuwaIT",
         "lowerlevel",
         "G-04",
         "A",
         "IT",
         "First",
         "Father",
         "15",
         "16",
         "2",
         "20",
         "Yes",
         "Good",
         "Under-7",
         "Middle-Level"
        ],
        [
         "1",
         "Male",
         "KuwaIT",
         "KuwaIT",
         "lowerlevel",
         "G-04",
         "A",
         "IT",
         "First",
         "Father",
         "20",
         "20",
         "3",
         "25",
         "Yes",
         "Good",
         "Under-7",
         "Middle-Level"
        ],
        [
         "2",
         "Male",
         "KuwaIT",
         "KuwaIT",
         "lowerlevel",
         "G-04",
         "A",
         "IT",
         "First",
         "Father",
         "10",
         "7",
         "0",
         "30",
         "No",
         "Bad",
         "Above-7",
         "Low-Level"
        ]
       ],
       "shape": {
        "columns": 17,
        "rows": 3
       }
      },
      "text/html": [
       "<div>\n",
       "<style scoped>\n",
       "    .dataframe tbody tr th:only-of-type {\n",
       "        vertical-align: middle;\n",
       "    }\n",
       "\n",
       "    .dataframe tbody tr th {\n",
       "        vertical-align: top;\n",
       "    }\n",
       "\n",
       "    .dataframe thead th {\n",
       "        text-align: right;\n",
       "    }\n",
       "</style>\n",
       "<table border=\"1\" class=\"dataframe\">\n",
       "  <thead>\n",
       "    <tr style=\"text-align: right;\">\n",
       "      <th></th>\n",
       "      <th>Gender</th>\n",
       "      <th>Nationality</th>\n",
       "      <th>Place of birth</th>\n",
       "      <th>Educational Stages</th>\n",
       "      <th>Grade Levels</th>\n",
       "      <th>Section ID</th>\n",
       "      <th>Topic</th>\n",
       "      <th>Semester</th>\n",
       "      <th>Parent responsible for student</th>\n",
       "      <th>Raised hand</th>\n",
       "      <th>Visited resources</th>\n",
       "      <th>Viewing announcements</th>\n",
       "      <th>Discussion groups</th>\n",
       "      <th>Parent Answering Survey</th>\n",
       "      <th>ParentschoolSatisfaction</th>\n",
       "      <th>StudentAbsenceDays</th>\n",
       "      <th>Total</th>\n",
       "    </tr>\n",
       "  </thead>\n",
       "  <tbody>\n",
       "    <tr>\n",
       "      <th>0</th>\n",
       "      <td>Male</td>\n",
       "      <td>KuwaIT</td>\n",
       "      <td>KuwaIT</td>\n",
       "      <td>lowerlevel</td>\n",
       "      <td>G-04</td>\n",
       "      <td>A</td>\n",
       "      <td>IT</td>\n",
       "      <td>First</td>\n",
       "      <td>Father</td>\n",
       "      <td>15</td>\n",
       "      <td>16</td>\n",
       "      <td>2</td>\n",
       "      <td>20</td>\n",
       "      <td>Yes</td>\n",
       "      <td>Good</td>\n",
       "      <td>Under-7</td>\n",
       "      <td>Middle-Level</td>\n",
       "    </tr>\n",
       "    <tr>\n",
       "      <th>1</th>\n",
       "      <td>Male</td>\n",
       "      <td>KuwaIT</td>\n",
       "      <td>KuwaIT</td>\n",
       "      <td>lowerlevel</td>\n",
       "      <td>G-04</td>\n",
       "      <td>A</td>\n",
       "      <td>IT</td>\n",
       "      <td>First</td>\n",
       "      <td>Father</td>\n",
       "      <td>20</td>\n",
       "      <td>20</td>\n",
       "      <td>3</td>\n",
       "      <td>25</td>\n",
       "      <td>Yes</td>\n",
       "      <td>Good</td>\n",
       "      <td>Under-7</td>\n",
       "      <td>Middle-Level</td>\n",
       "    </tr>\n",
       "    <tr>\n",
       "      <th>2</th>\n",
       "      <td>Male</td>\n",
       "      <td>KuwaIT</td>\n",
       "      <td>KuwaIT</td>\n",
       "      <td>lowerlevel</td>\n",
       "      <td>G-04</td>\n",
       "      <td>A</td>\n",
       "      <td>IT</td>\n",
       "      <td>First</td>\n",
       "      <td>Father</td>\n",
       "      <td>10</td>\n",
       "      <td>7</td>\n",
       "      <td>0</td>\n",
       "      <td>30</td>\n",
       "      <td>No</td>\n",
       "      <td>Bad</td>\n",
       "      <td>Above-7</td>\n",
       "      <td>Low-Level</td>\n",
       "    </tr>\n",
       "  </tbody>\n",
       "</table>\n",
       "</div>"
      ],
      "text/plain": [
       "  Gender Nationality Place of birth Educational Stages  Grade Levels  \\\n",
       "0   Male      KuwaIT         KuwaIT          lowerlevel         G-04   \n",
       "1   Male      KuwaIT         KuwaIT          lowerlevel         G-04   \n",
       "2   Male      KuwaIT         KuwaIT          lowerlevel         G-04   \n",
       "\n",
       "  Section ID Topic Semester Parent responsible for student  Raised hand  \\\n",
       "0          A    IT    First                         Father           15   \n",
       "1          A    IT    First                         Father           20   \n",
       "2          A    IT    First                         Father           10   \n",
       "\n",
       "   Visited resources  Viewing announcements  Discussion groups  \\\n",
       "0                 16                      2                 20   \n",
       "1                 20                      3                 25   \n",
       "2                  7                      0                 30   \n",
       "\n",
       "  Parent Answering Survey ParentschoolSatisfaction StudentAbsenceDays  \\\n",
       "0                     Yes                     Good            Under-7   \n",
       "1                     Yes                     Good            Under-7   \n",
       "2                      No                      Bad            Above-7   \n",
       "\n",
       "          Total  \n",
       "0  Middle-Level  \n",
       "1  Middle-Level  \n",
       "2     Low-Level  "
      ]
     },
     "metadata": {},
     "output_type": "display_data"
    },
    {
     "data": {
      "application/vnd.microsoft.datawrangler.viewer.v0+json": {
       "columns": [
        {
         "name": "index",
         "rawType": "int64",
         "type": "integer"
        },
        {
         "name": "Gender",
         "rawType": "object",
         "type": "string"
        },
        {
         "name": "Nationality",
         "rawType": "object",
         "type": "string"
        },
        {
         "name": "Place of birth",
         "rawType": "object",
         "type": "string"
        },
        {
         "name": "Educational Stages ",
         "rawType": "object",
         "type": "string"
        },
        {
         "name": "Grade Levels",
         "rawType": "object",
         "type": "string"
        },
        {
         "name": "Section ID",
         "rawType": "object",
         "type": "string"
        },
        {
         "name": "Topic",
         "rawType": "object",
         "type": "string"
        },
        {
         "name": "Semester",
         "rawType": "object",
         "type": "string"
        },
        {
         "name": "Parent responsible for student",
         "rawType": "object",
         "type": "string"
        },
        {
         "name": "Raised hand",
         "rawType": "int64",
         "type": "integer"
        },
        {
         "name": "Visited resources",
         "rawType": "int64",
         "type": "integer"
        },
        {
         "name": "Viewing announcements",
         "rawType": "int64",
         "type": "integer"
        },
        {
         "name": "Discussion groups",
         "rawType": "int64",
         "type": "integer"
        },
        {
         "name": "Parent Answering Survey",
         "rawType": "object",
         "type": "string"
        },
        {
         "name": "ParentschoolSatisfaction",
         "rawType": "object",
         "type": "string"
        },
        {
         "name": "StudentAbsenceDays",
         "rawType": "object",
         "type": "string"
        },
        {
         "name": "Total",
         "rawType": "object",
         "type": "string"
        }
       ],
       "ref": "0b07c0d6-b92f-4e10-8137-8a186a747519",
       "rows": [
        [
         "477",
         "Female",
         "Jordan",
         "Jordan",
         "MiddleSchool",
         "G-08",
         "A",
         "Geology",
         "Second",
         "Father",
         "55",
         "74",
         "25",
         "29",
         "No",
         "Bad",
         "Under-7",
         "Middle-Level"
        ],
        [
         "478",
         "Female",
         "Jordan",
         "Jordan",
         "MiddleSchool",
         "G-08",
         "A",
         "History",
         "First",
         "Father",
         "30",
         "17",
         "14",
         "57",
         "No",
         "Bad",
         "Above-7",
         "Low-Level"
        ],
        [
         "479",
         "Female",
         "Jordan",
         "Jordan",
         "MiddleSchool",
         "G-08",
         "A",
         "History",
         "Second",
         "Father",
         "35",
         "14",
         "23",
         "62",
         "No",
         "Bad",
         "Above-7",
         "Low-Level"
        ]
       ],
       "shape": {
        "columns": 17,
        "rows": 3
       }
      },
      "text/html": [
       "<div>\n",
       "<style scoped>\n",
       "    .dataframe tbody tr th:only-of-type {\n",
       "        vertical-align: middle;\n",
       "    }\n",
       "\n",
       "    .dataframe tbody tr th {\n",
       "        vertical-align: top;\n",
       "    }\n",
       "\n",
       "    .dataframe thead th {\n",
       "        text-align: right;\n",
       "    }\n",
       "</style>\n",
       "<table border=\"1\" class=\"dataframe\">\n",
       "  <thead>\n",
       "    <tr style=\"text-align: right;\">\n",
       "      <th></th>\n",
       "      <th>Gender</th>\n",
       "      <th>Nationality</th>\n",
       "      <th>Place of birth</th>\n",
       "      <th>Educational Stages</th>\n",
       "      <th>Grade Levels</th>\n",
       "      <th>Section ID</th>\n",
       "      <th>Topic</th>\n",
       "      <th>Semester</th>\n",
       "      <th>Parent responsible for student</th>\n",
       "      <th>Raised hand</th>\n",
       "      <th>Visited resources</th>\n",
       "      <th>Viewing announcements</th>\n",
       "      <th>Discussion groups</th>\n",
       "      <th>Parent Answering Survey</th>\n",
       "      <th>ParentschoolSatisfaction</th>\n",
       "      <th>StudentAbsenceDays</th>\n",
       "      <th>Total</th>\n",
       "    </tr>\n",
       "  </thead>\n",
       "  <tbody>\n",
       "    <tr>\n",
       "      <th>477</th>\n",
       "      <td>Female</td>\n",
       "      <td>Jordan</td>\n",
       "      <td>Jordan</td>\n",
       "      <td>MiddleSchool</td>\n",
       "      <td>G-08</td>\n",
       "      <td>A</td>\n",
       "      <td>Geology</td>\n",
       "      <td>Second</td>\n",
       "      <td>Father</td>\n",
       "      <td>55</td>\n",
       "      <td>74</td>\n",
       "      <td>25</td>\n",
       "      <td>29</td>\n",
       "      <td>No</td>\n",
       "      <td>Bad</td>\n",
       "      <td>Under-7</td>\n",
       "      <td>Middle-Level</td>\n",
       "    </tr>\n",
       "    <tr>\n",
       "      <th>478</th>\n",
       "      <td>Female</td>\n",
       "      <td>Jordan</td>\n",
       "      <td>Jordan</td>\n",
       "      <td>MiddleSchool</td>\n",
       "      <td>G-08</td>\n",
       "      <td>A</td>\n",
       "      <td>History</td>\n",
       "      <td>First</td>\n",
       "      <td>Father</td>\n",
       "      <td>30</td>\n",
       "      <td>17</td>\n",
       "      <td>14</td>\n",
       "      <td>57</td>\n",
       "      <td>No</td>\n",
       "      <td>Bad</td>\n",
       "      <td>Above-7</td>\n",
       "      <td>Low-Level</td>\n",
       "    </tr>\n",
       "    <tr>\n",
       "      <th>479</th>\n",
       "      <td>Female</td>\n",
       "      <td>Jordan</td>\n",
       "      <td>Jordan</td>\n",
       "      <td>MiddleSchool</td>\n",
       "      <td>G-08</td>\n",
       "      <td>A</td>\n",
       "      <td>History</td>\n",
       "      <td>Second</td>\n",
       "      <td>Father</td>\n",
       "      <td>35</td>\n",
       "      <td>14</td>\n",
       "      <td>23</td>\n",
       "      <td>62</td>\n",
       "      <td>No</td>\n",
       "      <td>Bad</td>\n",
       "      <td>Above-7</td>\n",
       "      <td>Low-Level</td>\n",
       "    </tr>\n",
       "  </tbody>\n",
       "</table>\n",
       "</div>"
      ],
      "text/plain": [
       "     Gender Nationality Place of birth Educational Stages  Grade Levels  \\\n",
       "477  Female      Jordan         Jordan        MiddleSchool         G-08   \n",
       "478  Female      Jordan         Jordan        MiddleSchool         G-08   \n",
       "479  Female      Jordan         Jordan        MiddleSchool         G-08   \n",
       "\n",
       "    Section ID    Topic Semester Parent responsible for student  Raised hand  \\\n",
       "477          A  Geology   Second                         Father           55   \n",
       "478          A  History    First                         Father           30   \n",
       "479          A  History   Second                         Father           35   \n",
       "\n",
       "     Visited resources  Viewing announcements  Discussion groups  \\\n",
       "477                 74                     25                 29   \n",
       "478                 17                     14                 57   \n",
       "479                 14                     23                 62   \n",
       "\n",
       "    Parent Answering Survey ParentschoolSatisfaction StudentAbsenceDays  \\\n",
       "477                      No                      Bad            Under-7   \n",
       "478                      No                      Bad            Above-7   \n",
       "479                      No                      Bad            Above-7   \n",
       "\n",
       "            Total  \n",
       "477  Middle-Level  \n",
       "478     Low-Level  \n",
       "479     Low-Level  "
      ]
     },
     "metadata": {},
     "output_type": "display_data"
    },
    {
     "data": {
      "application/vnd.microsoft.datawrangler.viewer.v0+json": {
       "columns": [
        {
         "name": "index",
         "rawType": "int64",
         "type": "integer"
        },
        {
         "name": "Gender",
         "rawType": "object",
         "type": "string"
        },
        {
         "name": "Nationality",
         "rawType": "object",
         "type": "string"
        },
        {
         "name": "Place of birth",
         "rawType": "object",
         "type": "string"
        },
        {
         "name": "Educational Stages ",
         "rawType": "object",
         "type": "string"
        },
        {
         "name": "Grade Levels",
         "rawType": "object",
         "type": "string"
        },
        {
         "name": "Section ID",
         "rawType": "object",
         "type": "string"
        },
        {
         "name": "Topic",
         "rawType": "object",
         "type": "string"
        },
        {
         "name": "Semester",
         "rawType": "object",
         "type": "string"
        },
        {
         "name": "Parent responsible for student",
         "rawType": "object",
         "type": "string"
        },
        {
         "name": "Raised hand",
         "rawType": "int64",
         "type": "integer"
        },
        {
         "name": "Visited resources",
         "rawType": "int64",
         "type": "integer"
        },
        {
         "name": "Viewing announcements",
         "rawType": "int64",
         "type": "integer"
        },
        {
         "name": "Discussion groups",
         "rawType": "int64",
         "type": "integer"
        },
        {
         "name": "Parent Answering Survey",
         "rawType": "object",
         "type": "string"
        },
        {
         "name": "ParentschoolSatisfaction",
         "rawType": "object",
         "type": "string"
        },
        {
         "name": "StudentAbsenceDays",
         "rawType": "object",
         "type": "string"
        },
        {
         "name": "Total",
         "rawType": "object",
         "type": "string"
        }
       ],
       "ref": "060678ca-8635-4063-99b3-625d7c79ec06",
       "rows": [
        [
         "56",
         "Male",
         "USA",
         "USA",
         "MiddleSchool",
         "G-08",
         "B",
         "Math",
         "First",
         "Father",
         "19",
         "5",
         "4",
         "1",
         "Yes",
         "Good",
         "Above-7",
         "Low-Level"
        ],
        [
         "103",
         "Male,",
         "KuwaIT",
         "KuwaIT",
         "lowerlevel",
         "G-02",
         "B",
         "IT",
         "First",
         "Father",
         "1",
         "7",
         "6",
         "10",
         "No",
         "Bad",
         "Above-7",
         "Low-Level"
        ],
        [
         "346",
         "Female",
         "Jordan",
         "Jordan",
         "lowerlevel",
         "G-02",
         "B",
         "French",
         "Second",
         "mom",
         "24",
         "97",
         "15",
         "14",
         "No",
         "Good",
         "Under-7",
         "High-Level"
        ]
       ],
       "shape": {
        "columns": 17,
        "rows": 3
       }
      },
      "text/html": [
       "<div>\n",
       "<style scoped>\n",
       "    .dataframe tbody tr th:only-of-type {\n",
       "        vertical-align: middle;\n",
       "    }\n",
       "\n",
       "    .dataframe tbody tr th {\n",
       "        vertical-align: top;\n",
       "    }\n",
       "\n",
       "    .dataframe thead th {\n",
       "        text-align: right;\n",
       "    }\n",
       "</style>\n",
       "<table border=\"1\" class=\"dataframe\">\n",
       "  <thead>\n",
       "    <tr style=\"text-align: right;\">\n",
       "      <th></th>\n",
       "      <th>Gender</th>\n",
       "      <th>Nationality</th>\n",
       "      <th>Place of birth</th>\n",
       "      <th>Educational Stages</th>\n",
       "      <th>Grade Levels</th>\n",
       "      <th>Section ID</th>\n",
       "      <th>Topic</th>\n",
       "      <th>Semester</th>\n",
       "      <th>Parent responsible for student</th>\n",
       "      <th>Raised hand</th>\n",
       "      <th>Visited resources</th>\n",
       "      <th>Viewing announcements</th>\n",
       "      <th>Discussion groups</th>\n",
       "      <th>Parent Answering Survey</th>\n",
       "      <th>ParentschoolSatisfaction</th>\n",
       "      <th>StudentAbsenceDays</th>\n",
       "      <th>Total</th>\n",
       "    </tr>\n",
       "  </thead>\n",
       "  <tbody>\n",
       "    <tr>\n",
       "      <th>56</th>\n",
       "      <td>Male</td>\n",
       "      <td>USA</td>\n",
       "      <td>USA</td>\n",
       "      <td>MiddleSchool</td>\n",
       "      <td>G-08</td>\n",
       "      <td>B</td>\n",
       "      <td>Math</td>\n",
       "      <td>First</td>\n",
       "      <td>Father</td>\n",
       "      <td>19</td>\n",
       "      <td>5</td>\n",
       "      <td>4</td>\n",
       "      <td>1</td>\n",
       "      <td>Yes</td>\n",
       "      <td>Good</td>\n",
       "      <td>Above-7</td>\n",
       "      <td>Low-Level</td>\n",
       "    </tr>\n",
       "    <tr>\n",
       "      <th>103</th>\n",
       "      <td>Male,</td>\n",
       "      <td>KuwaIT</td>\n",
       "      <td>KuwaIT</td>\n",
       "      <td>lowerlevel</td>\n",
       "      <td>G-02</td>\n",
       "      <td>B</td>\n",
       "      <td>IT</td>\n",
       "      <td>First</td>\n",
       "      <td>Father</td>\n",
       "      <td>1</td>\n",
       "      <td>7</td>\n",
       "      <td>6</td>\n",
       "      <td>10</td>\n",
       "      <td>No</td>\n",
       "      <td>Bad</td>\n",
       "      <td>Above-7</td>\n",
       "      <td>Low-Level</td>\n",
       "    </tr>\n",
       "    <tr>\n",
       "      <th>346</th>\n",
       "      <td>Female</td>\n",
       "      <td>Jordan</td>\n",
       "      <td>Jordan</td>\n",
       "      <td>lowerlevel</td>\n",
       "      <td>G-02</td>\n",
       "      <td>B</td>\n",
       "      <td>French</td>\n",
       "      <td>Second</td>\n",
       "      <td>mom</td>\n",
       "      <td>24</td>\n",
       "      <td>97</td>\n",
       "      <td>15</td>\n",
       "      <td>14</td>\n",
       "      <td>No</td>\n",
       "      <td>Good</td>\n",
       "      <td>Under-7</td>\n",
       "      <td>High-Level</td>\n",
       "    </tr>\n",
       "  </tbody>\n",
       "</table>\n",
       "</div>"
      ],
      "text/plain": [
       "     Gender Nationality Place of birth Educational Stages  Grade Levels  \\\n",
       "56     Male         USA            USA        MiddleSchool         G-08   \n",
       "103   Male,      KuwaIT         KuwaIT          lowerlevel         G-02   \n",
       "346  Female      Jordan         Jordan          lowerlevel         G-02   \n",
       "\n",
       "    Section ID   Topic Semester Parent responsible for student  Raised hand  \\\n",
       "56           B    Math    First                         Father           19   \n",
       "103          B      IT    First                         Father            1   \n",
       "346          B  French   Second                            mom           24   \n",
       "\n",
       "     Visited resources  Viewing announcements  Discussion groups  \\\n",
       "56                   5                      4                  1   \n",
       "103                  7                      6                 10   \n",
       "346                 97                     15                 14   \n",
       "\n",
       "    Parent Answering Survey ParentschoolSatisfaction StudentAbsenceDays  \\\n",
       "56                      Yes                     Good            Above-7   \n",
       "103                      No                      Bad            Above-7   \n",
       "346                      No                     Good            Under-7   \n",
       "\n",
       "          Total  \n",
       "56    Low-Level  \n",
       "103   Low-Level  \n",
       "346  High-Level  "
      ]
     },
     "metadata": {},
     "output_type": "display_data"
    },
    {
     "name": "stdout",
     "output_type": "stream",
     "text": [
      "────────────────────────────────────────────────────────────────────────────────────────────────────\n",
      "🌻 Número de filas:\n",
      "480\n",
      "────────────────────────────────────────────────────────────────────────────────────────────────────\n",
      "🌱 Número de columnas:\n",
      "17\n",
      "────────────────────────────────────────────────────────────────────────────────────────────────────\n",
      "🌼 Información de la tabla:\n",
      "<class 'pandas.core.frame.DataFrame'>\n",
      "RangeIndex: 480 entries, 0 to 479\n",
      "Data columns (total 17 columns):\n",
      " #   Column                          Non-Null Count  Dtype \n",
      "---  ------                          --------------  ----- \n",
      " 0   Gender                          480 non-null    object\n",
      " 1   Nationality                     480 non-null    object\n",
      " 2   Place of birth                  480 non-null    object\n",
      " 3   Educational Stages              480 non-null    object\n",
      " 4   Grade Levels                    480 non-null    object\n",
      " 5   Section ID                      480 non-null    object\n",
      " 6   Topic                           480 non-null    object\n",
      " 7   Semester                        480 non-null    object\n",
      " 8   Parent responsible for student  480 non-null    object\n",
      " 9   Raised hand                     480 non-null    int64 \n",
      " 10  Visited resources               480 non-null    int64 \n",
      " 11  Viewing announcements           480 non-null    int64 \n",
      " 12  Discussion groups               480 non-null    int64 \n",
      " 13  Parent Answering Survey         480 non-null    object\n",
      " 14  ParentschoolSatisfaction        480 non-null    object\n",
      " 15  StudentAbsenceDays              480 non-null    object\n",
      " 16  Total                           480 non-null    object\n",
      "dtypes: int64(4), object(13)\n",
      "memory usage: 63.9+ KB\n"
     ]
    },
    {
     "data": {
      "text/plain": [
       "None"
      ]
     },
     "metadata": {},
     "output_type": "display_data"
    },
    {
     "name": "stdout",
     "output_type": "stream",
     "text": [
      "────────────────────────────────────────────────────────────────────────────────────────────────────\n",
      "🌑 Nombre de las columnas:\n",
      "['Gender', 'Nationality', 'Place of birth', 'Educational Stages ', 'Grade Levels', 'Section ID', 'Topic', 'Semester', 'Parent responsible for student', 'Raised hand', 'Visited resources', 'Viewing announcements', 'Discussion groups', 'Parent Answering Survey', 'ParentschoolSatisfaction', 'StudentAbsenceDays', 'Total']\n",
      "────────────────────────────────────────────────────────────────────────────────────────────────────\n",
      "🍄 Descripción de los datos numéricos:\n"
     ]
    },
    {
     "data": {
      "application/vnd.microsoft.datawrangler.viewer.v0+json": {
       "columns": [
        {
         "name": "index",
         "rawType": "object",
         "type": "string"
        },
        {
         "name": "count",
         "rawType": "float64",
         "type": "float"
        },
        {
         "name": "mean",
         "rawType": "float64",
         "type": "float"
        },
        {
         "name": "std",
         "rawType": "float64",
         "type": "float"
        },
        {
         "name": "min",
         "rawType": "float64",
         "type": "float"
        },
        {
         "name": "25%",
         "rawType": "float64",
         "type": "float"
        },
        {
         "name": "50%",
         "rawType": "float64",
         "type": "float"
        },
        {
         "name": "75%",
         "rawType": "float64",
         "type": "float"
        },
        {
         "name": "max",
         "rawType": "float64",
         "type": "float"
        }
       ],
       "ref": "2a0148e6-7839-4a2e-a66e-0e3ea7ba6653",
       "rows": [
        [
         "Raised hand",
         "480.0",
         "46.775",
         "30.779222582734224",
         "0.0",
         "15.75",
         "50.0",
         "75.0",
         "100.0"
        ],
        [
         "Visited resources",
         "480.0",
         "54.797916666666666",
         "33.08000669966417",
         "0.0",
         "20.0",
         "65.0",
         "84.0",
         "99.0"
        ],
        [
         "Viewing announcements",
         "480.0",
         "37.91875",
         "26.611244081903486",
         "0.0",
         "14.0",
         "33.0",
         "58.0",
         "98.0"
        ],
        [
         "Discussion groups",
         "480.0",
         "43.28333333333333",
         "27.637735038376356",
         "1.0",
         "20.0",
         "39.0",
         "70.0",
         "99.0"
        ]
       ],
       "shape": {
        "columns": 8,
        "rows": 4
       }
      },
      "text/html": [
       "<div>\n",
       "<style scoped>\n",
       "    .dataframe tbody tr th:only-of-type {\n",
       "        vertical-align: middle;\n",
       "    }\n",
       "\n",
       "    .dataframe tbody tr th {\n",
       "        vertical-align: top;\n",
       "    }\n",
       "\n",
       "    .dataframe thead th {\n",
       "        text-align: right;\n",
       "    }\n",
       "</style>\n",
       "<table border=\"1\" class=\"dataframe\">\n",
       "  <thead>\n",
       "    <tr style=\"text-align: right;\">\n",
       "      <th></th>\n",
       "      <th>count</th>\n",
       "      <th>mean</th>\n",
       "      <th>std</th>\n",
       "      <th>min</th>\n",
       "      <th>25%</th>\n",
       "      <th>50%</th>\n",
       "      <th>75%</th>\n",
       "      <th>max</th>\n",
       "    </tr>\n",
       "  </thead>\n",
       "  <tbody>\n",
       "    <tr>\n",
       "      <th>Raised hand</th>\n",
       "      <td>480.0</td>\n",
       "      <td>46.775000</td>\n",
       "      <td>30.779223</td>\n",
       "      <td>0.0</td>\n",
       "      <td>15.75</td>\n",
       "      <td>50.0</td>\n",
       "      <td>75.0</td>\n",
       "      <td>100.0</td>\n",
       "    </tr>\n",
       "    <tr>\n",
       "      <th>Visited resources</th>\n",
       "      <td>480.0</td>\n",
       "      <td>54.797917</td>\n",
       "      <td>33.080007</td>\n",
       "      <td>0.0</td>\n",
       "      <td>20.00</td>\n",
       "      <td>65.0</td>\n",
       "      <td>84.0</td>\n",
       "      <td>99.0</td>\n",
       "    </tr>\n",
       "    <tr>\n",
       "      <th>Viewing announcements</th>\n",
       "      <td>480.0</td>\n",
       "      <td>37.918750</td>\n",
       "      <td>26.611244</td>\n",
       "      <td>0.0</td>\n",
       "      <td>14.00</td>\n",
       "      <td>33.0</td>\n",
       "      <td>58.0</td>\n",
       "      <td>98.0</td>\n",
       "    </tr>\n",
       "    <tr>\n",
       "      <th>Discussion groups</th>\n",
       "      <td>480.0</td>\n",
       "      <td>43.283333</td>\n",
       "      <td>27.637735</td>\n",
       "      <td>1.0</td>\n",
       "      <td>20.00</td>\n",
       "      <td>39.0</td>\n",
       "      <td>70.0</td>\n",
       "      <td>99.0</td>\n",
       "    </tr>\n",
       "  </tbody>\n",
       "</table>\n",
       "</div>"
      ],
      "text/plain": [
       "                       count       mean        std  min    25%   50%   75%  \\\n",
       "Raised hand            480.0  46.775000  30.779223  0.0  15.75  50.0  75.0   \n",
       "Visited resources      480.0  54.797917  33.080007  0.0  20.00  65.0  84.0   \n",
       "Viewing announcements  480.0  37.918750  26.611244  0.0  14.00  33.0  58.0   \n",
       "Discussion groups      480.0  43.283333  27.637735  1.0  20.00  39.0  70.0   \n",
       "\n",
       "                         max  \n",
       "Raised hand            100.0  \n",
       "Visited resources       99.0  \n",
       "Viewing announcements   98.0  \n",
       "Discussion groups       99.0  "
      ]
     },
     "metadata": {},
     "output_type": "display_data"
    },
    {
     "name": "stdout",
     "output_type": "stream",
     "text": [
      "────────────────────────────────────────────────────────────────────────────────────────────────────\n",
      "🌋 Descripción de los datos no-numéricos:\n"
     ]
    },
    {
     "data": {
      "application/vnd.microsoft.datawrangler.viewer.v0+json": {
       "columns": [
        {
         "name": "index",
         "rawType": "object",
         "type": "string"
        },
        {
         "name": "count",
         "rawType": "object",
         "type": "unknown"
        },
        {
         "name": "unique",
         "rawType": "object",
         "type": "unknown"
        },
        {
         "name": "top",
         "rawType": "object",
         "type": "string"
        },
        {
         "name": "freq",
         "rawType": "object",
         "type": "unknown"
        }
       ],
       "ref": "0fb42d2a-4543-4764-ad73-3c9ca815071d",
       "rows": [
        [
         "Gender",
         "480",
         "4",
         "Male,",
         "160"
        ],
        [
         "Nationality",
         "480",
         "14",
         "KuwaIT",
         "179"
        ],
        [
         "Place of birth",
         "480",
         "14",
         "KuwaIT",
         "180"
        ],
        [
         "Educational Stages ",
         "480",
         "3",
         "MiddleSchool",
         "248"
        ],
        [
         "Grade Levels",
         "480",
         "10",
         "G-02",
         "147"
        ],
        [
         "Section ID",
         "480",
         "3",
         "A",
         "283"
        ],
        [
         "Topic",
         "480",
         "12",
         "IT",
         "95"
        ],
        [
         "Semester",
         "480",
         "3",
         "First",
         "244"
        ],
        [
         "Parent responsible for student",
         "480",
         "2",
         "Father",
         "283"
        ],
        [
         "Parent Answering Survey",
         "480",
         "2",
         "Yes",
         "270"
        ],
        [
         "ParentschoolSatisfaction",
         "480",
         "2",
         "Good",
         "292"
        ],
        [
         "StudentAbsenceDays",
         "480",
         "2",
         "Under-7",
         "289"
        ],
        [
         "Total",
         "480",
         "4",
         "Middle-Level",
         "210"
        ]
       ],
       "shape": {
        "columns": 4,
        "rows": 13
       }
      },
      "text/html": [
       "<div>\n",
       "<style scoped>\n",
       "    .dataframe tbody tr th:only-of-type {\n",
       "        vertical-align: middle;\n",
       "    }\n",
       "\n",
       "    .dataframe tbody tr th {\n",
       "        vertical-align: top;\n",
       "    }\n",
       "\n",
       "    .dataframe thead th {\n",
       "        text-align: right;\n",
       "    }\n",
       "</style>\n",
       "<table border=\"1\" class=\"dataframe\">\n",
       "  <thead>\n",
       "    <tr style=\"text-align: right;\">\n",
       "      <th></th>\n",
       "      <th>count</th>\n",
       "      <th>unique</th>\n",
       "      <th>top</th>\n",
       "      <th>freq</th>\n",
       "    </tr>\n",
       "  </thead>\n",
       "  <tbody>\n",
       "    <tr>\n",
       "      <th>Gender</th>\n",
       "      <td>480</td>\n",
       "      <td>4</td>\n",
       "      <td>Male,</td>\n",
       "      <td>160</td>\n",
       "    </tr>\n",
       "    <tr>\n",
       "      <th>Nationality</th>\n",
       "      <td>480</td>\n",
       "      <td>14</td>\n",
       "      <td>KuwaIT</td>\n",
       "      <td>179</td>\n",
       "    </tr>\n",
       "    <tr>\n",
       "      <th>Place of birth</th>\n",
       "      <td>480</td>\n",
       "      <td>14</td>\n",
       "      <td>KuwaIT</td>\n",
       "      <td>180</td>\n",
       "    </tr>\n",
       "    <tr>\n",
       "      <th>Educational Stages</th>\n",
       "      <td>480</td>\n",
       "      <td>3</td>\n",
       "      <td>MiddleSchool</td>\n",
       "      <td>248</td>\n",
       "    </tr>\n",
       "    <tr>\n",
       "      <th>Grade Levels</th>\n",
       "      <td>480</td>\n",
       "      <td>10</td>\n",
       "      <td>G-02</td>\n",
       "      <td>147</td>\n",
       "    </tr>\n",
       "    <tr>\n",
       "      <th>Section ID</th>\n",
       "      <td>480</td>\n",
       "      <td>3</td>\n",
       "      <td>A</td>\n",
       "      <td>283</td>\n",
       "    </tr>\n",
       "    <tr>\n",
       "      <th>Topic</th>\n",
       "      <td>480</td>\n",
       "      <td>12</td>\n",
       "      <td>IT</td>\n",
       "      <td>95</td>\n",
       "    </tr>\n",
       "    <tr>\n",
       "      <th>Semester</th>\n",
       "      <td>480</td>\n",
       "      <td>3</td>\n",
       "      <td>First</td>\n",
       "      <td>244</td>\n",
       "    </tr>\n",
       "    <tr>\n",
       "      <th>Parent responsible for student</th>\n",
       "      <td>480</td>\n",
       "      <td>2</td>\n",
       "      <td>Father</td>\n",
       "      <td>283</td>\n",
       "    </tr>\n",
       "    <tr>\n",
       "      <th>Parent Answering Survey</th>\n",
       "      <td>480</td>\n",
       "      <td>2</td>\n",
       "      <td>Yes</td>\n",
       "      <td>270</td>\n",
       "    </tr>\n",
       "    <tr>\n",
       "      <th>ParentschoolSatisfaction</th>\n",
       "      <td>480</td>\n",
       "      <td>2</td>\n",
       "      <td>Good</td>\n",
       "      <td>292</td>\n",
       "    </tr>\n",
       "    <tr>\n",
       "      <th>StudentAbsenceDays</th>\n",
       "      <td>480</td>\n",
       "      <td>2</td>\n",
       "      <td>Under-7</td>\n",
       "      <td>289</td>\n",
       "    </tr>\n",
       "    <tr>\n",
       "      <th>Total</th>\n",
       "      <td>480</td>\n",
       "      <td>4</td>\n",
       "      <td>Middle-Level</td>\n",
       "      <td>210</td>\n",
       "    </tr>\n",
       "  </tbody>\n",
       "</table>\n",
       "</div>"
      ],
      "text/plain": [
       "                               count unique           top freq\n",
       "Gender                           480      4         Male,  160\n",
       "Nationality                      480     14        KuwaIT  179\n",
       "Place of birth                   480     14        KuwaIT  180\n",
       "Educational Stages               480      3  MiddleSchool  248\n",
       "Grade Levels                     480     10          G-02  147\n",
       "Section ID                       480      3             A  283\n",
       "Topic                            480     12            IT   95\n",
       "Semester                         480      3         First  244\n",
       "Parent responsible for student   480      2        Father  283\n",
       "Parent Answering Survey          480      2           Yes  270\n",
       "ParentschoolSatisfaction         480      2          Good  292\n",
       "StudentAbsenceDays               480      2       Under-7  289\n",
       "Total                            480      4  Middle-Level  210"
      ]
     },
     "metadata": {},
     "output_type": "display_data"
    },
    {
     "name": "stdout",
     "output_type": "stream",
     "text": [
      "────────────────────────────────────────────────────────────────────────────────────────────────────\n",
      "🍂 Número de valores únicos por columna:\n"
     ]
    },
    {
     "data": {
      "application/vnd.microsoft.datawrangler.viewer.v0+json": {
       "columns": [
        {
         "name": "index",
         "rawType": "object",
         "type": "string"
        },
        {
         "name": "0",
         "rawType": "int64",
         "type": "integer"
        }
       ],
       "ref": "1e9a8801-5dd1-455a-92de-fb6ae7ca1122",
       "rows": [
        [
         "Gender",
         "4"
        ],
        [
         "Nationality",
         "14"
        ],
        [
         "Place of birth",
         "14"
        ],
        [
         "Educational Stages ",
         "3"
        ],
        [
         "Grade Levels",
         "10"
        ],
        [
         "Section ID",
         "3"
        ],
        [
         "Topic",
         "12"
        ],
        [
         "Semester",
         "3"
        ],
        [
         "Parent responsible for student",
         "2"
        ],
        [
         "Raised hand",
         "82"
        ],
        [
         "Visited resources",
         "89"
        ],
        [
         "Viewing announcements",
         "88"
        ],
        [
         "Discussion groups",
         "90"
        ],
        [
         "Parent Answering Survey",
         "2"
        ],
        [
         "ParentschoolSatisfaction",
         "2"
        ],
        [
         "StudentAbsenceDays",
         "2"
        ],
        [
         "Total",
         "4"
        ]
       ],
       "shape": {
        "columns": 1,
        "rows": 17
       }
      },
      "text/plain": [
       "Gender                             4\n",
       "Nationality                       14\n",
       "Place of birth                    14\n",
       "Educational Stages                 3\n",
       "Grade Levels                      10\n",
       "Section ID                         3\n",
       "Topic                             12\n",
       "Semester                           3\n",
       "Parent responsible for student     2\n",
       "Raised hand                       82\n",
       "Visited resources                 89\n",
       "Viewing announcements             88\n",
       "Discussion groups                 90\n",
       "Parent Answering Survey            2\n",
       "ParentschoolSatisfaction           2\n",
       "StudentAbsenceDays                 2\n",
       "Total                              4\n",
       "dtype: int64"
      ]
     },
     "metadata": {},
     "output_type": "display_data"
    },
    {
     "name": "stdout",
     "output_type": "stream",
     "text": [
      "────────────────────────────────────────────────────────────────────────────────────────────────────\n",
      "🐖 Valores nulos por columna:\n"
     ]
    },
    {
     "data": {
      "application/vnd.microsoft.datawrangler.viewer.v0+json": {
       "columns": [
        {
         "name": "index",
         "rawType": "object",
         "type": "string"
        },
        {
         "name": "0",
         "rawType": "int64",
         "type": "integer"
        }
       ],
       "ref": "091112da-f687-4fcb-a093-e6f52fc2a556",
       "rows": [
        [
         "Gender",
         "0"
        ],
        [
         "Nationality",
         "0"
        ],
        [
         "Place of birth",
         "0"
        ],
        [
         "Educational Stages ",
         "0"
        ],
        [
         "Grade Levels",
         "0"
        ],
        [
         "Section ID",
         "0"
        ],
        [
         "Topic",
         "0"
        ],
        [
         "Semester",
         "0"
        ],
        [
         "Parent responsible for student",
         "0"
        ],
        [
         "Raised hand",
         "0"
        ],
        [
         "Visited resources",
         "0"
        ],
        [
         "Viewing announcements",
         "0"
        ],
        [
         "Discussion groups",
         "0"
        ],
        [
         "Parent Answering Survey",
         "0"
        ],
        [
         "ParentschoolSatisfaction",
         "0"
        ],
        [
         "StudentAbsenceDays",
         "0"
        ],
        [
         "Total",
         "0"
        ]
       ],
       "shape": {
        "columns": 1,
        "rows": 17
       }
      },
      "text/plain": [
       "Gender                            0\n",
       "Nationality                       0\n",
       "Place of birth                    0\n",
       "Educational Stages                0\n",
       "Grade Levels                      0\n",
       "Section ID                        0\n",
       "Topic                             0\n",
       "Semester                          0\n",
       "Parent responsible for student    0\n",
       "Raised hand                       0\n",
       "Visited resources                 0\n",
       "Viewing announcements             0\n",
       "Discussion groups                 0\n",
       "Parent Answering Survey           0\n",
       "ParentschoolSatisfaction          0\n",
       "StudentAbsenceDays                0\n",
       "Total                             0\n",
       "dtype: int64"
      ]
     },
     "metadata": {},
     "output_type": "display_data"
    },
    {
     "name": "stdout",
     "output_type": "stream",
     "text": [
      "────────────────────────────────────────────────────────────────────────────────────────────────────\n",
      "🐲 Filas duplicadas:\n",
      "📛 Hay 2 filas duplicadas.\n"
     ]
    },
    {
     "data": {
      "application/vnd.microsoft.datawrangler.viewer.v0+json": {
       "columns": [
        {
         "name": "index",
         "rawType": "int64",
         "type": "integer"
        },
        {
         "name": "Gender",
         "rawType": "object",
         "type": "string"
        },
        {
         "name": "Nationality",
         "rawType": "object",
         "type": "string"
        },
        {
         "name": "Place of birth",
         "rawType": "object",
         "type": "string"
        },
        {
         "name": "Educational Stages ",
         "rawType": "object",
         "type": "string"
        },
        {
         "name": "Grade Levels",
         "rawType": "object",
         "type": "string"
        },
        {
         "name": "Section ID",
         "rawType": "object",
         "type": "string"
        },
        {
         "name": "Topic",
         "rawType": "object",
         "type": "string"
        },
        {
         "name": "Semester",
         "rawType": "object",
         "type": "string"
        },
        {
         "name": "Parent responsible for student",
         "rawType": "object",
         "type": "string"
        },
        {
         "name": "Raised hand",
         "rawType": "int64",
         "type": "integer"
        },
        {
         "name": "Visited resources",
         "rawType": "int64",
         "type": "integer"
        },
        {
         "name": "Viewing announcements",
         "rawType": "int64",
         "type": "integer"
        },
        {
         "name": "Discussion groups",
         "rawType": "int64",
         "type": "integer"
        },
        {
         "name": "Parent Answering Survey",
         "rawType": "object",
         "type": "string"
        },
        {
         "name": "ParentschoolSatisfaction",
         "rawType": "object",
         "type": "string"
        },
        {
         "name": "StudentAbsenceDays",
         "rawType": "object",
         "type": "string"
        },
        {
         "name": "Total",
         "rawType": "object",
         "type": "string"
        }
       ],
       "ref": "4b2aa15a-6a8d-4feb-a905-64c23cb86a33",
       "rows": [
        [
         "326",
         "Male,",
         "Jordan",
         "Jordan",
         "lowerlevel",
         "G-02",
         "A",
         "French",
         "First",
         "Father",
         "10",
         "15",
         "10",
         "21",
         "No",
         "Bad",
         "Above-7",
         "Low-Level"
        ],
        [
         "327",
         "Male,",
         "Jordan",
         "Jordan",
         "lowerlevel",
         "G-02",
         "A",
         "French",
         "Second",
         "Father",
         "30",
         "10",
         "20",
         "5",
         "No",
         "Bad",
         "Above-7",
         "Low-Level"
        ]
       ],
       "shape": {
        "columns": 17,
        "rows": 2
       }
      },
      "text/html": [
       "<div>\n",
       "<style scoped>\n",
       "    .dataframe tbody tr th:only-of-type {\n",
       "        vertical-align: middle;\n",
       "    }\n",
       "\n",
       "    .dataframe tbody tr th {\n",
       "        vertical-align: top;\n",
       "    }\n",
       "\n",
       "    .dataframe thead th {\n",
       "        text-align: right;\n",
       "    }\n",
       "</style>\n",
       "<table border=\"1\" class=\"dataframe\">\n",
       "  <thead>\n",
       "    <tr style=\"text-align: right;\">\n",
       "      <th></th>\n",
       "      <th>Gender</th>\n",
       "      <th>Nationality</th>\n",
       "      <th>Place of birth</th>\n",
       "      <th>Educational Stages</th>\n",
       "      <th>Grade Levels</th>\n",
       "      <th>Section ID</th>\n",
       "      <th>Topic</th>\n",
       "      <th>Semester</th>\n",
       "      <th>Parent responsible for student</th>\n",
       "      <th>Raised hand</th>\n",
       "      <th>Visited resources</th>\n",
       "      <th>Viewing announcements</th>\n",
       "      <th>Discussion groups</th>\n",
       "      <th>Parent Answering Survey</th>\n",
       "      <th>ParentschoolSatisfaction</th>\n",
       "      <th>StudentAbsenceDays</th>\n",
       "      <th>Total</th>\n",
       "    </tr>\n",
       "  </thead>\n",
       "  <tbody>\n",
       "    <tr>\n",
       "      <th>326</th>\n",
       "      <td>Male,</td>\n",
       "      <td>Jordan</td>\n",
       "      <td>Jordan</td>\n",
       "      <td>lowerlevel</td>\n",
       "      <td>G-02</td>\n",
       "      <td>A</td>\n",
       "      <td>French</td>\n",
       "      <td>First</td>\n",
       "      <td>Father</td>\n",
       "      <td>10</td>\n",
       "      <td>15</td>\n",
       "      <td>10</td>\n",
       "      <td>21</td>\n",
       "      <td>No</td>\n",
       "      <td>Bad</td>\n",
       "      <td>Above-7</td>\n",
       "      <td>Low-Level</td>\n",
       "    </tr>\n",
       "    <tr>\n",
       "      <th>327</th>\n",
       "      <td>Male,</td>\n",
       "      <td>Jordan</td>\n",
       "      <td>Jordan</td>\n",
       "      <td>lowerlevel</td>\n",
       "      <td>G-02</td>\n",
       "      <td>A</td>\n",
       "      <td>French</td>\n",
       "      <td>Second</td>\n",
       "      <td>Father</td>\n",
       "      <td>30</td>\n",
       "      <td>10</td>\n",
       "      <td>20</td>\n",
       "      <td>5</td>\n",
       "      <td>No</td>\n",
       "      <td>Bad</td>\n",
       "      <td>Above-7</td>\n",
       "      <td>Low-Level</td>\n",
       "    </tr>\n",
       "  </tbody>\n",
       "</table>\n",
       "</div>"
      ],
      "text/plain": [
       "    Gender Nationality Place of birth Educational Stages  Grade Levels  \\\n",
       "326  Male,      Jordan         Jordan          lowerlevel         G-02   \n",
       "327  Male,      Jordan         Jordan          lowerlevel         G-02   \n",
       "\n",
       "    Section ID   Topic Semester Parent responsible for student  Raised hand  \\\n",
       "326          A  French    First                         Father           10   \n",
       "327          A  French   Second                         Father           30   \n",
       "\n",
       "     Visited resources  Viewing announcements  Discussion groups  \\\n",
       "326                 15                     10                 21   \n",
       "327                 10                     20                  5   \n",
       "\n",
       "    Parent Answering Survey ParentschoolSatisfaction StudentAbsenceDays  \\\n",
       "326                      No                      Bad            Above-7   \n",
       "327                      No                      Bad            Above-7   \n",
       "\n",
       "         Total  \n",
       "326  Low-Level  \n",
       "327  Low-Level  "
      ]
     },
     "metadata": {},
     "output_type": "display_data"
    },
    {
     "name": "stdout",
     "output_type": "stream",
     "text": [
      "────────────────────────────────────────────────────────────────────────────────────────────────────\n",
      "🪹 Columnas constantes (solo un valor):\n",
      "✅ No hay columnas constantes.\n",
      "────────────────────────────────────────────────────────────────────────────────────────────────────\n",
      "🚀 Valores únicos en columnas categóricas:\n",
      "🔸 Gender\n",
      "['Male' 'Female' 'Male,' 'Female,']\n",
      "────────────────────────────────────────────────────────────\n",
      "🔸 Nationality\n",
      "['KuwaIT' 'lebanon' 'Egypt' 'SaudiArabia' 'USA' 'Jordan' 'venzuela' 'Iran'\n",
      " 'Tunis' 'Morocco' 'Syria' 'Palestine' 'Iraq' 'Lybia']\n",
      "────────────────────────────────────────────────────────────\n",
      "🔸 Place of birth\n",
      "['KuwaIT' 'lebanon' 'Egypt' 'SaudiArabia' 'USA' 'Jordan' 'venzuela' 'Iran'\n",
      " 'Tunis' 'Morocco' 'Syria' 'Iraq' 'Palestine' 'Lybia']\n",
      "────────────────────────────────────────────────────────────\n",
      "🔸 Educational Stages \n",
      "['lowerlevel' 'MiddleSchool' 'HighSchool']\n",
      "────────────────────────────────────────────────────────────\n",
      "🔸 Grade Levels\n",
      "['G-04' 'G-07' 'G-08' 'G-06' 'G-05' 'G-09' 'G-12' 'G-11' 'G-10' 'G-02']\n",
      "────────────────────────────────────────────────────────────\n",
      "🔸 Section ID\n",
      "['A' 'B' 'C']\n",
      "────────────────────────────────────────────────────────────\n",
      "🔸 Topic\n",
      "['IT' 'Math' 'Arabic' 'Science' 'English' 'Quran' 'Spanish' 'French'\n",
      " 'History' 'Biology' 'Chemistry' 'Geology']\n",
      "────────────────────────────────────────────────────────────\n",
      "🔸 Semester\n",
      "['First' 'Second' 'F']\n",
      "────────────────────────────────────────────────────────────\n",
      "🔸 Parent responsible for student\n",
      "['Father' 'mom']\n",
      "────────────────────────────────────────────────────────────\n",
      "🔸 Parent Answering Survey\n",
      "['Yes' 'No']\n",
      "────────────────────────────────────────────────────────────\n",
      "🔸 ParentschoolSatisfaction\n",
      "['Good' 'Bad']\n",
      "────────────────────────────────────────────────────────────\n",
      "🔸 StudentAbsenceDays\n",
      "['Under-7' 'Above-7']\n",
      "────────────────────────────────────────────────────────────\n",
      "🔸 Total\n",
      "['Middle-Level' 'Low-Level' 'High-Level' '76']\n",
      "────────────────────────────────────────────────────────────\n",
      "────────────────────────────────────────────────────────────────────────────────────────────────────\n",
      "🧬 Tipos de datos por columna:\n"
     ]
    },
    {
     "data": {
      "application/vnd.microsoft.datawrangler.viewer.v0+json": {
       "columns": [
        {
         "name": "index",
         "rawType": "object",
         "type": "unknown"
        },
        {
         "name": "count",
         "rawType": "int64",
         "type": "integer"
        }
       ],
       "ref": "4b77067d-b08e-4d87-b5a9-e5ee06ab9cb3",
       "rows": [
        [
         "object",
         "13"
        ],
        [
         "int64",
         "4"
        ]
       ],
       "shape": {
        "columns": 1,
        "rows": 2
       }
      },
      "text/plain": [
       "object    13\n",
       "int64      4\n",
       "Name: count, dtype: int64"
      ]
     },
     "metadata": {},
     "output_type": "display_data"
    },
    {
     "name": "stdout",
     "output_type": "stream",
     "text": [
      "────────────────────────────────────────────────────────────────────────────────────────────────────\n"
     ]
    }
   ],
   "source": [
    "eda_basico(df2)"
   ]
  },
  {
   "cell_type": "code",
   "execution_count": 7,
   "id": "37f6f0d7",
   "metadata": {},
   "outputs": [
    {
     "name": "stdout",
     "output_type": "stream",
     "text": [
      "🌷 Ejemplo de datos del DF:\n"
     ]
    },
    {
     "data": {
      "application/vnd.microsoft.datawrangler.viewer.v0+json": {
       "columns": [
        {
         "name": "index",
         "rawType": "int64",
         "type": "integer"
        },
        {
         "name": "Gender",
         "rawType": "int64",
         "type": "integer"
        },
        {
         "name": "Age",
         "rawType": "int64",
         "type": "integer"
        },
        {
         "name": "Grade",
         "rawType": "int64",
         "type": "integer"
        },
        {
         "name": "School_level",
         "rawType": "int64",
         "type": "integer"
        },
        {
         "name": "Tech_efficacy_1",
         "rawType": "int64",
         "type": "integer"
        },
        {
         "name": "Tech_efficacy_2",
         "rawType": "int64",
         "type": "integer"
        },
        {
         "name": "Tech_efficacy_3",
         "rawType": "int64",
         "type": "integer"
        },
        {
         "name": "Tech_efficacy_4",
         "rawType": "int64",
         "type": "integer"
        },
        {
         "name": "Tech_efficacy_5",
         "rawType": "int64",
         "type": "integer"
        },
        {
         "name": "Tech_efficacy_6",
         "rawType": "int64",
         "type": "integer"
        },
        {
         "name": "Tech_efficacy_7",
         "rawType": "int64",
         "type": "integer"
        },
        {
         "name": "Value_app_1",
         "rawType": "int64",
         "type": "integer"
        },
        {
         "name": "Value_app_2",
         "rawType": "int64",
         "type": "integer"
        },
        {
         "name": "Value_app_3",
         "rawType": "int64",
         "type": "integer"
        },
        {
         "name": "Value_app_4",
         "rawType": "int64",
         "type": "integer"
        },
        {
         "name": "Value_app_5",
         "rawType": "int64",
         "type": "integer"
        },
        {
         "name": "Control_app_1",
         "rawType": "int64",
         "type": "integer"
        },
        {
         "name": "Control_app_2",
         "rawType": "int64",
         "type": "integer"
        },
        {
         "name": "Control_app_3",
         "rawType": "int64",
         "type": "integer"
        },
        {
         "name": "Control_app_4",
         "rawType": "int64",
         "type": "integer"
        },
        {
         "name": "Control_app_5",
         "rawType": "int64",
         "type": "integer"
        },
        {
         "name": "Enjoyment1",
         "rawType": "int64",
         "type": "integer"
        },
        {
         "name": "Enjoyment2",
         "rawType": "int64",
         "type": "integer"
        },
        {
         "name": "Hopefulness1",
         "rawType": "int64",
         "type": "integer"
        },
        {
         "name": "Hopefulness2",
         "rawType": "int64",
         "type": "integer"
        },
        {
         "name": "Pride1",
         "rawType": "int64",
         "type": "integer"
        },
        {
         "name": "Pride2",
         "rawType": "int64",
         "type": "integer"
        },
        {
         "name": "Anxiety1",
         "rawType": "int64",
         "type": "integer"
        },
        {
         "name": "Anxiety2",
         "rawType": "int64",
         "type": "integer"
        },
        {
         "name": "Hopelessness1",
         "rawType": "int64",
         "type": "integer"
        },
        {
         "name": "Hopelessness2",
         "rawType": "int64",
         "type": "integer"
        },
        {
         "name": "Boredom1",
         "rawType": "int64",
         "type": "integer"
        },
        {
         "name": "Boredom2",
         "rawType": "int64",
         "type": "integer"
        },
        {
         "name": "Outcome_goal_1",
         "rawType": "int64",
         "type": "integer"
        },
        {
         "name": "Outcome_goal_2",
         "rawType": "int64",
         "type": "integer"
        },
        {
         "name": "Outcome_goal_3",
         "rawType": "int64",
         "type": "integer"
        },
        {
         "name": "Ability_goal_1",
         "rawType": "int64",
         "type": "integer"
        },
        {
         "name": "Ability_goal_2",
         "rawType": "int64",
         "type": "integer"
        },
        {
         "name": "Ability_goal_3",
         "rawType": "int64",
         "type": "integer"
        },
        {
         "name": "Neg_effort_1",
         "rawType": "int64",
         "type": "integer"
        },
        {
         "name": "Neg_effort_2",
         "rawType": "int64",
         "type": "integer"
        },
        {
         "name": "Neg_effort_3",
         "rawType": "int64",
         "type": "integer"
        },
        {
         "name": "Pos_effort_1",
         "rawType": "int64",
         "type": "integer"
        },
        {
         "name": "Pos_effort_2",
         "rawType": "int64",
         "type": "integer"
        },
        {
         "name": "Pos_effort_3",
         "rawType": "int64",
         "type": "integer"
        },
        {
         "name": "Tech_efficacy_aver",
         "rawType": "float64",
         "type": "float"
        },
        {
         "name": "Control_app_aver",
         "rawType": "float64",
         "type": "float"
        },
        {
         "name": "Value_app_aver",
         "rawType": "float64",
         "type": "float"
        },
        {
         "name": "Enjoyment_aver",
         "rawType": "float64",
         "type": "float"
        },
        {
         "name": "Hopefulness_aver",
         "rawType": "float64",
         "type": "float"
        },
        {
         "name": "Pride_aver",
         "rawType": "float64",
         "type": "float"
        },
        {
         "name": "Anger_aver",
         "rawType": "float64",
         "type": "float"
        },
        {
         "name": "Anxiety_aver",
         "rawType": "float64",
         "type": "float"
        },
        {
         "name": "Shame_aver",
         "rawType": "float64",
         "type": "float"
        },
        {
         "name": "Hopelessness_aver",
         "rawType": "float64",
         "type": "float"
        },
        {
         "name": "Boredom_aver",
         "rawType": "float64",
         "type": "float"
        },
        {
         "name": "Outcome_goal_aver",
         "rawType": "float64",
         "type": "float"
        },
        {
         "name": "Ability_goal_aver",
         "rawType": "float64",
         "type": "float"
        },
        {
         "name": "Neg_effort_aver",
         "rawType": "float64",
         "type": "float"
        },
        {
         "name": "Pos_effort_aver",
         "rawType": "float64",
         "type": "float"
        }
       ],
       "ref": "b2b32cea-451c-4c16-b192-acdc1a3bea75",
       "rows": [
        [
         "0",
         "0",
         "11",
         "4",
         "1",
         "5",
         "5",
         "5",
         "5",
         "4",
         "4",
         "5",
         "4",
         "5",
         "5",
         "4",
         "5",
         "5",
         "4",
         "5",
         "4",
         "5",
         "5",
         "4",
         "4",
         "5",
         "2",
         "2",
         "2",
         "2",
         "2",
         "2",
         "2",
         "2",
         "5",
         "5",
         "4",
         "4",
         "5",
         "5",
         "4",
         "5",
         "4",
         "4",
         "4",
         "5",
         "4.5",
         "4.5",
         "4.6",
         "4.5",
         "4.5",
         "2.0",
         "2.0",
         "2.0",
         "2.0",
         "2.0",
         "2.0",
         "4.666666666666667",
         "4.666666666666667",
         "4.333333333333333",
         "4.333333333333333"
        ],
        [
         "1",
         "0",
         "11",
         "4",
         "1",
         "5",
         "5",
         "5",
         "5",
         "5",
         "4",
         "5",
         "5",
         "4",
         "4",
         "4",
         "4",
         "4",
         "5",
         "5",
         "4",
         "5",
         "4",
         "4",
         "4",
         "4",
         "4",
         "5",
         "2",
         "2",
         "2",
         "2",
         "2",
         "2",
         "5",
         "5",
         "5",
         "5",
         "5",
         "5",
         "3",
         "5",
         "2",
         "5",
         "5",
         "5",
         "4.75",
         "4.5",
         "4.2",
         "4.0",
         "4.0",
         "4.5",
         "4.5",
         "2.0",
         "2.0",
         "2.0",
         "2.0",
         "5.0",
         "5.0",
         "3.3333333333333335",
         "5.0"
        ],
        [
         "2",
         "0",
         "10",
         "4",
         "1",
         "4",
         "4",
         "4",
         "4",
         "4",
         "4",
         "4",
         "4",
         "4",
         "4",
         "4",
         "4",
         "4",
         "4",
         "4",
         "4",
         "4",
         "4",
         "4",
         "4",
         "4",
         "4",
         "4",
         "2",
         "2",
         "2",
         "2",
         "2",
         "1",
         "4",
         "5",
         "4",
         "4",
         "4",
         "4",
         "4",
         "2",
         "3",
         "4",
         "4",
         "4",
         "4.0",
         "4.0",
         "4.0",
         "4.0",
         "4.0",
         "4.0",
         "2.0",
         "2.0",
         "2.5",
         "2.0",
         "1.5",
         "4.333333333333333",
         "4.0",
         "3.0",
         "4.0"
        ]
       ],
       "shape": {
        "columns": 60,
        "rows": 3
       }
      },
      "text/html": [
       "<div>\n",
       "<style scoped>\n",
       "    .dataframe tbody tr th:only-of-type {\n",
       "        vertical-align: middle;\n",
       "    }\n",
       "\n",
       "    .dataframe tbody tr th {\n",
       "        vertical-align: top;\n",
       "    }\n",
       "\n",
       "    .dataframe thead th {\n",
       "        text-align: right;\n",
       "    }\n",
       "</style>\n",
       "<table border=\"1\" class=\"dataframe\">\n",
       "  <thead>\n",
       "    <tr style=\"text-align: right;\">\n",
       "      <th></th>\n",
       "      <th>Gender</th>\n",
       "      <th>Age</th>\n",
       "      <th>Grade</th>\n",
       "      <th>School_level</th>\n",
       "      <th>Tech_efficacy_1</th>\n",
       "      <th>Tech_efficacy_2</th>\n",
       "      <th>Tech_efficacy_3</th>\n",
       "      <th>Tech_efficacy_4</th>\n",
       "      <th>Tech_efficacy_5</th>\n",
       "      <th>Tech_efficacy_6</th>\n",
       "      <th>Tech_efficacy_7</th>\n",
       "      <th>Value_app_1</th>\n",
       "      <th>Value_app_2</th>\n",
       "      <th>Value_app_3</th>\n",
       "      <th>Value_app_4</th>\n",
       "      <th>Value_app_5</th>\n",
       "      <th>Control_app_1</th>\n",
       "      <th>Control_app_2</th>\n",
       "      <th>Control_app_3</th>\n",
       "      <th>Control_app_4</th>\n",
       "      <th>Control_app_5</th>\n",
       "      <th>Enjoyment1</th>\n",
       "      <th>Enjoyment2</th>\n",
       "      <th>Hopefulness1</th>\n",
       "      <th>Hopefulness2</th>\n",
       "      <th>Pride1</th>\n",
       "      <th>Pride2</th>\n",
       "      <th>Anxiety1</th>\n",
       "      <th>Anxiety2</th>\n",
       "      <th>Hopelessness1</th>\n",
       "      <th>Hopelessness2</th>\n",
       "      <th>Boredom1</th>\n",
       "      <th>Boredom2</th>\n",
       "      <th>Outcome_goal_1</th>\n",
       "      <th>Outcome_goal_2</th>\n",
       "      <th>Outcome_goal_3</th>\n",
       "      <th>Ability_goal_1</th>\n",
       "      <th>Ability_goal_2</th>\n",
       "      <th>Ability_goal_3</th>\n",
       "      <th>Neg_effort_1</th>\n",
       "      <th>Neg_effort_2</th>\n",
       "      <th>Neg_effort_3</th>\n",
       "      <th>Pos_effort_1</th>\n",
       "      <th>Pos_effort_2</th>\n",
       "      <th>Pos_effort_3</th>\n",
       "      <th>Tech_efficacy_aver</th>\n",
       "      <th>Control_app_aver</th>\n",
       "      <th>Value_app_aver</th>\n",
       "      <th>Enjoyment_aver</th>\n",
       "      <th>Hopefulness_aver</th>\n",
       "      <th>Pride_aver</th>\n",
       "      <th>Anger_aver</th>\n",
       "      <th>Anxiety_aver</th>\n",
       "      <th>Shame_aver</th>\n",
       "      <th>Hopelessness_aver</th>\n",
       "      <th>Boredom_aver</th>\n",
       "      <th>Outcome_goal_aver</th>\n",
       "      <th>Ability_goal_aver</th>\n",
       "      <th>Neg_effort_aver</th>\n",
       "      <th>Pos_effort_aver</th>\n",
       "    </tr>\n",
       "  </thead>\n",
       "  <tbody>\n",
       "    <tr>\n",
       "      <th>0</th>\n",
       "      <td>0</td>\n",
       "      <td>11</td>\n",
       "      <td>4</td>\n",
       "      <td>1</td>\n",
       "      <td>5</td>\n",
       "      <td>5</td>\n",
       "      <td>5</td>\n",
       "      <td>5</td>\n",
       "      <td>4</td>\n",
       "      <td>4</td>\n",
       "      <td>5</td>\n",
       "      <td>4</td>\n",
       "      <td>5</td>\n",
       "      <td>5</td>\n",
       "      <td>4</td>\n",
       "      <td>5</td>\n",
       "      <td>5</td>\n",
       "      <td>4</td>\n",
       "      <td>5</td>\n",
       "      <td>4</td>\n",
       "      <td>5</td>\n",
       "      <td>5</td>\n",
       "      <td>4</td>\n",
       "      <td>4</td>\n",
       "      <td>5</td>\n",
       "      <td>2</td>\n",
       "      <td>2</td>\n",
       "      <td>2</td>\n",
       "      <td>2</td>\n",
       "      <td>2</td>\n",
       "      <td>2</td>\n",
       "      <td>2</td>\n",
       "      <td>2</td>\n",
       "      <td>5</td>\n",
       "      <td>5</td>\n",
       "      <td>4</td>\n",
       "      <td>4</td>\n",
       "      <td>5</td>\n",
       "      <td>5</td>\n",
       "      <td>4</td>\n",
       "      <td>5</td>\n",
       "      <td>4</td>\n",
       "      <td>4</td>\n",
       "      <td>4</td>\n",
       "      <td>5</td>\n",
       "      <td>4.50</td>\n",
       "      <td>4.5</td>\n",
       "      <td>4.6</td>\n",
       "      <td>4.5</td>\n",
       "      <td>4.5</td>\n",
       "      <td>2.0</td>\n",
       "      <td>2.0</td>\n",
       "      <td>2.0</td>\n",
       "      <td>2.0</td>\n",
       "      <td>2.0</td>\n",
       "      <td>2.0</td>\n",
       "      <td>4.666667</td>\n",
       "      <td>4.666667</td>\n",
       "      <td>4.333333</td>\n",
       "      <td>4.333333</td>\n",
       "    </tr>\n",
       "    <tr>\n",
       "      <th>1</th>\n",
       "      <td>0</td>\n",
       "      <td>11</td>\n",
       "      <td>4</td>\n",
       "      <td>1</td>\n",
       "      <td>5</td>\n",
       "      <td>5</td>\n",
       "      <td>5</td>\n",
       "      <td>5</td>\n",
       "      <td>5</td>\n",
       "      <td>4</td>\n",
       "      <td>5</td>\n",
       "      <td>5</td>\n",
       "      <td>4</td>\n",
       "      <td>4</td>\n",
       "      <td>4</td>\n",
       "      <td>4</td>\n",
       "      <td>4</td>\n",
       "      <td>5</td>\n",
       "      <td>5</td>\n",
       "      <td>4</td>\n",
       "      <td>5</td>\n",
       "      <td>4</td>\n",
       "      <td>4</td>\n",
       "      <td>4</td>\n",
       "      <td>4</td>\n",
       "      <td>4</td>\n",
       "      <td>5</td>\n",
       "      <td>2</td>\n",
       "      <td>2</td>\n",
       "      <td>2</td>\n",
       "      <td>2</td>\n",
       "      <td>2</td>\n",
       "      <td>2</td>\n",
       "      <td>5</td>\n",
       "      <td>5</td>\n",
       "      <td>5</td>\n",
       "      <td>5</td>\n",
       "      <td>5</td>\n",
       "      <td>5</td>\n",
       "      <td>3</td>\n",
       "      <td>5</td>\n",
       "      <td>2</td>\n",
       "      <td>5</td>\n",
       "      <td>5</td>\n",
       "      <td>5</td>\n",
       "      <td>4.75</td>\n",
       "      <td>4.5</td>\n",
       "      <td>4.2</td>\n",
       "      <td>4.0</td>\n",
       "      <td>4.0</td>\n",
       "      <td>4.5</td>\n",
       "      <td>4.5</td>\n",
       "      <td>2.0</td>\n",
       "      <td>2.0</td>\n",
       "      <td>2.0</td>\n",
       "      <td>2.0</td>\n",
       "      <td>5.000000</td>\n",
       "      <td>5.000000</td>\n",
       "      <td>3.333333</td>\n",
       "      <td>5.000000</td>\n",
       "    </tr>\n",
       "    <tr>\n",
       "      <th>2</th>\n",
       "      <td>0</td>\n",
       "      <td>10</td>\n",
       "      <td>4</td>\n",
       "      <td>1</td>\n",
       "      <td>4</td>\n",
       "      <td>4</td>\n",
       "      <td>4</td>\n",
       "      <td>4</td>\n",
       "      <td>4</td>\n",
       "      <td>4</td>\n",
       "      <td>4</td>\n",
       "      <td>4</td>\n",
       "      <td>4</td>\n",
       "      <td>4</td>\n",
       "      <td>4</td>\n",
       "      <td>4</td>\n",
       "      <td>4</td>\n",
       "      <td>4</td>\n",
       "      <td>4</td>\n",
       "      <td>4</td>\n",
       "      <td>4</td>\n",
       "      <td>4</td>\n",
       "      <td>4</td>\n",
       "      <td>4</td>\n",
       "      <td>4</td>\n",
       "      <td>4</td>\n",
       "      <td>4</td>\n",
       "      <td>2</td>\n",
       "      <td>2</td>\n",
       "      <td>2</td>\n",
       "      <td>2</td>\n",
       "      <td>2</td>\n",
       "      <td>1</td>\n",
       "      <td>4</td>\n",
       "      <td>5</td>\n",
       "      <td>4</td>\n",
       "      <td>4</td>\n",
       "      <td>4</td>\n",
       "      <td>4</td>\n",
       "      <td>4</td>\n",
       "      <td>2</td>\n",
       "      <td>3</td>\n",
       "      <td>4</td>\n",
       "      <td>4</td>\n",
       "      <td>4</td>\n",
       "      <td>4.00</td>\n",
       "      <td>4.0</td>\n",
       "      <td>4.0</td>\n",
       "      <td>4.0</td>\n",
       "      <td>4.0</td>\n",
       "      <td>4.0</td>\n",
       "      <td>2.0</td>\n",
       "      <td>2.0</td>\n",
       "      <td>2.5</td>\n",
       "      <td>2.0</td>\n",
       "      <td>1.5</td>\n",
       "      <td>4.333333</td>\n",
       "      <td>4.000000</td>\n",
       "      <td>3.000000</td>\n",
       "      <td>4.000000</td>\n",
       "    </tr>\n",
       "  </tbody>\n",
       "</table>\n",
       "</div>"
      ],
      "text/plain": [
       "   Gender  Age  Grade  School_level  Tech_efficacy_1  Tech_efficacy_2  \\\n",
       "0       0   11      4             1                5                5   \n",
       "1       0   11      4             1                5                5   \n",
       "2       0   10      4             1                4                4   \n",
       "\n",
       "   Tech_efficacy_3  Tech_efficacy_4  Tech_efficacy_5  Tech_efficacy_6  \\\n",
       "0                5                5                4                4   \n",
       "1                5                5                5                4   \n",
       "2                4                4                4                4   \n",
       "\n",
       "   Tech_efficacy_7  Value_app_1  Value_app_2  Value_app_3  Value_app_4  \\\n",
       "0                5            4            5            5            4   \n",
       "1                5            5            4            4            4   \n",
       "2                4            4            4            4            4   \n",
       "\n",
       "   Value_app_5  Control_app_1  Control_app_2  Control_app_3  Control_app_4  \\\n",
       "0            5              5              4              5              4   \n",
       "1            4              4              5              5              4   \n",
       "2            4              4              4              4              4   \n",
       "\n",
       "   Control_app_5  Enjoyment1  Enjoyment2  Hopefulness1  Hopefulness2  Pride1  \\\n",
       "0              5           5           4             4             5       2   \n",
       "1              5           4           4             4             4       4   \n",
       "2              4           4           4             4             4       4   \n",
       "\n",
       "   Pride2  Anxiety1  Anxiety2  Hopelessness1  Hopelessness2  Boredom1  \\\n",
       "0       2         2         2              2              2         2   \n",
       "1       5         2         2              2              2         2   \n",
       "2       4         2         2              2              2         2   \n",
       "\n",
       "   Boredom2  Outcome_goal_1  Outcome_goal_2  Outcome_goal_3  Ability_goal_1  \\\n",
       "0         2               5               5               4               4   \n",
       "1         2               5               5               5               5   \n",
       "2         1               4               5               4               4   \n",
       "\n",
       "   Ability_goal_2  Ability_goal_3  Neg_effort_1  Neg_effort_2  Neg_effort_3  \\\n",
       "0               5               5             4             5             4   \n",
       "1               5               5             3             5             2   \n",
       "2               4               4             4             2             3   \n",
       "\n",
       "   Pos_effort_1  Pos_effort_2  Pos_effort_3  Tech_efficacy_aver  \\\n",
       "0             4             4             5                4.50   \n",
       "1             5             5             5                4.75   \n",
       "2             4             4             4                4.00   \n",
       "\n",
       "   Control_app_aver  Value_app_aver  Enjoyment_aver  Hopefulness_aver  \\\n",
       "0               4.5             4.6             4.5               4.5   \n",
       "1               4.5             4.2             4.0               4.0   \n",
       "2               4.0             4.0             4.0               4.0   \n",
       "\n",
       "   Pride_aver  Anger_aver  Anxiety_aver  Shame_aver  Hopelessness_aver  \\\n",
       "0         2.0         2.0           2.0         2.0                2.0   \n",
       "1         4.5         4.5           2.0         2.0                2.0   \n",
       "2         4.0         2.0           2.0         2.5                2.0   \n",
       "\n",
       "   Boredom_aver  Outcome_goal_aver  Ability_goal_aver  Neg_effort_aver  \\\n",
       "0           2.0           4.666667           4.666667         4.333333   \n",
       "1           2.0           5.000000           5.000000         3.333333   \n",
       "2           1.5           4.333333           4.000000         3.000000   \n",
       "\n",
       "   Pos_effort_aver  \n",
       "0         4.333333  \n",
       "1         5.000000  \n",
       "2         4.000000  "
      ]
     },
     "metadata": {},
     "output_type": "display_data"
    },
    {
     "data": {
      "application/vnd.microsoft.datawrangler.viewer.v0+json": {
       "columns": [
        {
         "name": "index",
         "rawType": "int64",
         "type": "integer"
        },
        {
         "name": "Gender",
         "rawType": "int64",
         "type": "integer"
        },
        {
         "name": "Age",
         "rawType": "int64",
         "type": "integer"
        },
        {
         "name": "Grade",
         "rawType": "int64",
         "type": "integer"
        },
        {
         "name": "School_level",
         "rawType": "int64",
         "type": "integer"
        },
        {
         "name": "Tech_efficacy_1",
         "rawType": "int64",
         "type": "integer"
        },
        {
         "name": "Tech_efficacy_2",
         "rawType": "int64",
         "type": "integer"
        },
        {
         "name": "Tech_efficacy_3",
         "rawType": "int64",
         "type": "integer"
        },
        {
         "name": "Tech_efficacy_4",
         "rawType": "int64",
         "type": "integer"
        },
        {
         "name": "Tech_efficacy_5",
         "rawType": "int64",
         "type": "integer"
        },
        {
         "name": "Tech_efficacy_6",
         "rawType": "int64",
         "type": "integer"
        },
        {
         "name": "Tech_efficacy_7",
         "rawType": "int64",
         "type": "integer"
        },
        {
         "name": "Value_app_1",
         "rawType": "int64",
         "type": "integer"
        },
        {
         "name": "Value_app_2",
         "rawType": "int64",
         "type": "integer"
        },
        {
         "name": "Value_app_3",
         "rawType": "int64",
         "type": "integer"
        },
        {
         "name": "Value_app_4",
         "rawType": "int64",
         "type": "integer"
        },
        {
         "name": "Value_app_5",
         "rawType": "int64",
         "type": "integer"
        },
        {
         "name": "Control_app_1",
         "rawType": "int64",
         "type": "integer"
        },
        {
         "name": "Control_app_2",
         "rawType": "int64",
         "type": "integer"
        },
        {
         "name": "Control_app_3",
         "rawType": "int64",
         "type": "integer"
        },
        {
         "name": "Control_app_4",
         "rawType": "int64",
         "type": "integer"
        },
        {
         "name": "Control_app_5",
         "rawType": "int64",
         "type": "integer"
        },
        {
         "name": "Enjoyment1",
         "rawType": "int64",
         "type": "integer"
        },
        {
         "name": "Enjoyment2",
         "rawType": "int64",
         "type": "integer"
        },
        {
         "name": "Hopefulness1",
         "rawType": "int64",
         "type": "integer"
        },
        {
         "name": "Hopefulness2",
         "rawType": "int64",
         "type": "integer"
        },
        {
         "name": "Pride1",
         "rawType": "int64",
         "type": "integer"
        },
        {
         "name": "Pride2",
         "rawType": "int64",
         "type": "integer"
        },
        {
         "name": "Anxiety1",
         "rawType": "int64",
         "type": "integer"
        },
        {
         "name": "Anxiety2",
         "rawType": "int64",
         "type": "integer"
        },
        {
         "name": "Hopelessness1",
         "rawType": "int64",
         "type": "integer"
        },
        {
         "name": "Hopelessness2",
         "rawType": "int64",
         "type": "integer"
        },
        {
         "name": "Boredom1",
         "rawType": "int64",
         "type": "integer"
        },
        {
         "name": "Boredom2",
         "rawType": "int64",
         "type": "integer"
        },
        {
         "name": "Outcome_goal_1",
         "rawType": "int64",
         "type": "integer"
        },
        {
         "name": "Outcome_goal_2",
         "rawType": "int64",
         "type": "integer"
        },
        {
         "name": "Outcome_goal_3",
         "rawType": "int64",
         "type": "integer"
        },
        {
         "name": "Ability_goal_1",
         "rawType": "int64",
         "type": "integer"
        },
        {
         "name": "Ability_goal_2",
         "rawType": "int64",
         "type": "integer"
        },
        {
         "name": "Ability_goal_3",
         "rawType": "int64",
         "type": "integer"
        },
        {
         "name": "Neg_effort_1",
         "rawType": "int64",
         "type": "integer"
        },
        {
         "name": "Neg_effort_2",
         "rawType": "int64",
         "type": "integer"
        },
        {
         "name": "Neg_effort_3",
         "rawType": "int64",
         "type": "integer"
        },
        {
         "name": "Pos_effort_1",
         "rawType": "int64",
         "type": "integer"
        },
        {
         "name": "Pos_effort_2",
         "rawType": "int64",
         "type": "integer"
        },
        {
         "name": "Pos_effort_3",
         "rawType": "int64",
         "type": "integer"
        },
        {
         "name": "Tech_efficacy_aver",
         "rawType": "float64",
         "type": "float"
        },
        {
         "name": "Control_app_aver",
         "rawType": "float64",
         "type": "float"
        },
        {
         "name": "Value_app_aver",
         "rawType": "float64",
         "type": "float"
        },
        {
         "name": "Enjoyment_aver",
         "rawType": "float64",
         "type": "float"
        },
        {
         "name": "Hopefulness_aver",
         "rawType": "float64",
         "type": "float"
        },
        {
         "name": "Pride_aver",
         "rawType": "float64",
         "type": "float"
        },
        {
         "name": "Anger_aver",
         "rawType": "float64",
         "type": "float"
        },
        {
         "name": "Anxiety_aver",
         "rawType": "float64",
         "type": "float"
        },
        {
         "name": "Shame_aver",
         "rawType": "float64",
         "type": "float"
        },
        {
         "name": "Hopelessness_aver",
         "rawType": "float64",
         "type": "float"
        },
        {
         "name": "Boredom_aver",
         "rawType": "float64",
         "type": "float"
        },
        {
         "name": "Outcome_goal_aver",
         "rawType": "float64",
         "type": "float"
        },
        {
         "name": "Ability_goal_aver",
         "rawType": "float64",
         "type": "float"
        },
        {
         "name": "Neg_effort_aver",
         "rawType": "float64",
         "type": "float"
        },
        {
         "name": "Pos_effort_aver",
         "rawType": "float64",
         "type": "float"
        }
       ],
       "ref": "2fb4da3a-2105-4c44-b8f0-604fb8e56eb4",
       "rows": [
        [
         "2937",
         "0",
         "14",
         "9",
         "3",
         "4",
         "5",
         "5",
         "5",
         "5",
         "4",
         "4",
         "4",
         "4",
         "4",
         "5",
         "4",
         "4",
         "4",
         "3",
         "4",
         "2",
         "4",
         "4",
         "4",
         "4",
         "4",
         "4",
         "2",
         "2",
         "2",
         "2",
         "2",
         "2",
         "4",
         "5",
         "4",
         "5",
         "5",
         "5",
         "1",
         "2",
         "3",
         "4",
         "4",
         "4",
         "4.5",
         "3.5",
         "4.2",
         "4.0",
         "4.0",
         "4.0",
         "2.0",
         "2.0",
         "2.0",
         "2.0",
         "2.0",
         "4.333333333333333",
         "5.0",
         "2.0",
         "4.0"
        ],
        [
         "2938",
         "0",
         "14",
         "9",
         "3",
         "3",
         "4",
         "4",
         "4",
         "4",
         "4",
         "4",
         "3",
         "4",
         "4",
         "4",
         "3",
         "3",
         "4",
         "4",
         "4",
         "3",
         "3",
         "3",
         "4",
         "3",
         "4",
         "4",
         "3",
         "1",
         "1",
         "1",
         "1",
         "1",
         "3",
         "3",
         "3",
         "3",
         "3",
         "3",
         "2",
         "2",
         "3",
         "3",
         "3",
         "3",
         "4.0",
         "3.5",
         "3.6",
         "3.0",
         "3.5",
         "4.0",
         "1.0",
         "2.0",
         "1.0",
         "1.0",
         "1.0",
         "3.0",
         "3.0",
         "2.3333333333333335",
         "3.0"
        ],
        [
         "2939",
         "1",
         "14",
         "9",
         "3",
         "5",
         "5",
         "5",
         "3",
         "5",
         "5",
         "5",
         "5",
         "5",
         "5",
         "5",
         "4",
         "5",
         "5",
         "5",
         "5",
         "5",
         "5",
         "5",
         "5",
         "5",
         "5",
         "5",
         "2",
         "2",
         "1",
         "2",
         "1",
         "2",
         "5",
         "5",
         "5",
         "5",
         "2",
         "2",
         "1",
         "2",
         "1",
         "4",
         "4",
         "5",
         "4.5",
         "5.0",
         "4.8",
         "5.0",
         "5.0",
         "5.0",
         "5.0",
         "2.0",
         "2.0",
         "1.5",
         "1.5",
         "5.0",
         "3.0",
         "1.3333333333333333",
         "4.333333333333333"
        ]
       ],
       "shape": {
        "columns": 60,
        "rows": 3
       }
      },
      "text/html": [
       "<div>\n",
       "<style scoped>\n",
       "    .dataframe tbody tr th:only-of-type {\n",
       "        vertical-align: middle;\n",
       "    }\n",
       "\n",
       "    .dataframe tbody tr th {\n",
       "        vertical-align: top;\n",
       "    }\n",
       "\n",
       "    .dataframe thead th {\n",
       "        text-align: right;\n",
       "    }\n",
       "</style>\n",
       "<table border=\"1\" class=\"dataframe\">\n",
       "  <thead>\n",
       "    <tr style=\"text-align: right;\">\n",
       "      <th></th>\n",
       "      <th>Gender</th>\n",
       "      <th>Age</th>\n",
       "      <th>Grade</th>\n",
       "      <th>School_level</th>\n",
       "      <th>Tech_efficacy_1</th>\n",
       "      <th>Tech_efficacy_2</th>\n",
       "      <th>Tech_efficacy_3</th>\n",
       "      <th>Tech_efficacy_4</th>\n",
       "      <th>Tech_efficacy_5</th>\n",
       "      <th>Tech_efficacy_6</th>\n",
       "      <th>Tech_efficacy_7</th>\n",
       "      <th>Value_app_1</th>\n",
       "      <th>Value_app_2</th>\n",
       "      <th>Value_app_3</th>\n",
       "      <th>Value_app_4</th>\n",
       "      <th>Value_app_5</th>\n",
       "      <th>Control_app_1</th>\n",
       "      <th>Control_app_2</th>\n",
       "      <th>Control_app_3</th>\n",
       "      <th>Control_app_4</th>\n",
       "      <th>Control_app_5</th>\n",
       "      <th>Enjoyment1</th>\n",
       "      <th>Enjoyment2</th>\n",
       "      <th>Hopefulness1</th>\n",
       "      <th>Hopefulness2</th>\n",
       "      <th>Pride1</th>\n",
       "      <th>Pride2</th>\n",
       "      <th>Anxiety1</th>\n",
       "      <th>Anxiety2</th>\n",
       "      <th>Hopelessness1</th>\n",
       "      <th>Hopelessness2</th>\n",
       "      <th>Boredom1</th>\n",
       "      <th>Boredom2</th>\n",
       "      <th>Outcome_goal_1</th>\n",
       "      <th>Outcome_goal_2</th>\n",
       "      <th>Outcome_goal_3</th>\n",
       "      <th>Ability_goal_1</th>\n",
       "      <th>Ability_goal_2</th>\n",
       "      <th>Ability_goal_3</th>\n",
       "      <th>Neg_effort_1</th>\n",
       "      <th>Neg_effort_2</th>\n",
       "      <th>Neg_effort_3</th>\n",
       "      <th>Pos_effort_1</th>\n",
       "      <th>Pos_effort_2</th>\n",
       "      <th>Pos_effort_3</th>\n",
       "      <th>Tech_efficacy_aver</th>\n",
       "      <th>Control_app_aver</th>\n",
       "      <th>Value_app_aver</th>\n",
       "      <th>Enjoyment_aver</th>\n",
       "      <th>Hopefulness_aver</th>\n",
       "      <th>Pride_aver</th>\n",
       "      <th>Anger_aver</th>\n",
       "      <th>Anxiety_aver</th>\n",
       "      <th>Shame_aver</th>\n",
       "      <th>Hopelessness_aver</th>\n",
       "      <th>Boredom_aver</th>\n",
       "      <th>Outcome_goal_aver</th>\n",
       "      <th>Ability_goal_aver</th>\n",
       "      <th>Neg_effort_aver</th>\n",
       "      <th>Pos_effort_aver</th>\n",
       "    </tr>\n",
       "  </thead>\n",
       "  <tbody>\n",
       "    <tr>\n",
       "      <th>2937</th>\n",
       "      <td>0</td>\n",
       "      <td>14</td>\n",
       "      <td>9</td>\n",
       "      <td>3</td>\n",
       "      <td>4</td>\n",
       "      <td>5</td>\n",
       "      <td>5</td>\n",
       "      <td>5</td>\n",
       "      <td>5</td>\n",
       "      <td>4</td>\n",
       "      <td>4</td>\n",
       "      <td>4</td>\n",
       "      <td>4</td>\n",
       "      <td>4</td>\n",
       "      <td>5</td>\n",
       "      <td>4</td>\n",
       "      <td>4</td>\n",
       "      <td>4</td>\n",
       "      <td>3</td>\n",
       "      <td>4</td>\n",
       "      <td>2</td>\n",
       "      <td>4</td>\n",
       "      <td>4</td>\n",
       "      <td>4</td>\n",
       "      <td>4</td>\n",
       "      <td>4</td>\n",
       "      <td>4</td>\n",
       "      <td>2</td>\n",
       "      <td>2</td>\n",
       "      <td>2</td>\n",
       "      <td>2</td>\n",
       "      <td>2</td>\n",
       "      <td>2</td>\n",
       "      <td>4</td>\n",
       "      <td>5</td>\n",
       "      <td>4</td>\n",
       "      <td>5</td>\n",
       "      <td>5</td>\n",
       "      <td>5</td>\n",
       "      <td>1</td>\n",
       "      <td>2</td>\n",
       "      <td>3</td>\n",
       "      <td>4</td>\n",
       "      <td>4</td>\n",
       "      <td>4</td>\n",
       "      <td>4.5</td>\n",
       "      <td>3.5</td>\n",
       "      <td>4.2</td>\n",
       "      <td>4.0</td>\n",
       "      <td>4.0</td>\n",
       "      <td>4.0</td>\n",
       "      <td>2.0</td>\n",
       "      <td>2.0</td>\n",
       "      <td>2.0</td>\n",
       "      <td>2.0</td>\n",
       "      <td>2.0</td>\n",
       "      <td>4.333333</td>\n",
       "      <td>5.0</td>\n",
       "      <td>2.000000</td>\n",
       "      <td>4.000000</td>\n",
       "    </tr>\n",
       "    <tr>\n",
       "      <th>2938</th>\n",
       "      <td>0</td>\n",
       "      <td>14</td>\n",
       "      <td>9</td>\n",
       "      <td>3</td>\n",
       "      <td>3</td>\n",
       "      <td>4</td>\n",
       "      <td>4</td>\n",
       "      <td>4</td>\n",
       "      <td>4</td>\n",
       "      <td>4</td>\n",
       "      <td>4</td>\n",
       "      <td>3</td>\n",
       "      <td>4</td>\n",
       "      <td>4</td>\n",
       "      <td>4</td>\n",
       "      <td>3</td>\n",
       "      <td>3</td>\n",
       "      <td>4</td>\n",
       "      <td>4</td>\n",
       "      <td>4</td>\n",
       "      <td>3</td>\n",
       "      <td>3</td>\n",
       "      <td>3</td>\n",
       "      <td>4</td>\n",
       "      <td>3</td>\n",
       "      <td>4</td>\n",
       "      <td>4</td>\n",
       "      <td>3</td>\n",
       "      <td>1</td>\n",
       "      <td>1</td>\n",
       "      <td>1</td>\n",
       "      <td>1</td>\n",
       "      <td>1</td>\n",
       "      <td>3</td>\n",
       "      <td>3</td>\n",
       "      <td>3</td>\n",
       "      <td>3</td>\n",
       "      <td>3</td>\n",
       "      <td>3</td>\n",
       "      <td>2</td>\n",
       "      <td>2</td>\n",
       "      <td>3</td>\n",
       "      <td>3</td>\n",
       "      <td>3</td>\n",
       "      <td>3</td>\n",
       "      <td>4.0</td>\n",
       "      <td>3.5</td>\n",
       "      <td>3.6</td>\n",
       "      <td>3.0</td>\n",
       "      <td>3.5</td>\n",
       "      <td>4.0</td>\n",
       "      <td>1.0</td>\n",
       "      <td>2.0</td>\n",
       "      <td>1.0</td>\n",
       "      <td>1.0</td>\n",
       "      <td>1.0</td>\n",
       "      <td>3.000000</td>\n",
       "      <td>3.0</td>\n",
       "      <td>2.333333</td>\n",
       "      <td>3.000000</td>\n",
       "    </tr>\n",
       "    <tr>\n",
       "      <th>2939</th>\n",
       "      <td>1</td>\n",
       "      <td>14</td>\n",
       "      <td>9</td>\n",
       "      <td>3</td>\n",
       "      <td>5</td>\n",
       "      <td>5</td>\n",
       "      <td>5</td>\n",
       "      <td>3</td>\n",
       "      <td>5</td>\n",
       "      <td>5</td>\n",
       "      <td>5</td>\n",
       "      <td>5</td>\n",
       "      <td>5</td>\n",
       "      <td>5</td>\n",
       "      <td>5</td>\n",
       "      <td>4</td>\n",
       "      <td>5</td>\n",
       "      <td>5</td>\n",
       "      <td>5</td>\n",
       "      <td>5</td>\n",
       "      <td>5</td>\n",
       "      <td>5</td>\n",
       "      <td>5</td>\n",
       "      <td>5</td>\n",
       "      <td>5</td>\n",
       "      <td>5</td>\n",
       "      <td>5</td>\n",
       "      <td>2</td>\n",
       "      <td>2</td>\n",
       "      <td>1</td>\n",
       "      <td>2</td>\n",
       "      <td>1</td>\n",
       "      <td>2</td>\n",
       "      <td>5</td>\n",
       "      <td>5</td>\n",
       "      <td>5</td>\n",
       "      <td>5</td>\n",
       "      <td>2</td>\n",
       "      <td>2</td>\n",
       "      <td>1</td>\n",
       "      <td>2</td>\n",
       "      <td>1</td>\n",
       "      <td>4</td>\n",
       "      <td>4</td>\n",
       "      <td>5</td>\n",
       "      <td>4.5</td>\n",
       "      <td>5.0</td>\n",
       "      <td>4.8</td>\n",
       "      <td>5.0</td>\n",
       "      <td>5.0</td>\n",
       "      <td>5.0</td>\n",
       "      <td>5.0</td>\n",
       "      <td>2.0</td>\n",
       "      <td>2.0</td>\n",
       "      <td>1.5</td>\n",
       "      <td>1.5</td>\n",
       "      <td>5.000000</td>\n",
       "      <td>3.0</td>\n",
       "      <td>1.333333</td>\n",
       "      <td>4.333333</td>\n",
       "    </tr>\n",
       "  </tbody>\n",
       "</table>\n",
       "</div>"
      ],
      "text/plain": [
       "      Gender  Age  Grade  School_level  Tech_efficacy_1  Tech_efficacy_2  \\\n",
       "2937       0   14      9             3                4                5   \n",
       "2938       0   14      9             3                3                4   \n",
       "2939       1   14      9             3                5                5   \n",
       "\n",
       "      Tech_efficacy_3  Tech_efficacy_4  Tech_efficacy_5  Tech_efficacy_6  \\\n",
       "2937                5                5                5                4   \n",
       "2938                4                4                4                4   \n",
       "2939                5                3                5                5   \n",
       "\n",
       "      Tech_efficacy_7  Value_app_1  Value_app_2  Value_app_3  Value_app_4  \\\n",
       "2937                4            4            4            4            5   \n",
       "2938                4            3            4            4            4   \n",
       "2939                5            5            5            5            5   \n",
       "\n",
       "      Value_app_5  Control_app_1  Control_app_2  Control_app_3  Control_app_4  \\\n",
       "2937            4              4              4              3              4   \n",
       "2938            3              3              4              4              4   \n",
       "2939            4              5              5              5              5   \n",
       "\n",
       "      Control_app_5  Enjoyment1  Enjoyment2  Hopefulness1  Hopefulness2  \\\n",
       "2937              2           4           4             4             4   \n",
       "2938              3           3           3             4             3   \n",
       "2939              5           5           5             5             5   \n",
       "\n",
       "      Pride1  Pride2  Anxiety1  Anxiety2  Hopelessness1  Hopelessness2  \\\n",
       "2937       4       4         2         2              2              2   \n",
       "2938       4       4         3         1              1              1   \n",
       "2939       5       5         2         2              1              2   \n",
       "\n",
       "      Boredom1  Boredom2  Outcome_goal_1  Outcome_goal_2  Outcome_goal_3  \\\n",
       "2937         2         2               4               5               4   \n",
       "2938         1         1               3               3               3   \n",
       "2939         1         2               5               5               5   \n",
       "\n",
       "      Ability_goal_1  Ability_goal_2  Ability_goal_3  Neg_effort_1  \\\n",
       "2937               5               5               5             1   \n",
       "2938               3               3               3             2   \n",
       "2939               5               2               2             1   \n",
       "\n",
       "      Neg_effort_2  Neg_effort_3  Pos_effort_1  Pos_effort_2  Pos_effort_3  \\\n",
       "2937             2             3             4             4             4   \n",
       "2938             2             3             3             3             3   \n",
       "2939             2             1             4             4             5   \n",
       "\n",
       "      Tech_efficacy_aver  Control_app_aver  Value_app_aver  Enjoyment_aver  \\\n",
       "2937                 4.5               3.5             4.2             4.0   \n",
       "2938                 4.0               3.5             3.6             3.0   \n",
       "2939                 4.5               5.0             4.8             5.0   \n",
       "\n",
       "      Hopefulness_aver  Pride_aver  Anger_aver  Anxiety_aver  Shame_aver  \\\n",
       "2937               4.0         4.0         2.0           2.0         2.0   \n",
       "2938               3.5         4.0         1.0           2.0         1.0   \n",
       "2939               5.0         5.0         5.0           2.0         2.0   \n",
       "\n",
       "      Hopelessness_aver  Boredom_aver  Outcome_goal_aver  Ability_goal_aver  \\\n",
       "2937                2.0           2.0           4.333333                5.0   \n",
       "2938                1.0           1.0           3.000000                3.0   \n",
       "2939                1.5           1.5           5.000000                3.0   \n",
       "\n",
       "      Neg_effort_aver  Pos_effort_aver  \n",
       "2937         2.000000         4.000000  \n",
       "2938         2.333333         3.000000  \n",
       "2939         1.333333         4.333333  "
      ]
     },
     "metadata": {},
     "output_type": "display_data"
    },
    {
     "data": {
      "application/vnd.microsoft.datawrangler.viewer.v0+json": {
       "columns": [
        {
         "name": "index",
         "rawType": "int64",
         "type": "integer"
        },
        {
         "name": "Gender",
         "rawType": "int64",
         "type": "integer"
        },
        {
         "name": "Age",
         "rawType": "int64",
         "type": "integer"
        },
        {
         "name": "Grade",
         "rawType": "int64",
         "type": "integer"
        },
        {
         "name": "School_level",
         "rawType": "int64",
         "type": "integer"
        },
        {
         "name": "Tech_efficacy_1",
         "rawType": "int64",
         "type": "integer"
        },
        {
         "name": "Tech_efficacy_2",
         "rawType": "int64",
         "type": "integer"
        },
        {
         "name": "Tech_efficacy_3",
         "rawType": "int64",
         "type": "integer"
        },
        {
         "name": "Tech_efficacy_4",
         "rawType": "int64",
         "type": "integer"
        },
        {
         "name": "Tech_efficacy_5",
         "rawType": "int64",
         "type": "integer"
        },
        {
         "name": "Tech_efficacy_6",
         "rawType": "int64",
         "type": "integer"
        },
        {
         "name": "Tech_efficacy_7",
         "rawType": "int64",
         "type": "integer"
        },
        {
         "name": "Value_app_1",
         "rawType": "int64",
         "type": "integer"
        },
        {
         "name": "Value_app_2",
         "rawType": "int64",
         "type": "integer"
        },
        {
         "name": "Value_app_3",
         "rawType": "int64",
         "type": "integer"
        },
        {
         "name": "Value_app_4",
         "rawType": "int64",
         "type": "integer"
        },
        {
         "name": "Value_app_5",
         "rawType": "int64",
         "type": "integer"
        },
        {
         "name": "Control_app_1",
         "rawType": "int64",
         "type": "integer"
        },
        {
         "name": "Control_app_2",
         "rawType": "int64",
         "type": "integer"
        },
        {
         "name": "Control_app_3",
         "rawType": "int64",
         "type": "integer"
        },
        {
         "name": "Control_app_4",
         "rawType": "int64",
         "type": "integer"
        },
        {
         "name": "Control_app_5",
         "rawType": "int64",
         "type": "integer"
        },
        {
         "name": "Enjoyment1",
         "rawType": "int64",
         "type": "integer"
        },
        {
         "name": "Enjoyment2",
         "rawType": "int64",
         "type": "integer"
        },
        {
         "name": "Hopefulness1",
         "rawType": "int64",
         "type": "integer"
        },
        {
         "name": "Hopefulness2",
         "rawType": "int64",
         "type": "integer"
        },
        {
         "name": "Pride1",
         "rawType": "int64",
         "type": "integer"
        },
        {
         "name": "Pride2",
         "rawType": "int64",
         "type": "integer"
        },
        {
         "name": "Anxiety1",
         "rawType": "int64",
         "type": "integer"
        },
        {
         "name": "Anxiety2",
         "rawType": "int64",
         "type": "integer"
        },
        {
         "name": "Hopelessness1",
         "rawType": "int64",
         "type": "integer"
        },
        {
         "name": "Hopelessness2",
         "rawType": "int64",
         "type": "integer"
        },
        {
         "name": "Boredom1",
         "rawType": "int64",
         "type": "integer"
        },
        {
         "name": "Boredom2",
         "rawType": "int64",
         "type": "integer"
        },
        {
         "name": "Outcome_goal_1",
         "rawType": "int64",
         "type": "integer"
        },
        {
         "name": "Outcome_goal_2",
         "rawType": "int64",
         "type": "integer"
        },
        {
         "name": "Outcome_goal_3",
         "rawType": "int64",
         "type": "integer"
        },
        {
         "name": "Ability_goal_1",
         "rawType": "int64",
         "type": "integer"
        },
        {
         "name": "Ability_goal_2",
         "rawType": "int64",
         "type": "integer"
        },
        {
         "name": "Ability_goal_3",
         "rawType": "int64",
         "type": "integer"
        },
        {
         "name": "Neg_effort_1",
         "rawType": "int64",
         "type": "integer"
        },
        {
         "name": "Neg_effort_2",
         "rawType": "int64",
         "type": "integer"
        },
        {
         "name": "Neg_effort_3",
         "rawType": "int64",
         "type": "integer"
        },
        {
         "name": "Pos_effort_1",
         "rawType": "int64",
         "type": "integer"
        },
        {
         "name": "Pos_effort_2",
         "rawType": "int64",
         "type": "integer"
        },
        {
         "name": "Pos_effort_3",
         "rawType": "int64",
         "type": "integer"
        },
        {
         "name": "Tech_efficacy_aver",
         "rawType": "float64",
         "type": "float"
        },
        {
         "name": "Control_app_aver",
         "rawType": "float64",
         "type": "float"
        },
        {
         "name": "Value_app_aver",
         "rawType": "float64",
         "type": "float"
        },
        {
         "name": "Enjoyment_aver",
         "rawType": "float64",
         "type": "float"
        },
        {
         "name": "Hopefulness_aver",
         "rawType": "float64",
         "type": "float"
        },
        {
         "name": "Pride_aver",
         "rawType": "float64",
         "type": "float"
        },
        {
         "name": "Anger_aver",
         "rawType": "float64",
         "type": "float"
        },
        {
         "name": "Anxiety_aver",
         "rawType": "float64",
         "type": "float"
        },
        {
         "name": "Shame_aver",
         "rawType": "float64",
         "type": "float"
        },
        {
         "name": "Hopelessness_aver",
         "rawType": "float64",
         "type": "float"
        },
        {
         "name": "Boredom_aver",
         "rawType": "float64",
         "type": "float"
        },
        {
         "name": "Outcome_goal_aver",
         "rawType": "float64",
         "type": "float"
        },
        {
         "name": "Ability_goal_aver",
         "rawType": "float64",
         "type": "float"
        },
        {
         "name": "Neg_effort_aver",
         "rawType": "float64",
         "type": "float"
        },
        {
         "name": "Pos_effort_aver",
         "rawType": "float64",
         "type": "float"
        }
       ],
       "ref": "cda09a88-9fe9-4c4f-8a8a-0b8ad99e5386",
       "rows": [
        [
         "2410",
         "0",
         "13",
         "8",
         "3",
         "5",
         "5",
         "5",
         "5",
         "5",
         "4",
         "4",
         "4",
         "4",
         "5",
         "5",
         "4",
         "4",
         "4",
         "5",
         "5",
         "3",
         "4",
         "5",
         "5",
         "5",
         "5",
         "5",
         "1",
         "2",
         "1",
         "1",
         "1",
         "1",
         "5",
         "5",
         "5",
         "2",
         "5",
         "4",
         "1",
         "2",
         "3",
         "4",
         "3",
         "5",
         "4.5",
         "4.0",
         "4.4",
         "4.5",
         "5.0",
         "5.0",
         "1.0",
         "1.5",
         "1.5",
         "1.0",
         "1.0",
         "5.0",
         "3.6666666666666665",
         "2.0",
         "4.0"
        ],
        [
         "2722",
         "1",
         "15",
         "9",
         "1",
         "4",
         "4",
         "4",
         "4",
         "4",
         "4",
         "3",
         "4",
         "4",
         "4",
         "4",
         "4",
         "3",
         "3",
         "4",
         "4",
         "2",
         "3",
         "4",
         "4",
         "4",
         "3",
         "4",
         "2",
         "2",
         "2",
         "2",
         "2",
         "2",
         "3",
         "4",
         "4",
         "4",
         "4",
         "4",
         "2",
         "3",
         "2",
         "4",
         "4",
         "4",
         "3.75",
         "3.0",
         "4.0",
         "3.5",
         "4.0",
         "3.5",
         "2.0",
         "2.0",
         "3.0",
         "2.0",
         "2.0",
         "3.6666666666666665",
         "4.0",
         "2.3333333333333335",
         "4.0"
        ],
        [
         "1674",
         "0",
         "12",
         "6",
         "3",
         "4",
         "5",
         "5",
         "5",
         "5",
         "4",
         "4",
         "5",
         "4",
         "4",
         "5",
         "4",
         "5",
         "5",
         "4",
         "3",
         "3",
         "4",
         "4",
         "5",
         "5",
         "5",
         "5",
         "1",
         "1",
         "1",
         "1",
         "1",
         "1",
         "5",
         "5",
         "5",
         "5",
         "5",
         "5",
         "5",
         "5",
         "4",
         "5",
         "4",
         "4",
         "4.5",
         "4.0",
         "4.4",
         "4.0",
         "5.0",
         "5.0",
         "1.0",
         "1.0",
         "1.5",
         "1.0",
         "1.0",
         "5.0",
         "5.0",
         "4.666666666666667",
         "4.333333333333333"
        ]
       ],
       "shape": {
        "columns": 60,
        "rows": 3
       }
      },
      "text/html": [
       "<div>\n",
       "<style scoped>\n",
       "    .dataframe tbody tr th:only-of-type {\n",
       "        vertical-align: middle;\n",
       "    }\n",
       "\n",
       "    .dataframe tbody tr th {\n",
       "        vertical-align: top;\n",
       "    }\n",
       "\n",
       "    .dataframe thead th {\n",
       "        text-align: right;\n",
       "    }\n",
       "</style>\n",
       "<table border=\"1\" class=\"dataframe\">\n",
       "  <thead>\n",
       "    <tr style=\"text-align: right;\">\n",
       "      <th></th>\n",
       "      <th>Gender</th>\n",
       "      <th>Age</th>\n",
       "      <th>Grade</th>\n",
       "      <th>School_level</th>\n",
       "      <th>Tech_efficacy_1</th>\n",
       "      <th>Tech_efficacy_2</th>\n",
       "      <th>Tech_efficacy_3</th>\n",
       "      <th>Tech_efficacy_4</th>\n",
       "      <th>Tech_efficacy_5</th>\n",
       "      <th>Tech_efficacy_6</th>\n",
       "      <th>Tech_efficacy_7</th>\n",
       "      <th>Value_app_1</th>\n",
       "      <th>Value_app_2</th>\n",
       "      <th>Value_app_3</th>\n",
       "      <th>Value_app_4</th>\n",
       "      <th>Value_app_5</th>\n",
       "      <th>Control_app_1</th>\n",
       "      <th>Control_app_2</th>\n",
       "      <th>Control_app_3</th>\n",
       "      <th>Control_app_4</th>\n",
       "      <th>Control_app_5</th>\n",
       "      <th>Enjoyment1</th>\n",
       "      <th>Enjoyment2</th>\n",
       "      <th>Hopefulness1</th>\n",
       "      <th>Hopefulness2</th>\n",
       "      <th>Pride1</th>\n",
       "      <th>Pride2</th>\n",
       "      <th>Anxiety1</th>\n",
       "      <th>Anxiety2</th>\n",
       "      <th>Hopelessness1</th>\n",
       "      <th>Hopelessness2</th>\n",
       "      <th>Boredom1</th>\n",
       "      <th>Boredom2</th>\n",
       "      <th>Outcome_goal_1</th>\n",
       "      <th>Outcome_goal_2</th>\n",
       "      <th>Outcome_goal_3</th>\n",
       "      <th>Ability_goal_1</th>\n",
       "      <th>Ability_goal_2</th>\n",
       "      <th>Ability_goal_3</th>\n",
       "      <th>Neg_effort_1</th>\n",
       "      <th>Neg_effort_2</th>\n",
       "      <th>Neg_effort_3</th>\n",
       "      <th>Pos_effort_1</th>\n",
       "      <th>Pos_effort_2</th>\n",
       "      <th>Pos_effort_3</th>\n",
       "      <th>Tech_efficacy_aver</th>\n",
       "      <th>Control_app_aver</th>\n",
       "      <th>Value_app_aver</th>\n",
       "      <th>Enjoyment_aver</th>\n",
       "      <th>Hopefulness_aver</th>\n",
       "      <th>Pride_aver</th>\n",
       "      <th>Anger_aver</th>\n",
       "      <th>Anxiety_aver</th>\n",
       "      <th>Shame_aver</th>\n",
       "      <th>Hopelessness_aver</th>\n",
       "      <th>Boredom_aver</th>\n",
       "      <th>Outcome_goal_aver</th>\n",
       "      <th>Ability_goal_aver</th>\n",
       "      <th>Neg_effort_aver</th>\n",
       "      <th>Pos_effort_aver</th>\n",
       "    </tr>\n",
       "  </thead>\n",
       "  <tbody>\n",
       "    <tr>\n",
       "      <th>2410</th>\n",
       "      <td>0</td>\n",
       "      <td>13</td>\n",
       "      <td>8</td>\n",
       "      <td>3</td>\n",
       "      <td>5</td>\n",
       "      <td>5</td>\n",
       "      <td>5</td>\n",
       "      <td>5</td>\n",
       "      <td>5</td>\n",
       "      <td>4</td>\n",
       "      <td>4</td>\n",
       "      <td>4</td>\n",
       "      <td>4</td>\n",
       "      <td>5</td>\n",
       "      <td>5</td>\n",
       "      <td>4</td>\n",
       "      <td>4</td>\n",
       "      <td>4</td>\n",
       "      <td>5</td>\n",
       "      <td>5</td>\n",
       "      <td>3</td>\n",
       "      <td>4</td>\n",
       "      <td>5</td>\n",
       "      <td>5</td>\n",
       "      <td>5</td>\n",
       "      <td>5</td>\n",
       "      <td>5</td>\n",
       "      <td>1</td>\n",
       "      <td>2</td>\n",
       "      <td>1</td>\n",
       "      <td>1</td>\n",
       "      <td>1</td>\n",
       "      <td>1</td>\n",
       "      <td>5</td>\n",
       "      <td>5</td>\n",
       "      <td>5</td>\n",
       "      <td>2</td>\n",
       "      <td>5</td>\n",
       "      <td>4</td>\n",
       "      <td>1</td>\n",
       "      <td>2</td>\n",
       "      <td>3</td>\n",
       "      <td>4</td>\n",
       "      <td>3</td>\n",
       "      <td>5</td>\n",
       "      <td>4.50</td>\n",
       "      <td>4.0</td>\n",
       "      <td>4.4</td>\n",
       "      <td>4.5</td>\n",
       "      <td>5.0</td>\n",
       "      <td>5.0</td>\n",
       "      <td>1.0</td>\n",
       "      <td>1.5</td>\n",
       "      <td>1.5</td>\n",
       "      <td>1.0</td>\n",
       "      <td>1.0</td>\n",
       "      <td>5.000000</td>\n",
       "      <td>3.666667</td>\n",
       "      <td>2.000000</td>\n",
       "      <td>4.000000</td>\n",
       "    </tr>\n",
       "    <tr>\n",
       "      <th>2722</th>\n",
       "      <td>1</td>\n",
       "      <td>15</td>\n",
       "      <td>9</td>\n",
       "      <td>1</td>\n",
       "      <td>4</td>\n",
       "      <td>4</td>\n",
       "      <td>4</td>\n",
       "      <td>4</td>\n",
       "      <td>4</td>\n",
       "      <td>4</td>\n",
       "      <td>3</td>\n",
       "      <td>4</td>\n",
       "      <td>4</td>\n",
       "      <td>4</td>\n",
       "      <td>4</td>\n",
       "      <td>4</td>\n",
       "      <td>3</td>\n",
       "      <td>3</td>\n",
       "      <td>4</td>\n",
       "      <td>4</td>\n",
       "      <td>2</td>\n",
       "      <td>3</td>\n",
       "      <td>4</td>\n",
       "      <td>4</td>\n",
       "      <td>4</td>\n",
       "      <td>3</td>\n",
       "      <td>4</td>\n",
       "      <td>2</td>\n",
       "      <td>2</td>\n",
       "      <td>2</td>\n",
       "      <td>2</td>\n",
       "      <td>2</td>\n",
       "      <td>2</td>\n",
       "      <td>3</td>\n",
       "      <td>4</td>\n",
       "      <td>4</td>\n",
       "      <td>4</td>\n",
       "      <td>4</td>\n",
       "      <td>4</td>\n",
       "      <td>2</td>\n",
       "      <td>3</td>\n",
       "      <td>2</td>\n",
       "      <td>4</td>\n",
       "      <td>4</td>\n",
       "      <td>4</td>\n",
       "      <td>3.75</td>\n",
       "      <td>3.0</td>\n",
       "      <td>4.0</td>\n",
       "      <td>3.5</td>\n",
       "      <td>4.0</td>\n",
       "      <td>3.5</td>\n",
       "      <td>2.0</td>\n",
       "      <td>2.0</td>\n",
       "      <td>3.0</td>\n",
       "      <td>2.0</td>\n",
       "      <td>2.0</td>\n",
       "      <td>3.666667</td>\n",
       "      <td>4.000000</td>\n",
       "      <td>2.333333</td>\n",
       "      <td>4.000000</td>\n",
       "    </tr>\n",
       "    <tr>\n",
       "      <th>1674</th>\n",
       "      <td>0</td>\n",
       "      <td>12</td>\n",
       "      <td>6</td>\n",
       "      <td>3</td>\n",
       "      <td>4</td>\n",
       "      <td>5</td>\n",
       "      <td>5</td>\n",
       "      <td>5</td>\n",
       "      <td>5</td>\n",
       "      <td>4</td>\n",
       "      <td>4</td>\n",
       "      <td>5</td>\n",
       "      <td>4</td>\n",
       "      <td>4</td>\n",
       "      <td>5</td>\n",
       "      <td>4</td>\n",
       "      <td>5</td>\n",
       "      <td>5</td>\n",
       "      <td>4</td>\n",
       "      <td>3</td>\n",
       "      <td>3</td>\n",
       "      <td>4</td>\n",
       "      <td>4</td>\n",
       "      <td>5</td>\n",
       "      <td>5</td>\n",
       "      <td>5</td>\n",
       "      <td>5</td>\n",
       "      <td>1</td>\n",
       "      <td>1</td>\n",
       "      <td>1</td>\n",
       "      <td>1</td>\n",
       "      <td>1</td>\n",
       "      <td>1</td>\n",
       "      <td>5</td>\n",
       "      <td>5</td>\n",
       "      <td>5</td>\n",
       "      <td>5</td>\n",
       "      <td>5</td>\n",
       "      <td>5</td>\n",
       "      <td>5</td>\n",
       "      <td>5</td>\n",
       "      <td>4</td>\n",
       "      <td>5</td>\n",
       "      <td>4</td>\n",
       "      <td>4</td>\n",
       "      <td>4.50</td>\n",
       "      <td>4.0</td>\n",
       "      <td>4.4</td>\n",
       "      <td>4.0</td>\n",
       "      <td>5.0</td>\n",
       "      <td>5.0</td>\n",
       "      <td>1.0</td>\n",
       "      <td>1.0</td>\n",
       "      <td>1.5</td>\n",
       "      <td>1.0</td>\n",
       "      <td>1.0</td>\n",
       "      <td>5.000000</td>\n",
       "      <td>5.000000</td>\n",
       "      <td>4.666667</td>\n",
       "      <td>4.333333</td>\n",
       "    </tr>\n",
       "  </tbody>\n",
       "</table>\n",
       "</div>"
      ],
      "text/plain": [
       "      Gender  Age  Grade  School_level  Tech_efficacy_1  Tech_efficacy_2  \\\n",
       "2410       0   13      8             3                5                5   \n",
       "2722       1   15      9             1                4                4   \n",
       "1674       0   12      6             3                4                5   \n",
       "\n",
       "      Tech_efficacy_3  Tech_efficacy_4  Tech_efficacy_5  Tech_efficacy_6  \\\n",
       "2410                5                5                5                4   \n",
       "2722                4                4                4                4   \n",
       "1674                5                5                5                4   \n",
       "\n",
       "      Tech_efficacy_7  Value_app_1  Value_app_2  Value_app_3  Value_app_4  \\\n",
       "2410                4            4            4            5            5   \n",
       "2722                3            4            4            4            4   \n",
       "1674                4            5            4            4            5   \n",
       "\n",
       "      Value_app_5  Control_app_1  Control_app_2  Control_app_3  Control_app_4  \\\n",
       "2410            4              4              4              5              5   \n",
       "2722            4              3              3              4              4   \n",
       "1674            4              5              5              4              3   \n",
       "\n",
       "      Control_app_5  Enjoyment1  Enjoyment2  Hopefulness1  Hopefulness2  \\\n",
       "2410              3           4           5             5             5   \n",
       "2722              2           3           4             4             4   \n",
       "1674              3           4           4             5             5   \n",
       "\n",
       "      Pride1  Pride2  Anxiety1  Anxiety2  Hopelessness1  Hopelessness2  \\\n",
       "2410       5       5         1         2              1              1   \n",
       "2722       3       4         2         2              2              2   \n",
       "1674       5       5         1         1              1              1   \n",
       "\n",
       "      Boredom1  Boredom2  Outcome_goal_1  Outcome_goal_2  Outcome_goal_3  \\\n",
       "2410         1         1               5               5               5   \n",
       "2722         2         2               3               4               4   \n",
       "1674         1         1               5               5               5   \n",
       "\n",
       "      Ability_goal_1  Ability_goal_2  Ability_goal_3  Neg_effort_1  \\\n",
       "2410               2               5               4             1   \n",
       "2722               4               4               4             2   \n",
       "1674               5               5               5             5   \n",
       "\n",
       "      Neg_effort_2  Neg_effort_3  Pos_effort_1  Pos_effort_2  Pos_effort_3  \\\n",
       "2410             2             3             4             3             5   \n",
       "2722             3             2             4             4             4   \n",
       "1674             5             4             5             4             4   \n",
       "\n",
       "      Tech_efficacy_aver  Control_app_aver  Value_app_aver  Enjoyment_aver  \\\n",
       "2410                4.50               4.0             4.4             4.5   \n",
       "2722                3.75               3.0             4.0             3.5   \n",
       "1674                4.50               4.0             4.4             4.0   \n",
       "\n",
       "      Hopefulness_aver  Pride_aver  Anger_aver  Anxiety_aver  Shame_aver  \\\n",
       "2410               5.0         5.0         1.0           1.5         1.5   \n",
       "2722               4.0         3.5         2.0           2.0         3.0   \n",
       "1674               5.0         5.0         1.0           1.0         1.5   \n",
       "\n",
       "      Hopelessness_aver  Boredom_aver  Outcome_goal_aver  Ability_goal_aver  \\\n",
       "2410                1.0           1.0           5.000000           3.666667   \n",
       "2722                2.0           2.0           3.666667           4.000000   \n",
       "1674                1.0           1.0           5.000000           5.000000   \n",
       "\n",
       "      Neg_effort_aver  Pos_effort_aver  \n",
       "2410         2.000000         4.000000  \n",
       "2722         2.333333         4.000000  \n",
       "1674         4.666667         4.333333  "
      ]
     },
     "metadata": {},
     "output_type": "display_data"
    },
    {
     "name": "stdout",
     "output_type": "stream",
     "text": [
      "────────────────────────────────────────────────────────────────────────────────────────────────────\n",
      "🌻 Número de filas:\n",
      "2940\n",
      "────────────────────────────────────────────────────────────────────────────────────────────────────\n",
      "🌱 Número de columnas:\n",
      "60\n",
      "────────────────────────────────────────────────────────────────────────────────────────────────────\n",
      "🌼 Información de la tabla:\n",
      "<class 'pandas.core.frame.DataFrame'>\n",
      "RangeIndex: 2940 entries, 0 to 2939\n",
      "Data columns (total 60 columns):\n",
      " #   Column              Non-Null Count  Dtype  \n",
      "---  ------              --------------  -----  \n",
      " 0   Gender              2940 non-null   int64  \n",
      " 1   Age                 2940 non-null   int64  \n",
      " 2   Grade               2940 non-null   int64  \n",
      " 3   School_level        2940 non-null   int64  \n",
      " 4   Tech_efficacy_1     2940 non-null   int64  \n",
      " 5   Tech_efficacy_2     2940 non-null   int64  \n",
      " 6   Tech_efficacy_3     2940 non-null   int64  \n",
      " 7   Tech_efficacy_4     2940 non-null   int64  \n",
      " 8   Tech_efficacy_5     2940 non-null   int64  \n",
      " 9   Tech_efficacy_6     2940 non-null   int64  \n",
      " 10  Tech_efficacy_7     2940 non-null   int64  \n",
      " 11  Value_app_1         2940 non-null   int64  \n",
      " 12  Value_app_2         2940 non-null   int64  \n",
      " 13  Value_app_3         2940 non-null   int64  \n",
      " 14  Value_app_4         2940 non-null   int64  \n",
      " 15  Value_app_5         2940 non-null   int64  \n",
      " 16  Control_app_1       2940 non-null   int64  \n",
      " 17  Control_app_2       2940 non-null   int64  \n",
      " 18  Control_app_3       2940 non-null   int64  \n",
      " 19  Control_app_4       2940 non-null   int64  \n",
      " 20  Control_app_5       2940 non-null   int64  \n",
      " 21  Enjoyment1          2940 non-null   int64  \n",
      " 22  Enjoyment2          2940 non-null   int64  \n",
      " 23  Hopefulness1        2940 non-null   int64  \n",
      " 24  Hopefulness2        2940 non-null   int64  \n",
      " 25  Pride1              2940 non-null   int64  \n",
      " 26  Pride2              2940 non-null   int64  \n",
      " 27  Anxiety1            2940 non-null   int64  \n",
      " 28  Anxiety2            2940 non-null   int64  \n",
      " 29  Hopelessness1       2940 non-null   int64  \n",
      " 30  Hopelessness2       2940 non-null   int64  \n",
      " 31  Boredom1            2940 non-null   int64  \n",
      " 32  Boredom2            2940 non-null   int64  \n",
      " 33  Outcome_goal_1      2940 non-null   int64  \n",
      " 34  Outcome_goal_2      2940 non-null   int64  \n",
      " 35  Outcome_goal_3      2940 non-null   int64  \n",
      " 36  Ability_goal_1      2940 non-null   int64  \n",
      " 37  Ability_goal_2      2940 non-null   int64  \n",
      " 38  Ability_goal_3      2940 non-null   int64  \n",
      " 39  Neg_effort_1        2940 non-null   int64  \n",
      " 40  Neg_effort_2        2940 non-null   int64  \n",
      " 41  Neg_effort_3        2940 non-null   int64  \n",
      " 42  Pos_effort_1        2940 non-null   int64  \n",
      " 43  Pos_effort_2        2940 non-null   int64  \n",
      " 44  Pos_effort_3        2940 non-null   int64  \n",
      " 45  Tech_efficacy_aver  2940 non-null   float64\n",
      " 46  Control_app_aver    2940 non-null   float64\n",
      " 47  Value_app_aver      2940 non-null   float64\n",
      " 48  Enjoyment_aver      2940 non-null   float64\n",
      " 49  Hopefulness_aver    2940 non-null   float64\n",
      " 50  Pride_aver          2940 non-null   float64\n",
      " 51  Anger_aver          2940 non-null   float64\n",
      " 52  Anxiety_aver        2940 non-null   float64\n",
      " 53  Shame_aver          2940 non-null   float64\n",
      " 54  Hopelessness_aver   2940 non-null   float64\n",
      " 55  Boredom_aver        2940 non-null   float64\n",
      " 56  Outcome_goal_aver   2940 non-null   float64\n",
      " 57  Ability_goal_aver   2940 non-null   float64\n",
      " 58  Neg_effort_aver     2940 non-null   float64\n",
      " 59  Pos_effort_aver     2940 non-null   float64\n",
      "dtypes: float64(15), int64(45)\n",
      "memory usage: 1.3 MB\n"
     ]
    },
    {
     "data": {
      "text/plain": [
       "None"
      ]
     },
     "metadata": {},
     "output_type": "display_data"
    },
    {
     "name": "stdout",
     "output_type": "stream",
     "text": [
      "────────────────────────────────────────────────────────────────────────────────────────────────────\n",
      "🌑 Nombre de las columnas:\n",
      "['Gender', 'Age', 'Grade', 'School_level', 'Tech_efficacy_1', 'Tech_efficacy_2', 'Tech_efficacy_3', 'Tech_efficacy_4', 'Tech_efficacy_5', 'Tech_efficacy_6', 'Tech_efficacy_7', 'Value_app_1', 'Value_app_2', 'Value_app_3', 'Value_app_4', 'Value_app_5', 'Control_app_1', 'Control_app_2', 'Control_app_3', 'Control_app_4', 'Control_app_5', 'Enjoyment1', 'Enjoyment2', 'Hopefulness1', 'Hopefulness2', 'Pride1', 'Pride2', 'Anxiety1', 'Anxiety2', 'Hopelessness1', 'Hopelessness2', 'Boredom1', 'Boredom2', 'Outcome_goal_1', 'Outcome_goal_2', 'Outcome_goal_3', 'Ability_goal_1', 'Ability_goal_2', 'Ability_goal_3', 'Neg_effort_1', 'Neg_effort_2', 'Neg_effort_3', 'Pos_effort_1', 'Pos_effort_2', 'Pos_effort_3', 'Tech_efficacy_aver', 'Control_app_aver', 'Value_app_aver', 'Enjoyment_aver', 'Hopefulness_aver', 'Pride_aver', 'Anger_aver', 'Anxiety_aver', 'Shame_aver', 'Hopelessness_aver', 'Boredom_aver', 'Outcome_goal_aver', 'Ability_goal_aver', 'Neg_effort_aver', 'Pos_effort_aver']\n",
      "────────────────────────────────────────────────────────────────────────────────────────────────────\n",
      "🍄 Descripción de los datos numéricos:\n"
     ]
    },
    {
     "data": {
      "application/vnd.microsoft.datawrangler.viewer.v0+json": {
       "columns": [
        {
         "name": "index",
         "rawType": "object",
         "type": "string"
        },
        {
         "name": "count",
         "rawType": "float64",
         "type": "float"
        },
        {
         "name": "mean",
         "rawType": "float64",
         "type": "float"
        },
        {
         "name": "std",
         "rawType": "float64",
         "type": "float"
        },
        {
         "name": "min",
         "rawType": "float64",
         "type": "float"
        },
        {
         "name": "25%",
         "rawType": "float64",
         "type": "float"
        },
        {
         "name": "50%",
         "rawType": "float64",
         "type": "float"
        },
        {
         "name": "75%",
         "rawType": "float64",
         "type": "float"
        },
        {
         "name": "max",
         "rawType": "float64",
         "type": "float"
        }
       ],
       "ref": "76e97d0a-12d7-4ead-9761-d40c647692b6",
       "rows": [
        [
         "Gender",
         "2940.0",
         "0.513265306122449",
         "0.4999090264503274",
         "0.0",
         "0.0",
         "1.0",
         "1.0",
         "1.0"
        ],
        [
         "Age",
         "2940.0",
         "12.209523809523809",
         "1.6775577013074086",
         "9.0",
         "11.0",
         "12.0",
         "14.0",
         "17.0"
        ],
        [
         "Grade",
         "2940.0",
         "6.274149659863945",
         "1.698130126107967",
         "4.0",
         "5.0",
         "6.0",
         "8.0",
         "9.0"
        ],
        [
         "School_level",
         "2940.0",
         "1.9561224489795919",
         "0.8227249960724546",
         "1.0",
         "1.0",
         "2.0",
         "3.0",
         "3.0"
        ],
        [
         "Tech_efficacy_1",
         "2940.0",
         "3.697619047619048",
         "1.1797000404978721",
         "1.0",
         "3.0",
         "4.0",
         "5.0",
         "5.0"
        ],
        [
         "Tech_efficacy_2",
         "2940.0",
         "4.3802721088435375",
         "0.6809655750704908",
         "1.0",
         "4.0",
         "4.0",
         "5.0",
         "5.0"
        ],
        [
         "Tech_efficacy_3",
         "2940.0",
         "4.451700680272109",
         "0.6293657313114006",
         "1.0",
         "4.0",
         "5.0",
         "5.0",
         "5.0"
        ],
        [
         "Tech_efficacy_4",
         "2940.0",
         "4.439795918367347",
         "0.644906728012941",
         "1.0",
         "4.0",
         "5.0",
         "5.0",
         "5.0"
        ],
        [
         "Tech_efficacy_5",
         "2940.0",
         "4.219387755102041",
         "0.7763725288099409",
         "1.0",
         "4.0",
         "4.0",
         "5.0",
         "5.0"
        ],
        [
         "Tech_efficacy_6",
         "2940.0",
         "4.122789115646259",
         "0.7943902348789743",
         "1.0",
         "4.0",
         "4.0",
         "5.0",
         "5.0"
        ],
        [
         "Tech_efficacy_7",
         "2940.0",
         "3.8993197278911564",
         "0.9138082244451243",
         "1.0",
         "3.0",
         "4.0",
         "5.0",
         "5.0"
        ],
        [
         "Value_app_1",
         "2940.0",
         "4.180952380952381",
         "0.7768628805171076",
         "1.0",
         "4.0",
         "4.0",
         "5.0",
         "5.0"
        ],
        [
         "Value_app_2",
         "2940.0",
         "4.3146258503401365",
         "0.7158277397455667",
         "1.0",
         "4.0",
         "4.0",
         "5.0",
         "5.0"
        ],
        [
         "Value_app_3",
         "2940.0",
         "4.196938775510204",
         "0.7753808948812516",
         "1.0",
         "4.0",
         "4.0",
         "5.0",
         "5.0"
        ],
        [
         "Value_app_4",
         "2940.0",
         "4.3598639455782315",
         "0.6997943472704412",
         "1.0",
         "4.0",
         "4.0",
         "5.0",
         "5.0"
        ],
        [
         "Value_app_5",
         "2940.0",
         "4.194897959183673",
         "0.77370081632192",
         "1.0",
         "4.0",
         "4.0",
         "5.0",
         "5.0"
        ],
        [
         "Control_app_1",
         "2940.0",
         "3.795578231292517",
         "0.9175137116285907",
         "1.0",
         "3.0",
         "4.0",
         "5.0",
         "5.0"
        ],
        [
         "Control_app_2",
         "2940.0",
         "3.998299319727891",
         "0.8247183928832511",
         "1.0",
         "3.0",
         "4.0",
         "5.0",
         "5.0"
        ],
        [
         "Control_app_3",
         "2940.0",
         "4.018367346938776",
         "0.837413702524022",
         "1.0",
         "4.0",
         "4.0",
         "5.0",
         "5.0"
        ],
        [
         "Control_app_4",
         "2940.0",
         "3.9680272108843537",
         "0.9068553996253013",
         "1.0",
         "3.0",
         "4.0",
         "5.0",
         "5.0"
        ],
        [
         "Control_app_5",
         "2940.0",
         "3.3139455782312925",
         "1.1609543409307341",
         "1.0",
         "3.0",
         "3.0",
         "4.0",
         "5.0"
        ],
        [
         "Enjoyment1",
         "2940.0",
         "3.991156462585034",
         "0.9024879731553679",
         "1.0",
         "4.0",
         "4.0",
         "5.0",
         "5.0"
        ],
        [
         "Enjoyment2",
         "2940.0",
         "4.1465986394557826",
         "0.7933493516336565",
         "1.0",
         "4.0",
         "4.0",
         "5.0",
         "5.0"
        ],
        [
         "Hopefulness1",
         "2940.0",
         "4.14421768707483",
         "0.8168128879178981",
         "1.0",
         "4.0",
         "4.0",
         "5.0",
         "5.0"
        ],
        [
         "Hopefulness2",
         "2940.0",
         "4.132993197278911",
         "0.8147583196151457",
         "1.0",
         "4.0",
         "4.0",
         "5.0",
         "5.0"
        ],
        [
         "Pride1",
         "2940.0",
         "3.8622448979591835",
         "0.9020050976652991",
         "1.0",
         "3.0",
         "4.0",
         "5.0",
         "5.0"
        ],
        [
         "Pride2",
         "2940.0",
         "3.992857142857143",
         "0.8570604231330322",
         "1.0",
         "4.0",
         "4.0",
         "5.0",
         "5.0"
        ],
        [
         "Anxiety1",
         "2940.0",
         "1.8064625850340137",
         "0.9064580987289892",
         "1.0",
         "1.0",
         "2.0",
         "2.0",
         "5.0"
        ],
        [
         "Anxiety2",
         "2940.0",
         "1.7785714285714285",
         "0.8909300644388385",
         "1.0",
         "1.0",
         "2.0",
         "2.0",
         "5.0"
        ],
        [
         "Hopelessness1",
         "2940.0",
         "1.6040816326530611",
         "0.777173279060075",
         "1.0",
         "1.0",
         "1.0",
         "2.0",
         "5.0"
        ],
        [
         "Hopelessness2",
         "2940.0",
         "1.5755102040816327",
         "0.7497843025872433",
         "1.0",
         "1.0",
         "1.0",
         "2.0",
         "5.0"
        ],
        [
         "Boredom1",
         "2940.0",
         "1.7336734693877551",
         "0.8569842608342536",
         "1.0",
         "1.0",
         "2.0",
         "2.0",
         "5.0"
        ],
        [
         "Boredom2",
         "2940.0",
         "1.6843537414965986",
         "0.8147751517089823",
         "1.0",
         "1.0",
         "2.0",
         "2.0",
         "5.0"
        ],
        [
         "Outcome_goal_1",
         "2940.0",
         "4.26530612244898",
         "0.7422186159058174",
         "1.0",
         "4.0",
         "4.0",
         "5.0",
         "5.0"
        ],
        [
         "Outcome_goal_2",
         "2940.0",
         "4.564285714285714",
         "0.5554793717376026",
         "1.0",
         "4.0",
         "5.0",
         "5.0",
         "5.0"
        ],
        [
         "Outcome_goal_3",
         "2940.0",
         "3.9523809523809526",
         "0.9866984229890207",
         "1.0",
         "4.0",
         "4.0",
         "5.0",
         "5.0"
        ],
        [
         "Ability_goal_1",
         "2940.0",
         "4.151360544217687",
         "0.8107067973923936",
         "1.0",
         "4.0",
         "4.0",
         "5.0",
         "5.0"
        ],
        [
         "Ability_goal_2",
         "2940.0",
         "4.1401360544217685",
         "0.8024002664976364",
         "1.0",
         "4.0",
         "4.0",
         "5.0",
         "5.0"
        ],
        [
         "Ability_goal_3",
         "2940.0",
         "4.2227891156462585",
         "0.7567487289307043",
         "1.0",
         "4.0",
         "4.0",
         "5.0",
         "5.0"
        ],
        [
         "Neg_effort_1",
         "2940.0",
         "1.9608843537414966",
         "1.0287632186337659",
         "1.0",
         "1.0",
         "2.0",
         "2.0",
         "5.0"
        ],
        [
         "Neg_effort_2",
         "2940.0",
         "2.2537414965986393",
         "1.1071712241614562",
         "1.0",
         "1.0",
         "2.0",
         "3.0",
         "5.0"
        ],
        [
         "Neg_effort_3",
         "2940.0",
         "3.1061224489795918",
         "1.1887086150353017",
         "1.0",
         "2.0",
         "3.0",
         "4.0",
         "5.0"
        ],
        [
         "Pos_effort_1",
         "2940.0",
         "4.181632653061224",
         "0.7320514606382218",
         "1.0",
         "4.0",
         "4.0",
         "5.0",
         "5.0"
        ],
        [
         "Pos_effort_2",
         "2940.0",
         "4.216666666666667",
         "0.7665566933468062",
         "1.0",
         "4.0",
         "4.0",
         "5.0",
         "5.0"
        ],
        [
         "Pos_effort_3",
         "2940.0",
         "4.072789115646258",
         "0.8521979127495186",
         "1.0",
         "4.0",
         "4.0",
         "5.0",
         "5.0"
        ],
        [
         "Tech_efficacy_aver",
         "2940.0",
         "4.170323129251701",
         "0.6580431756631362",
         "1.0",
         "3.75",
         "4.0",
         "4.75",
         "5.0"
        ],
        [
         "Control_app_aver",
         "2940.0",
         "3.768962585034014",
         "0.7632253099362206",
         "1.0",
         "3.25",
         "3.75",
         "4.25",
         "5.0"
        ],
        [
         "Value_app_aver",
         "2940.0",
         "4.249455782312925",
         "0.6312194135378826",
         "1.0",
         "4.0",
         "4.2",
         "4.8",
         "5.0"
        ],
        [
         "Enjoyment_aver",
         "2940.0",
         "4.0688775510204085",
         "0.8033619168753707",
         "1.0",
         "4.0",
         "4.0",
         "5.0",
         "5.0"
        ],
        [
         "Hopefulness_aver",
         "2940.0",
         "4.13860544217687",
         "0.7728086234839163",
         "1.0",
         "4.0",
         "4.0",
         "5.0",
         "5.0"
        ]
       ],
       "shape": {
        "columns": 8,
        "rows": 60
       }
      },
      "text/html": [
       "<div>\n",
       "<style scoped>\n",
       "    .dataframe tbody tr th:only-of-type {\n",
       "        vertical-align: middle;\n",
       "    }\n",
       "\n",
       "    .dataframe tbody tr th {\n",
       "        vertical-align: top;\n",
       "    }\n",
       "\n",
       "    .dataframe thead th {\n",
       "        text-align: right;\n",
       "    }\n",
       "</style>\n",
       "<table border=\"1\" class=\"dataframe\">\n",
       "  <thead>\n",
       "    <tr style=\"text-align: right;\">\n",
       "      <th></th>\n",
       "      <th>count</th>\n",
       "      <th>mean</th>\n",
       "      <th>std</th>\n",
       "      <th>min</th>\n",
       "      <th>25%</th>\n",
       "      <th>50%</th>\n",
       "      <th>75%</th>\n",
       "      <th>max</th>\n",
       "    </tr>\n",
       "  </thead>\n",
       "  <tbody>\n",
       "    <tr>\n",
       "      <th>Gender</th>\n",
       "      <td>2940.0</td>\n",
       "      <td>0.513265</td>\n",
       "      <td>0.499909</td>\n",
       "      <td>0.0</td>\n",
       "      <td>0.000000</td>\n",
       "      <td>1.000000</td>\n",
       "      <td>1.000000</td>\n",
       "      <td>1.0</td>\n",
       "    </tr>\n",
       "    <tr>\n",
       "      <th>Age</th>\n",
       "      <td>2940.0</td>\n",
       "      <td>12.209524</td>\n",
       "      <td>1.677558</td>\n",
       "      <td>9.0</td>\n",
       "      <td>11.000000</td>\n",
       "      <td>12.000000</td>\n",
       "      <td>14.000000</td>\n",
       "      <td>17.0</td>\n",
       "    </tr>\n",
       "    <tr>\n",
       "      <th>Grade</th>\n",
       "      <td>2940.0</td>\n",
       "      <td>6.274150</td>\n",
       "      <td>1.698130</td>\n",
       "      <td>4.0</td>\n",
       "      <td>5.000000</td>\n",
       "      <td>6.000000</td>\n",
       "      <td>8.000000</td>\n",
       "      <td>9.0</td>\n",
       "    </tr>\n",
       "    <tr>\n",
       "      <th>School_level</th>\n",
       "      <td>2940.0</td>\n",
       "      <td>1.956122</td>\n",
       "      <td>0.822725</td>\n",
       "      <td>1.0</td>\n",
       "      <td>1.000000</td>\n",
       "      <td>2.000000</td>\n",
       "      <td>3.000000</td>\n",
       "      <td>3.0</td>\n",
       "    </tr>\n",
       "    <tr>\n",
       "      <th>Tech_efficacy_1</th>\n",
       "      <td>2940.0</td>\n",
       "      <td>3.697619</td>\n",
       "      <td>1.179700</td>\n",
       "      <td>1.0</td>\n",
       "      <td>3.000000</td>\n",
       "      <td>4.000000</td>\n",
       "      <td>5.000000</td>\n",
       "      <td>5.0</td>\n",
       "    </tr>\n",
       "    <tr>\n",
       "      <th>Tech_efficacy_2</th>\n",
       "      <td>2940.0</td>\n",
       "      <td>4.380272</td>\n",
       "      <td>0.680966</td>\n",
       "      <td>1.0</td>\n",
       "      <td>4.000000</td>\n",
       "      <td>4.000000</td>\n",
       "      <td>5.000000</td>\n",
       "      <td>5.0</td>\n",
       "    </tr>\n",
       "    <tr>\n",
       "      <th>Tech_efficacy_3</th>\n",
       "      <td>2940.0</td>\n",
       "      <td>4.451701</td>\n",
       "      <td>0.629366</td>\n",
       "      <td>1.0</td>\n",
       "      <td>4.000000</td>\n",
       "      <td>5.000000</td>\n",
       "      <td>5.000000</td>\n",
       "      <td>5.0</td>\n",
       "    </tr>\n",
       "    <tr>\n",
       "      <th>Tech_efficacy_4</th>\n",
       "      <td>2940.0</td>\n",
       "      <td>4.439796</td>\n",
       "      <td>0.644907</td>\n",
       "      <td>1.0</td>\n",
       "      <td>4.000000</td>\n",
       "      <td>5.000000</td>\n",
       "      <td>5.000000</td>\n",
       "      <td>5.0</td>\n",
       "    </tr>\n",
       "    <tr>\n",
       "      <th>Tech_efficacy_5</th>\n",
       "      <td>2940.0</td>\n",
       "      <td>4.219388</td>\n",
       "      <td>0.776373</td>\n",
       "      <td>1.0</td>\n",
       "      <td>4.000000</td>\n",
       "      <td>4.000000</td>\n",
       "      <td>5.000000</td>\n",
       "      <td>5.0</td>\n",
       "    </tr>\n",
       "    <tr>\n",
       "      <th>Tech_efficacy_6</th>\n",
       "      <td>2940.0</td>\n",
       "      <td>4.122789</td>\n",
       "      <td>0.794390</td>\n",
       "      <td>1.0</td>\n",
       "      <td>4.000000</td>\n",
       "      <td>4.000000</td>\n",
       "      <td>5.000000</td>\n",
       "      <td>5.0</td>\n",
       "    </tr>\n",
       "    <tr>\n",
       "      <th>Tech_efficacy_7</th>\n",
       "      <td>2940.0</td>\n",
       "      <td>3.899320</td>\n",
       "      <td>0.913808</td>\n",
       "      <td>1.0</td>\n",
       "      <td>3.000000</td>\n",
       "      <td>4.000000</td>\n",
       "      <td>5.000000</td>\n",
       "      <td>5.0</td>\n",
       "    </tr>\n",
       "    <tr>\n",
       "      <th>Value_app_1</th>\n",
       "      <td>2940.0</td>\n",
       "      <td>4.180952</td>\n",
       "      <td>0.776863</td>\n",
       "      <td>1.0</td>\n",
       "      <td>4.000000</td>\n",
       "      <td>4.000000</td>\n",
       "      <td>5.000000</td>\n",
       "      <td>5.0</td>\n",
       "    </tr>\n",
       "    <tr>\n",
       "      <th>Value_app_2</th>\n",
       "      <td>2940.0</td>\n",
       "      <td>4.314626</td>\n",
       "      <td>0.715828</td>\n",
       "      <td>1.0</td>\n",
       "      <td>4.000000</td>\n",
       "      <td>4.000000</td>\n",
       "      <td>5.000000</td>\n",
       "      <td>5.0</td>\n",
       "    </tr>\n",
       "    <tr>\n",
       "      <th>Value_app_3</th>\n",
       "      <td>2940.0</td>\n",
       "      <td>4.196939</td>\n",
       "      <td>0.775381</td>\n",
       "      <td>1.0</td>\n",
       "      <td>4.000000</td>\n",
       "      <td>4.000000</td>\n",
       "      <td>5.000000</td>\n",
       "      <td>5.0</td>\n",
       "    </tr>\n",
       "    <tr>\n",
       "      <th>Value_app_4</th>\n",
       "      <td>2940.0</td>\n",
       "      <td>4.359864</td>\n",
       "      <td>0.699794</td>\n",
       "      <td>1.0</td>\n",
       "      <td>4.000000</td>\n",
       "      <td>4.000000</td>\n",
       "      <td>5.000000</td>\n",
       "      <td>5.0</td>\n",
       "    </tr>\n",
       "    <tr>\n",
       "      <th>Value_app_5</th>\n",
       "      <td>2940.0</td>\n",
       "      <td>4.194898</td>\n",
       "      <td>0.773701</td>\n",
       "      <td>1.0</td>\n",
       "      <td>4.000000</td>\n",
       "      <td>4.000000</td>\n",
       "      <td>5.000000</td>\n",
       "      <td>5.0</td>\n",
       "    </tr>\n",
       "    <tr>\n",
       "      <th>Control_app_1</th>\n",
       "      <td>2940.0</td>\n",
       "      <td>3.795578</td>\n",
       "      <td>0.917514</td>\n",
       "      <td>1.0</td>\n",
       "      <td>3.000000</td>\n",
       "      <td>4.000000</td>\n",
       "      <td>5.000000</td>\n",
       "      <td>5.0</td>\n",
       "    </tr>\n",
       "    <tr>\n",
       "      <th>Control_app_2</th>\n",
       "      <td>2940.0</td>\n",
       "      <td>3.998299</td>\n",
       "      <td>0.824718</td>\n",
       "      <td>1.0</td>\n",
       "      <td>3.000000</td>\n",
       "      <td>4.000000</td>\n",
       "      <td>5.000000</td>\n",
       "      <td>5.0</td>\n",
       "    </tr>\n",
       "    <tr>\n",
       "      <th>Control_app_3</th>\n",
       "      <td>2940.0</td>\n",
       "      <td>4.018367</td>\n",
       "      <td>0.837414</td>\n",
       "      <td>1.0</td>\n",
       "      <td>4.000000</td>\n",
       "      <td>4.000000</td>\n",
       "      <td>5.000000</td>\n",
       "      <td>5.0</td>\n",
       "    </tr>\n",
       "    <tr>\n",
       "      <th>Control_app_4</th>\n",
       "      <td>2940.0</td>\n",
       "      <td>3.968027</td>\n",
       "      <td>0.906855</td>\n",
       "      <td>1.0</td>\n",
       "      <td>3.000000</td>\n",
       "      <td>4.000000</td>\n",
       "      <td>5.000000</td>\n",
       "      <td>5.0</td>\n",
       "    </tr>\n",
       "    <tr>\n",
       "      <th>Control_app_5</th>\n",
       "      <td>2940.0</td>\n",
       "      <td>3.313946</td>\n",
       "      <td>1.160954</td>\n",
       "      <td>1.0</td>\n",
       "      <td>3.000000</td>\n",
       "      <td>3.000000</td>\n",
       "      <td>4.000000</td>\n",
       "      <td>5.0</td>\n",
       "    </tr>\n",
       "    <tr>\n",
       "      <th>Enjoyment1</th>\n",
       "      <td>2940.0</td>\n",
       "      <td>3.991156</td>\n",
       "      <td>0.902488</td>\n",
       "      <td>1.0</td>\n",
       "      <td>4.000000</td>\n",
       "      <td>4.000000</td>\n",
       "      <td>5.000000</td>\n",
       "      <td>5.0</td>\n",
       "    </tr>\n",
       "    <tr>\n",
       "      <th>Enjoyment2</th>\n",
       "      <td>2940.0</td>\n",
       "      <td>4.146599</td>\n",
       "      <td>0.793349</td>\n",
       "      <td>1.0</td>\n",
       "      <td>4.000000</td>\n",
       "      <td>4.000000</td>\n",
       "      <td>5.000000</td>\n",
       "      <td>5.0</td>\n",
       "    </tr>\n",
       "    <tr>\n",
       "      <th>Hopefulness1</th>\n",
       "      <td>2940.0</td>\n",
       "      <td>4.144218</td>\n",
       "      <td>0.816813</td>\n",
       "      <td>1.0</td>\n",
       "      <td>4.000000</td>\n",
       "      <td>4.000000</td>\n",
       "      <td>5.000000</td>\n",
       "      <td>5.0</td>\n",
       "    </tr>\n",
       "    <tr>\n",
       "      <th>Hopefulness2</th>\n",
       "      <td>2940.0</td>\n",
       "      <td>4.132993</td>\n",
       "      <td>0.814758</td>\n",
       "      <td>1.0</td>\n",
       "      <td>4.000000</td>\n",
       "      <td>4.000000</td>\n",
       "      <td>5.000000</td>\n",
       "      <td>5.0</td>\n",
       "    </tr>\n",
       "    <tr>\n",
       "      <th>Pride1</th>\n",
       "      <td>2940.0</td>\n",
       "      <td>3.862245</td>\n",
       "      <td>0.902005</td>\n",
       "      <td>1.0</td>\n",
       "      <td>3.000000</td>\n",
       "      <td>4.000000</td>\n",
       "      <td>5.000000</td>\n",
       "      <td>5.0</td>\n",
       "    </tr>\n",
       "    <tr>\n",
       "      <th>Pride2</th>\n",
       "      <td>2940.0</td>\n",
       "      <td>3.992857</td>\n",
       "      <td>0.857060</td>\n",
       "      <td>1.0</td>\n",
       "      <td>4.000000</td>\n",
       "      <td>4.000000</td>\n",
       "      <td>5.000000</td>\n",
       "      <td>5.0</td>\n",
       "    </tr>\n",
       "    <tr>\n",
       "      <th>Anxiety1</th>\n",
       "      <td>2940.0</td>\n",
       "      <td>1.806463</td>\n",
       "      <td>0.906458</td>\n",
       "      <td>1.0</td>\n",
       "      <td>1.000000</td>\n",
       "      <td>2.000000</td>\n",
       "      <td>2.000000</td>\n",
       "      <td>5.0</td>\n",
       "    </tr>\n",
       "    <tr>\n",
       "      <th>Anxiety2</th>\n",
       "      <td>2940.0</td>\n",
       "      <td>1.778571</td>\n",
       "      <td>0.890930</td>\n",
       "      <td>1.0</td>\n",
       "      <td>1.000000</td>\n",
       "      <td>2.000000</td>\n",
       "      <td>2.000000</td>\n",
       "      <td>5.0</td>\n",
       "    </tr>\n",
       "    <tr>\n",
       "      <th>Hopelessness1</th>\n",
       "      <td>2940.0</td>\n",
       "      <td>1.604082</td>\n",
       "      <td>0.777173</td>\n",
       "      <td>1.0</td>\n",
       "      <td>1.000000</td>\n",
       "      <td>1.000000</td>\n",
       "      <td>2.000000</td>\n",
       "      <td>5.0</td>\n",
       "    </tr>\n",
       "    <tr>\n",
       "      <th>Hopelessness2</th>\n",
       "      <td>2940.0</td>\n",
       "      <td>1.575510</td>\n",
       "      <td>0.749784</td>\n",
       "      <td>1.0</td>\n",
       "      <td>1.000000</td>\n",
       "      <td>1.000000</td>\n",
       "      <td>2.000000</td>\n",
       "      <td>5.0</td>\n",
       "    </tr>\n",
       "    <tr>\n",
       "      <th>Boredom1</th>\n",
       "      <td>2940.0</td>\n",
       "      <td>1.733673</td>\n",
       "      <td>0.856984</td>\n",
       "      <td>1.0</td>\n",
       "      <td>1.000000</td>\n",
       "      <td>2.000000</td>\n",
       "      <td>2.000000</td>\n",
       "      <td>5.0</td>\n",
       "    </tr>\n",
       "    <tr>\n",
       "      <th>Boredom2</th>\n",
       "      <td>2940.0</td>\n",
       "      <td>1.684354</td>\n",
       "      <td>0.814775</td>\n",
       "      <td>1.0</td>\n",
       "      <td>1.000000</td>\n",
       "      <td>2.000000</td>\n",
       "      <td>2.000000</td>\n",
       "      <td>5.0</td>\n",
       "    </tr>\n",
       "    <tr>\n",
       "      <th>Outcome_goal_1</th>\n",
       "      <td>2940.0</td>\n",
       "      <td>4.265306</td>\n",
       "      <td>0.742219</td>\n",
       "      <td>1.0</td>\n",
       "      <td>4.000000</td>\n",
       "      <td>4.000000</td>\n",
       "      <td>5.000000</td>\n",
       "      <td>5.0</td>\n",
       "    </tr>\n",
       "    <tr>\n",
       "      <th>Outcome_goal_2</th>\n",
       "      <td>2940.0</td>\n",
       "      <td>4.564286</td>\n",
       "      <td>0.555479</td>\n",
       "      <td>1.0</td>\n",
       "      <td>4.000000</td>\n",
       "      <td>5.000000</td>\n",
       "      <td>5.000000</td>\n",
       "      <td>5.0</td>\n",
       "    </tr>\n",
       "    <tr>\n",
       "      <th>Outcome_goal_3</th>\n",
       "      <td>2940.0</td>\n",
       "      <td>3.952381</td>\n",
       "      <td>0.986698</td>\n",
       "      <td>1.0</td>\n",
       "      <td>4.000000</td>\n",
       "      <td>4.000000</td>\n",
       "      <td>5.000000</td>\n",
       "      <td>5.0</td>\n",
       "    </tr>\n",
       "    <tr>\n",
       "      <th>Ability_goal_1</th>\n",
       "      <td>2940.0</td>\n",
       "      <td>4.151361</td>\n",
       "      <td>0.810707</td>\n",
       "      <td>1.0</td>\n",
       "      <td>4.000000</td>\n",
       "      <td>4.000000</td>\n",
       "      <td>5.000000</td>\n",
       "      <td>5.0</td>\n",
       "    </tr>\n",
       "    <tr>\n",
       "      <th>Ability_goal_2</th>\n",
       "      <td>2940.0</td>\n",
       "      <td>4.140136</td>\n",
       "      <td>0.802400</td>\n",
       "      <td>1.0</td>\n",
       "      <td>4.000000</td>\n",
       "      <td>4.000000</td>\n",
       "      <td>5.000000</td>\n",
       "      <td>5.0</td>\n",
       "    </tr>\n",
       "    <tr>\n",
       "      <th>Ability_goal_3</th>\n",
       "      <td>2940.0</td>\n",
       "      <td>4.222789</td>\n",
       "      <td>0.756749</td>\n",
       "      <td>1.0</td>\n",
       "      <td>4.000000</td>\n",
       "      <td>4.000000</td>\n",
       "      <td>5.000000</td>\n",
       "      <td>5.0</td>\n",
       "    </tr>\n",
       "    <tr>\n",
       "      <th>Neg_effort_1</th>\n",
       "      <td>2940.0</td>\n",
       "      <td>1.960884</td>\n",
       "      <td>1.028763</td>\n",
       "      <td>1.0</td>\n",
       "      <td>1.000000</td>\n",
       "      <td>2.000000</td>\n",
       "      <td>2.000000</td>\n",
       "      <td>5.0</td>\n",
       "    </tr>\n",
       "    <tr>\n",
       "      <th>Neg_effort_2</th>\n",
       "      <td>2940.0</td>\n",
       "      <td>2.253741</td>\n",
       "      <td>1.107171</td>\n",
       "      <td>1.0</td>\n",
       "      <td>1.000000</td>\n",
       "      <td>2.000000</td>\n",
       "      <td>3.000000</td>\n",
       "      <td>5.0</td>\n",
       "    </tr>\n",
       "    <tr>\n",
       "      <th>Neg_effort_3</th>\n",
       "      <td>2940.0</td>\n",
       "      <td>3.106122</td>\n",
       "      <td>1.188709</td>\n",
       "      <td>1.0</td>\n",
       "      <td>2.000000</td>\n",
       "      <td>3.000000</td>\n",
       "      <td>4.000000</td>\n",
       "      <td>5.0</td>\n",
       "    </tr>\n",
       "    <tr>\n",
       "      <th>Pos_effort_1</th>\n",
       "      <td>2940.0</td>\n",
       "      <td>4.181633</td>\n",
       "      <td>0.732051</td>\n",
       "      <td>1.0</td>\n",
       "      <td>4.000000</td>\n",
       "      <td>4.000000</td>\n",
       "      <td>5.000000</td>\n",
       "      <td>5.0</td>\n",
       "    </tr>\n",
       "    <tr>\n",
       "      <th>Pos_effort_2</th>\n",
       "      <td>2940.0</td>\n",
       "      <td>4.216667</td>\n",
       "      <td>0.766557</td>\n",
       "      <td>1.0</td>\n",
       "      <td>4.000000</td>\n",
       "      <td>4.000000</td>\n",
       "      <td>5.000000</td>\n",
       "      <td>5.0</td>\n",
       "    </tr>\n",
       "    <tr>\n",
       "      <th>Pos_effort_3</th>\n",
       "      <td>2940.0</td>\n",
       "      <td>4.072789</td>\n",
       "      <td>0.852198</td>\n",
       "      <td>1.0</td>\n",
       "      <td>4.000000</td>\n",
       "      <td>4.000000</td>\n",
       "      <td>5.000000</td>\n",
       "      <td>5.0</td>\n",
       "    </tr>\n",
       "    <tr>\n",
       "      <th>Tech_efficacy_aver</th>\n",
       "      <td>2940.0</td>\n",
       "      <td>4.170323</td>\n",
       "      <td>0.658043</td>\n",
       "      <td>1.0</td>\n",
       "      <td>3.750000</td>\n",
       "      <td>4.000000</td>\n",
       "      <td>4.750000</td>\n",
       "      <td>5.0</td>\n",
       "    </tr>\n",
       "    <tr>\n",
       "      <th>Control_app_aver</th>\n",
       "      <td>2940.0</td>\n",
       "      <td>3.768963</td>\n",
       "      <td>0.763225</td>\n",
       "      <td>1.0</td>\n",
       "      <td>3.250000</td>\n",
       "      <td>3.750000</td>\n",
       "      <td>4.250000</td>\n",
       "      <td>5.0</td>\n",
       "    </tr>\n",
       "    <tr>\n",
       "      <th>Value_app_aver</th>\n",
       "      <td>2940.0</td>\n",
       "      <td>4.249456</td>\n",
       "      <td>0.631219</td>\n",
       "      <td>1.0</td>\n",
       "      <td>4.000000</td>\n",
       "      <td>4.200000</td>\n",
       "      <td>4.800000</td>\n",
       "      <td>5.0</td>\n",
       "    </tr>\n",
       "    <tr>\n",
       "      <th>Enjoyment_aver</th>\n",
       "      <td>2940.0</td>\n",
       "      <td>4.068878</td>\n",
       "      <td>0.803362</td>\n",
       "      <td>1.0</td>\n",
       "      <td>4.000000</td>\n",
       "      <td>4.000000</td>\n",
       "      <td>5.000000</td>\n",
       "      <td>5.0</td>\n",
       "    </tr>\n",
       "    <tr>\n",
       "      <th>Hopefulness_aver</th>\n",
       "      <td>2940.0</td>\n",
       "      <td>4.138605</td>\n",
       "      <td>0.772809</td>\n",
       "      <td>1.0</td>\n",
       "      <td>4.000000</td>\n",
       "      <td>4.000000</td>\n",
       "      <td>5.000000</td>\n",
       "      <td>5.0</td>\n",
       "    </tr>\n",
       "    <tr>\n",
       "      <th>Pride_aver</th>\n",
       "      <td>2940.0</td>\n",
       "      <td>3.927551</td>\n",
       "      <td>0.845815</td>\n",
       "      <td>1.0</td>\n",
       "      <td>3.500000</td>\n",
       "      <td>4.000000</td>\n",
       "      <td>4.500000</td>\n",
       "      <td>5.0</td>\n",
       "    </tr>\n",
       "    <tr>\n",
       "      <th>Anger_aver</th>\n",
       "      <td>2940.0</td>\n",
       "      <td>1.637925</td>\n",
       "      <td>0.826332</td>\n",
       "      <td>1.0</td>\n",
       "      <td>1.000000</td>\n",
       "      <td>1.000000</td>\n",
       "      <td>2.000000</td>\n",
       "      <td>5.0</td>\n",
       "    </tr>\n",
       "    <tr>\n",
       "      <th>Anxiety_aver</th>\n",
       "      <td>2940.0</td>\n",
       "      <td>1.792517</td>\n",
       "      <td>0.853497</td>\n",
       "      <td>1.0</td>\n",
       "      <td>1.000000</td>\n",
       "      <td>2.000000</td>\n",
       "      <td>2.000000</td>\n",
       "      <td>5.0</td>\n",
       "    </tr>\n",
       "    <tr>\n",
       "      <th>Shame_aver</th>\n",
       "      <td>2940.0</td>\n",
       "      <td>2.072789</td>\n",
       "      <td>0.890180</td>\n",
       "      <td>1.0</td>\n",
       "      <td>1.000000</td>\n",
       "      <td>2.000000</td>\n",
       "      <td>3.000000</td>\n",
       "      <td>5.0</td>\n",
       "    </tr>\n",
       "    <tr>\n",
       "      <th>Hopelessness_aver</th>\n",
       "      <td>2940.0</td>\n",
       "      <td>1.589796</td>\n",
       "      <td>0.747866</td>\n",
       "      <td>1.0</td>\n",
       "      <td>1.000000</td>\n",
       "      <td>1.000000</td>\n",
       "      <td>2.000000</td>\n",
       "      <td>5.0</td>\n",
       "    </tr>\n",
       "    <tr>\n",
       "      <th>Boredom_aver</th>\n",
       "      <td>2940.0</td>\n",
       "      <td>1.709014</td>\n",
       "      <td>0.808851</td>\n",
       "      <td>1.0</td>\n",
       "      <td>1.000000</td>\n",
       "      <td>2.000000</td>\n",
       "      <td>2.000000</td>\n",
       "      <td>5.0</td>\n",
       "    </tr>\n",
       "    <tr>\n",
       "      <th>Outcome_goal_aver</th>\n",
       "      <td>2940.0</td>\n",
       "      <td>4.260658</td>\n",
       "      <td>0.612623</td>\n",
       "      <td>1.0</td>\n",
       "      <td>4.000000</td>\n",
       "      <td>4.000000</td>\n",
       "      <td>5.000000</td>\n",
       "      <td>5.0</td>\n",
       "    </tr>\n",
       "    <tr>\n",
       "      <th>Ability_goal_aver</th>\n",
       "      <td>2940.0</td>\n",
       "      <td>4.171429</td>\n",
       "      <td>0.681762</td>\n",
       "      <td>1.0</td>\n",
       "      <td>4.000000</td>\n",
       "      <td>4.000000</td>\n",
       "      <td>5.000000</td>\n",
       "      <td>5.0</td>\n",
       "    </tr>\n",
       "    <tr>\n",
       "      <th>Neg_effort_aver</th>\n",
       "      <td>2940.0</td>\n",
       "      <td>2.440249</td>\n",
       "      <td>0.827501</td>\n",
       "      <td>1.0</td>\n",
       "      <td>2.000000</td>\n",
       "      <td>2.333333</td>\n",
       "      <td>3.000000</td>\n",
       "      <td>5.0</td>\n",
       "    </tr>\n",
       "    <tr>\n",
       "      <th>Pos_effort_aver</th>\n",
       "      <td>2940.0</td>\n",
       "      <td>4.157029</td>\n",
       "      <td>0.656971</td>\n",
       "      <td>1.0</td>\n",
       "      <td>3.666667</td>\n",
       "      <td>4.000000</td>\n",
       "      <td>4.666667</td>\n",
       "      <td>5.0</td>\n",
       "    </tr>\n",
       "  </tbody>\n",
       "</table>\n",
       "</div>"
      ],
      "text/plain": [
       "                     count       mean       std  min        25%        50%  \\\n",
       "Gender              2940.0   0.513265  0.499909  0.0   0.000000   1.000000   \n",
       "Age                 2940.0  12.209524  1.677558  9.0  11.000000  12.000000   \n",
       "Grade               2940.0   6.274150  1.698130  4.0   5.000000   6.000000   \n",
       "School_level        2940.0   1.956122  0.822725  1.0   1.000000   2.000000   \n",
       "Tech_efficacy_1     2940.0   3.697619  1.179700  1.0   3.000000   4.000000   \n",
       "Tech_efficacy_2     2940.0   4.380272  0.680966  1.0   4.000000   4.000000   \n",
       "Tech_efficacy_3     2940.0   4.451701  0.629366  1.0   4.000000   5.000000   \n",
       "Tech_efficacy_4     2940.0   4.439796  0.644907  1.0   4.000000   5.000000   \n",
       "Tech_efficacy_5     2940.0   4.219388  0.776373  1.0   4.000000   4.000000   \n",
       "Tech_efficacy_6     2940.0   4.122789  0.794390  1.0   4.000000   4.000000   \n",
       "Tech_efficacy_7     2940.0   3.899320  0.913808  1.0   3.000000   4.000000   \n",
       "Value_app_1         2940.0   4.180952  0.776863  1.0   4.000000   4.000000   \n",
       "Value_app_2         2940.0   4.314626  0.715828  1.0   4.000000   4.000000   \n",
       "Value_app_3         2940.0   4.196939  0.775381  1.0   4.000000   4.000000   \n",
       "Value_app_4         2940.0   4.359864  0.699794  1.0   4.000000   4.000000   \n",
       "Value_app_5         2940.0   4.194898  0.773701  1.0   4.000000   4.000000   \n",
       "Control_app_1       2940.0   3.795578  0.917514  1.0   3.000000   4.000000   \n",
       "Control_app_2       2940.0   3.998299  0.824718  1.0   3.000000   4.000000   \n",
       "Control_app_3       2940.0   4.018367  0.837414  1.0   4.000000   4.000000   \n",
       "Control_app_4       2940.0   3.968027  0.906855  1.0   3.000000   4.000000   \n",
       "Control_app_5       2940.0   3.313946  1.160954  1.0   3.000000   3.000000   \n",
       "Enjoyment1          2940.0   3.991156  0.902488  1.0   4.000000   4.000000   \n",
       "Enjoyment2          2940.0   4.146599  0.793349  1.0   4.000000   4.000000   \n",
       "Hopefulness1        2940.0   4.144218  0.816813  1.0   4.000000   4.000000   \n",
       "Hopefulness2        2940.0   4.132993  0.814758  1.0   4.000000   4.000000   \n",
       "Pride1              2940.0   3.862245  0.902005  1.0   3.000000   4.000000   \n",
       "Pride2              2940.0   3.992857  0.857060  1.0   4.000000   4.000000   \n",
       "Anxiety1            2940.0   1.806463  0.906458  1.0   1.000000   2.000000   \n",
       "Anxiety2            2940.0   1.778571  0.890930  1.0   1.000000   2.000000   \n",
       "Hopelessness1       2940.0   1.604082  0.777173  1.0   1.000000   1.000000   \n",
       "Hopelessness2       2940.0   1.575510  0.749784  1.0   1.000000   1.000000   \n",
       "Boredom1            2940.0   1.733673  0.856984  1.0   1.000000   2.000000   \n",
       "Boredom2            2940.0   1.684354  0.814775  1.0   1.000000   2.000000   \n",
       "Outcome_goal_1      2940.0   4.265306  0.742219  1.0   4.000000   4.000000   \n",
       "Outcome_goal_2      2940.0   4.564286  0.555479  1.0   4.000000   5.000000   \n",
       "Outcome_goal_3      2940.0   3.952381  0.986698  1.0   4.000000   4.000000   \n",
       "Ability_goal_1      2940.0   4.151361  0.810707  1.0   4.000000   4.000000   \n",
       "Ability_goal_2      2940.0   4.140136  0.802400  1.0   4.000000   4.000000   \n",
       "Ability_goal_3      2940.0   4.222789  0.756749  1.0   4.000000   4.000000   \n",
       "Neg_effort_1        2940.0   1.960884  1.028763  1.0   1.000000   2.000000   \n",
       "Neg_effort_2        2940.0   2.253741  1.107171  1.0   1.000000   2.000000   \n",
       "Neg_effort_3        2940.0   3.106122  1.188709  1.0   2.000000   3.000000   \n",
       "Pos_effort_1        2940.0   4.181633  0.732051  1.0   4.000000   4.000000   \n",
       "Pos_effort_2        2940.0   4.216667  0.766557  1.0   4.000000   4.000000   \n",
       "Pos_effort_3        2940.0   4.072789  0.852198  1.0   4.000000   4.000000   \n",
       "Tech_efficacy_aver  2940.0   4.170323  0.658043  1.0   3.750000   4.000000   \n",
       "Control_app_aver    2940.0   3.768963  0.763225  1.0   3.250000   3.750000   \n",
       "Value_app_aver      2940.0   4.249456  0.631219  1.0   4.000000   4.200000   \n",
       "Enjoyment_aver      2940.0   4.068878  0.803362  1.0   4.000000   4.000000   \n",
       "Hopefulness_aver    2940.0   4.138605  0.772809  1.0   4.000000   4.000000   \n",
       "Pride_aver          2940.0   3.927551  0.845815  1.0   3.500000   4.000000   \n",
       "Anger_aver          2940.0   1.637925  0.826332  1.0   1.000000   1.000000   \n",
       "Anxiety_aver        2940.0   1.792517  0.853497  1.0   1.000000   2.000000   \n",
       "Shame_aver          2940.0   2.072789  0.890180  1.0   1.000000   2.000000   \n",
       "Hopelessness_aver   2940.0   1.589796  0.747866  1.0   1.000000   1.000000   \n",
       "Boredom_aver        2940.0   1.709014  0.808851  1.0   1.000000   2.000000   \n",
       "Outcome_goal_aver   2940.0   4.260658  0.612623  1.0   4.000000   4.000000   \n",
       "Ability_goal_aver   2940.0   4.171429  0.681762  1.0   4.000000   4.000000   \n",
       "Neg_effort_aver     2940.0   2.440249  0.827501  1.0   2.000000   2.333333   \n",
       "Pos_effort_aver     2940.0   4.157029  0.656971  1.0   3.666667   4.000000   \n",
       "\n",
       "                          75%   max  \n",
       "Gender               1.000000   1.0  \n",
       "Age                 14.000000  17.0  \n",
       "Grade                8.000000   9.0  \n",
       "School_level         3.000000   3.0  \n",
       "Tech_efficacy_1      5.000000   5.0  \n",
       "Tech_efficacy_2      5.000000   5.0  \n",
       "Tech_efficacy_3      5.000000   5.0  \n",
       "Tech_efficacy_4      5.000000   5.0  \n",
       "Tech_efficacy_5      5.000000   5.0  \n",
       "Tech_efficacy_6      5.000000   5.0  \n",
       "Tech_efficacy_7      5.000000   5.0  \n",
       "Value_app_1          5.000000   5.0  \n",
       "Value_app_2          5.000000   5.0  \n",
       "Value_app_3          5.000000   5.0  \n",
       "Value_app_4          5.000000   5.0  \n",
       "Value_app_5          5.000000   5.0  \n",
       "Control_app_1        5.000000   5.0  \n",
       "Control_app_2        5.000000   5.0  \n",
       "Control_app_3        5.000000   5.0  \n",
       "Control_app_4        5.000000   5.0  \n",
       "Control_app_5        4.000000   5.0  \n",
       "Enjoyment1           5.000000   5.0  \n",
       "Enjoyment2           5.000000   5.0  \n",
       "Hopefulness1         5.000000   5.0  \n",
       "Hopefulness2         5.000000   5.0  \n",
       "Pride1               5.000000   5.0  \n",
       "Pride2               5.000000   5.0  \n",
       "Anxiety1             2.000000   5.0  \n",
       "Anxiety2             2.000000   5.0  \n",
       "Hopelessness1        2.000000   5.0  \n",
       "Hopelessness2        2.000000   5.0  \n",
       "Boredom1             2.000000   5.0  \n",
       "Boredom2             2.000000   5.0  \n",
       "Outcome_goal_1       5.000000   5.0  \n",
       "Outcome_goal_2       5.000000   5.0  \n",
       "Outcome_goal_3       5.000000   5.0  \n",
       "Ability_goal_1       5.000000   5.0  \n",
       "Ability_goal_2       5.000000   5.0  \n",
       "Ability_goal_3       5.000000   5.0  \n",
       "Neg_effort_1         2.000000   5.0  \n",
       "Neg_effort_2         3.000000   5.0  \n",
       "Neg_effort_3         4.000000   5.0  \n",
       "Pos_effort_1         5.000000   5.0  \n",
       "Pos_effort_2         5.000000   5.0  \n",
       "Pos_effort_3         5.000000   5.0  \n",
       "Tech_efficacy_aver   4.750000   5.0  \n",
       "Control_app_aver     4.250000   5.0  \n",
       "Value_app_aver       4.800000   5.0  \n",
       "Enjoyment_aver       5.000000   5.0  \n",
       "Hopefulness_aver     5.000000   5.0  \n",
       "Pride_aver           4.500000   5.0  \n",
       "Anger_aver           2.000000   5.0  \n",
       "Anxiety_aver         2.000000   5.0  \n",
       "Shame_aver           3.000000   5.0  \n",
       "Hopelessness_aver    2.000000   5.0  \n",
       "Boredom_aver         2.000000   5.0  \n",
       "Outcome_goal_aver    5.000000   5.0  \n",
       "Ability_goal_aver    5.000000   5.0  \n",
       "Neg_effort_aver      3.000000   5.0  \n",
       "Pos_effort_aver      4.666667   5.0  "
      ]
     },
     "metadata": {},
     "output_type": "display_data"
    },
    {
     "name": "stdout",
     "output_type": "stream",
     "text": [
      "────────────────────────────────────────────────────────────────────────────────────────────────────\n",
      "🌋 Descripción de los datos no-numéricos:\n",
      "📭 No hay columnas tipo \"object\" en este DataFrame.\n",
      "────────────────────────────────────────────────────────────────────────────────────────────────────\n",
      "🍂 Número de valores únicos por columna:\n"
     ]
    },
    {
     "data": {
      "application/vnd.microsoft.datawrangler.viewer.v0+json": {
       "columns": [
        {
         "name": "index",
         "rawType": "object",
         "type": "string"
        },
        {
         "name": "0",
         "rawType": "int64",
         "type": "integer"
        }
       ],
       "ref": "04c93f30-dc5c-4a9c-b09a-d01762e79098",
       "rows": [
        [
         "Gender",
         "2"
        ],
        [
         "Age",
         "9"
        ],
        [
         "Grade",
         "6"
        ],
        [
         "School_level",
         "3"
        ],
        [
         "Tech_efficacy_1",
         "5"
        ],
        [
         "Tech_efficacy_2",
         "5"
        ],
        [
         "Tech_efficacy_3",
         "5"
        ],
        [
         "Tech_efficacy_4",
         "5"
        ],
        [
         "Tech_efficacy_5",
         "5"
        ],
        [
         "Tech_efficacy_6",
         "5"
        ],
        [
         "Tech_efficacy_7",
         "5"
        ],
        [
         "Value_app_1",
         "5"
        ],
        [
         "Value_app_2",
         "5"
        ],
        [
         "Value_app_3",
         "5"
        ],
        [
         "Value_app_4",
         "5"
        ],
        [
         "Value_app_5",
         "5"
        ],
        [
         "Control_app_1",
         "5"
        ],
        [
         "Control_app_2",
         "5"
        ],
        [
         "Control_app_3",
         "5"
        ],
        [
         "Control_app_4",
         "5"
        ],
        [
         "Control_app_5",
         "5"
        ],
        [
         "Enjoyment1",
         "5"
        ],
        [
         "Enjoyment2",
         "5"
        ],
        [
         "Hopefulness1",
         "5"
        ],
        [
         "Hopefulness2",
         "5"
        ],
        [
         "Pride1",
         "5"
        ],
        [
         "Pride2",
         "5"
        ],
        [
         "Anxiety1",
         "5"
        ],
        [
         "Anxiety2",
         "5"
        ],
        [
         "Hopelessness1",
         "5"
        ],
        [
         "Hopelessness2",
         "5"
        ],
        [
         "Boredom1",
         "5"
        ],
        [
         "Boredom2",
         "5"
        ],
        [
         "Outcome_goal_1",
         "5"
        ],
        [
         "Outcome_goal_2",
         "5"
        ],
        [
         "Outcome_goal_3",
         "5"
        ],
        [
         "Ability_goal_1",
         "5"
        ],
        [
         "Ability_goal_2",
         "5"
        ],
        [
         "Ability_goal_3",
         "5"
        ],
        [
         "Neg_effort_1",
         "5"
        ],
        [
         "Neg_effort_2",
         "5"
        ],
        [
         "Neg_effort_3",
         "5"
        ],
        [
         "Pos_effort_1",
         "5"
        ],
        [
         "Pos_effort_2",
         "5"
        ],
        [
         "Pos_effort_3",
         "5"
        ],
        [
         "Tech_efficacy_aver",
         "17"
        ],
        [
         "Control_app_aver",
         "17"
        ],
        [
         "Value_app_aver",
         "18"
        ],
        [
         "Enjoyment_aver",
         "9"
        ],
        [
         "Hopefulness_aver",
         "9"
        ]
       ],
       "shape": {
        "columns": 1,
        "rows": 60
       }
      },
      "text/plain": [
       "Gender                 2\n",
       "Age                    9\n",
       "Grade                  6\n",
       "School_level           3\n",
       "Tech_efficacy_1        5\n",
       "Tech_efficacy_2        5\n",
       "Tech_efficacy_3        5\n",
       "Tech_efficacy_4        5\n",
       "Tech_efficacy_5        5\n",
       "Tech_efficacy_6        5\n",
       "Tech_efficacy_7        5\n",
       "Value_app_1            5\n",
       "Value_app_2            5\n",
       "Value_app_3            5\n",
       "Value_app_4            5\n",
       "Value_app_5            5\n",
       "Control_app_1          5\n",
       "Control_app_2          5\n",
       "Control_app_3          5\n",
       "Control_app_4          5\n",
       "Control_app_5          5\n",
       "Enjoyment1             5\n",
       "Enjoyment2             5\n",
       "Hopefulness1           5\n",
       "Hopefulness2           5\n",
       "Pride1                 5\n",
       "Pride2                 5\n",
       "Anxiety1               5\n",
       "Anxiety2               5\n",
       "Hopelessness1          5\n",
       "Hopelessness2          5\n",
       "Boredom1               5\n",
       "Boredom2               5\n",
       "Outcome_goal_1         5\n",
       "Outcome_goal_2         5\n",
       "Outcome_goal_3         5\n",
       "Ability_goal_1         5\n",
       "Ability_goal_2         5\n",
       "Ability_goal_3         5\n",
       "Neg_effort_1           5\n",
       "Neg_effort_2           5\n",
       "Neg_effort_3           5\n",
       "Pos_effort_1           5\n",
       "Pos_effort_2           5\n",
       "Pos_effort_3           5\n",
       "Tech_efficacy_aver    17\n",
       "Control_app_aver      17\n",
       "Value_app_aver        18\n",
       "Enjoyment_aver         9\n",
       "Hopefulness_aver       9\n",
       "Pride_aver             8\n",
       "Anger_aver             9\n",
       "Anxiety_aver           9\n",
       "Shame_aver             9\n",
       "Hopelessness_aver      9\n",
       "Boredom_aver           9\n",
       "Outcome_goal_aver     11\n",
       "Ability_goal_aver     13\n",
       "Neg_effort_aver       13\n",
       "Pos_effort_aver       13\n",
       "dtype: int64"
      ]
     },
     "metadata": {},
     "output_type": "display_data"
    },
    {
     "name": "stdout",
     "output_type": "stream",
     "text": [
      "────────────────────────────────────────────────────────────────────────────────────────────────────\n",
      "🐖 Valores nulos por columna:\n"
     ]
    },
    {
     "data": {
      "application/vnd.microsoft.datawrangler.viewer.v0+json": {
       "columns": [
        {
         "name": "index",
         "rawType": "object",
         "type": "string"
        },
        {
         "name": "0",
         "rawType": "int64",
         "type": "integer"
        }
       ],
       "ref": "277437f3-ce83-41a0-8f15-d90179bdbf1f",
       "rows": [
        [
         "Gender",
         "0"
        ],
        [
         "Age",
         "0"
        ],
        [
         "Grade",
         "0"
        ],
        [
         "School_level",
         "0"
        ],
        [
         "Tech_efficacy_1",
         "0"
        ],
        [
         "Tech_efficacy_2",
         "0"
        ],
        [
         "Tech_efficacy_3",
         "0"
        ],
        [
         "Tech_efficacy_4",
         "0"
        ],
        [
         "Tech_efficacy_5",
         "0"
        ],
        [
         "Tech_efficacy_6",
         "0"
        ],
        [
         "Tech_efficacy_7",
         "0"
        ],
        [
         "Value_app_1",
         "0"
        ],
        [
         "Value_app_2",
         "0"
        ],
        [
         "Value_app_3",
         "0"
        ],
        [
         "Value_app_4",
         "0"
        ],
        [
         "Value_app_5",
         "0"
        ],
        [
         "Control_app_1",
         "0"
        ],
        [
         "Control_app_2",
         "0"
        ],
        [
         "Control_app_3",
         "0"
        ],
        [
         "Control_app_4",
         "0"
        ],
        [
         "Control_app_5",
         "0"
        ],
        [
         "Enjoyment1",
         "0"
        ],
        [
         "Enjoyment2",
         "0"
        ],
        [
         "Hopefulness1",
         "0"
        ],
        [
         "Hopefulness2",
         "0"
        ],
        [
         "Pride1",
         "0"
        ],
        [
         "Pride2",
         "0"
        ],
        [
         "Anxiety1",
         "0"
        ],
        [
         "Anxiety2",
         "0"
        ],
        [
         "Hopelessness1",
         "0"
        ],
        [
         "Hopelessness2",
         "0"
        ],
        [
         "Boredom1",
         "0"
        ],
        [
         "Boredom2",
         "0"
        ],
        [
         "Outcome_goal_1",
         "0"
        ],
        [
         "Outcome_goal_2",
         "0"
        ],
        [
         "Outcome_goal_3",
         "0"
        ],
        [
         "Ability_goal_1",
         "0"
        ],
        [
         "Ability_goal_2",
         "0"
        ],
        [
         "Ability_goal_3",
         "0"
        ],
        [
         "Neg_effort_1",
         "0"
        ],
        [
         "Neg_effort_2",
         "0"
        ],
        [
         "Neg_effort_3",
         "0"
        ],
        [
         "Pos_effort_1",
         "0"
        ],
        [
         "Pos_effort_2",
         "0"
        ],
        [
         "Pos_effort_3",
         "0"
        ],
        [
         "Tech_efficacy_aver",
         "0"
        ],
        [
         "Control_app_aver",
         "0"
        ],
        [
         "Value_app_aver",
         "0"
        ],
        [
         "Enjoyment_aver",
         "0"
        ],
        [
         "Hopefulness_aver",
         "0"
        ]
       ],
       "shape": {
        "columns": 1,
        "rows": 60
       }
      },
      "text/plain": [
       "Gender                0\n",
       "Age                   0\n",
       "Grade                 0\n",
       "School_level          0\n",
       "Tech_efficacy_1       0\n",
       "Tech_efficacy_2       0\n",
       "Tech_efficacy_3       0\n",
       "Tech_efficacy_4       0\n",
       "Tech_efficacy_5       0\n",
       "Tech_efficacy_6       0\n",
       "Tech_efficacy_7       0\n",
       "Value_app_1           0\n",
       "Value_app_2           0\n",
       "Value_app_3           0\n",
       "Value_app_4           0\n",
       "Value_app_5           0\n",
       "Control_app_1         0\n",
       "Control_app_2         0\n",
       "Control_app_3         0\n",
       "Control_app_4         0\n",
       "Control_app_5         0\n",
       "Enjoyment1            0\n",
       "Enjoyment2            0\n",
       "Hopefulness1          0\n",
       "Hopefulness2          0\n",
       "Pride1                0\n",
       "Pride2                0\n",
       "Anxiety1              0\n",
       "Anxiety2              0\n",
       "Hopelessness1         0\n",
       "Hopelessness2         0\n",
       "Boredom1              0\n",
       "Boredom2              0\n",
       "Outcome_goal_1        0\n",
       "Outcome_goal_2        0\n",
       "Outcome_goal_3        0\n",
       "Ability_goal_1        0\n",
       "Ability_goal_2        0\n",
       "Ability_goal_3        0\n",
       "Neg_effort_1          0\n",
       "Neg_effort_2          0\n",
       "Neg_effort_3          0\n",
       "Pos_effort_1          0\n",
       "Pos_effort_2          0\n",
       "Pos_effort_3          0\n",
       "Tech_efficacy_aver    0\n",
       "Control_app_aver      0\n",
       "Value_app_aver        0\n",
       "Enjoyment_aver        0\n",
       "Hopefulness_aver      0\n",
       "Pride_aver            0\n",
       "Anger_aver            0\n",
       "Anxiety_aver          0\n",
       "Shame_aver            0\n",
       "Hopelessness_aver     0\n",
       "Boredom_aver          0\n",
       "Outcome_goal_aver     0\n",
       "Ability_goal_aver     0\n",
       "Neg_effort_aver       0\n",
       "Pos_effort_aver       0\n",
       "dtype: int64"
      ]
     },
     "metadata": {},
     "output_type": "display_data"
    },
    {
     "name": "stdout",
     "output_type": "stream",
     "text": [
      "────────────────────────────────────────────────────────────────────────────────────────────────────\n",
      "🐲 Filas duplicadas:\n",
      "📛 Hay 35 filas duplicadas.\n"
     ]
    },
    {
     "data": {
      "application/vnd.microsoft.datawrangler.viewer.v0+json": {
       "columns": [
        {
         "name": "index",
         "rawType": "int64",
         "type": "integer"
        },
        {
         "name": "Gender",
         "rawType": "int64",
         "type": "integer"
        },
        {
         "name": "Age",
         "rawType": "int64",
         "type": "integer"
        },
        {
         "name": "Grade",
         "rawType": "int64",
         "type": "integer"
        },
        {
         "name": "School_level",
         "rawType": "int64",
         "type": "integer"
        },
        {
         "name": "Tech_efficacy_1",
         "rawType": "int64",
         "type": "integer"
        },
        {
         "name": "Tech_efficacy_2",
         "rawType": "int64",
         "type": "integer"
        },
        {
         "name": "Tech_efficacy_3",
         "rawType": "int64",
         "type": "integer"
        },
        {
         "name": "Tech_efficacy_4",
         "rawType": "int64",
         "type": "integer"
        },
        {
         "name": "Tech_efficacy_5",
         "rawType": "int64",
         "type": "integer"
        },
        {
         "name": "Tech_efficacy_6",
         "rawType": "int64",
         "type": "integer"
        },
        {
         "name": "Tech_efficacy_7",
         "rawType": "int64",
         "type": "integer"
        },
        {
         "name": "Value_app_1",
         "rawType": "int64",
         "type": "integer"
        },
        {
         "name": "Value_app_2",
         "rawType": "int64",
         "type": "integer"
        },
        {
         "name": "Value_app_3",
         "rawType": "int64",
         "type": "integer"
        },
        {
         "name": "Value_app_4",
         "rawType": "int64",
         "type": "integer"
        },
        {
         "name": "Value_app_5",
         "rawType": "int64",
         "type": "integer"
        },
        {
         "name": "Control_app_1",
         "rawType": "int64",
         "type": "integer"
        },
        {
         "name": "Control_app_2",
         "rawType": "int64",
         "type": "integer"
        },
        {
         "name": "Control_app_3",
         "rawType": "int64",
         "type": "integer"
        },
        {
         "name": "Control_app_4",
         "rawType": "int64",
         "type": "integer"
        },
        {
         "name": "Control_app_5",
         "rawType": "int64",
         "type": "integer"
        },
        {
         "name": "Enjoyment1",
         "rawType": "int64",
         "type": "integer"
        },
        {
         "name": "Enjoyment2",
         "rawType": "int64",
         "type": "integer"
        },
        {
         "name": "Hopefulness1",
         "rawType": "int64",
         "type": "integer"
        },
        {
         "name": "Hopefulness2",
         "rawType": "int64",
         "type": "integer"
        },
        {
         "name": "Pride1",
         "rawType": "int64",
         "type": "integer"
        },
        {
         "name": "Pride2",
         "rawType": "int64",
         "type": "integer"
        },
        {
         "name": "Anxiety1",
         "rawType": "int64",
         "type": "integer"
        },
        {
         "name": "Anxiety2",
         "rawType": "int64",
         "type": "integer"
        },
        {
         "name": "Hopelessness1",
         "rawType": "int64",
         "type": "integer"
        },
        {
         "name": "Hopelessness2",
         "rawType": "int64",
         "type": "integer"
        },
        {
         "name": "Boredom1",
         "rawType": "int64",
         "type": "integer"
        },
        {
         "name": "Boredom2",
         "rawType": "int64",
         "type": "integer"
        },
        {
         "name": "Outcome_goal_1",
         "rawType": "int64",
         "type": "integer"
        },
        {
         "name": "Outcome_goal_2",
         "rawType": "int64",
         "type": "integer"
        },
        {
         "name": "Outcome_goal_3",
         "rawType": "int64",
         "type": "integer"
        },
        {
         "name": "Ability_goal_1",
         "rawType": "int64",
         "type": "integer"
        },
        {
         "name": "Ability_goal_2",
         "rawType": "int64",
         "type": "integer"
        },
        {
         "name": "Ability_goal_3",
         "rawType": "int64",
         "type": "integer"
        },
        {
         "name": "Neg_effort_1",
         "rawType": "int64",
         "type": "integer"
        },
        {
         "name": "Neg_effort_2",
         "rawType": "int64",
         "type": "integer"
        },
        {
         "name": "Neg_effort_3",
         "rawType": "int64",
         "type": "integer"
        },
        {
         "name": "Pos_effort_1",
         "rawType": "int64",
         "type": "integer"
        },
        {
         "name": "Pos_effort_2",
         "rawType": "int64",
         "type": "integer"
        },
        {
         "name": "Pos_effort_3",
         "rawType": "int64",
         "type": "integer"
        },
        {
         "name": "Tech_efficacy_aver",
         "rawType": "float64",
         "type": "float"
        },
        {
         "name": "Control_app_aver",
         "rawType": "float64",
         "type": "float"
        },
        {
         "name": "Value_app_aver",
         "rawType": "float64",
         "type": "float"
        },
        {
         "name": "Enjoyment_aver",
         "rawType": "float64",
         "type": "float"
        },
        {
         "name": "Hopefulness_aver",
         "rawType": "float64",
         "type": "float"
        },
        {
         "name": "Pride_aver",
         "rawType": "float64",
         "type": "float"
        },
        {
         "name": "Anger_aver",
         "rawType": "float64",
         "type": "float"
        },
        {
         "name": "Anxiety_aver",
         "rawType": "float64",
         "type": "float"
        },
        {
         "name": "Shame_aver",
         "rawType": "float64",
         "type": "float"
        },
        {
         "name": "Hopelessness_aver",
         "rawType": "float64",
         "type": "float"
        },
        {
         "name": "Boredom_aver",
         "rawType": "float64",
         "type": "float"
        },
        {
         "name": "Outcome_goal_aver",
         "rawType": "float64",
         "type": "float"
        },
        {
         "name": "Ability_goal_aver",
         "rawType": "float64",
         "type": "float"
        },
        {
         "name": "Neg_effort_aver",
         "rawType": "float64",
         "type": "float"
        },
        {
         "name": "Pos_effort_aver",
         "rawType": "float64",
         "type": "float"
        }
       ],
       "ref": "03b466df-33da-4a05-b314-8843edd7e592",
       "rows": [
        [
         "463",
         "1",
         "10",
         "4",
         "2",
         "5",
         "5",
         "5",
         "5",
         "5",
         "5",
         "5",
         "5",
         "5",
         "5",
         "5",
         "5",
         "5",
         "5",
         "5",
         "5",
         "5",
         "5",
         "5",
         "5",
         "5",
         "5",
         "5",
         "1",
         "1",
         "1",
         "1",
         "1",
         "1",
         "5",
         "5",
         "5",
         "5",
         "5",
         "5",
         "1",
         "1",
         "5",
         "5",
         "5",
         "5",
         "5.0",
         "5.0",
         "5.0",
         "5.0",
         "5.0",
         "5.0",
         "1.0",
         "1.0",
         "1.0",
         "1.0",
         "1.0",
         "5.0",
         "5.0",
         "2.3333333333333335",
         "5.0"
        ],
        [
         "477",
         "0",
         "10",
         "4",
         "2",
         "5",
         "5",
         "5",
         "5",
         "5",
         "5",
         "5",
         "5",
         "5",
         "5",
         "5",
         "5",
         "5",
         "5",
         "5",
         "5",
         "5",
         "5",
         "5",
         "5",
         "5",
         "5",
         "5",
         "1",
         "1",
         "1",
         "1",
         "1",
         "1",
         "5",
         "5",
         "5",
         "5",
         "5",
         "5",
         "1",
         "1",
         "5",
         "5",
         "5",
         "5",
         "5.0",
         "5.0",
         "5.0",
         "5.0",
         "5.0",
         "5.0",
         "1.0",
         "1.0",
         "1.0",
         "1.0",
         "1.0",
         "5.0",
         "5.0",
         "2.3333333333333335",
         "5.0"
        ],
        [
         "718",
         "0",
         "10",
         "5",
         "2",
         "5",
         "5",
         "5",
         "5",
         "5",
         "5",
         "5",
         "5",
         "5",
         "5",
         "5",
         "5",
         "5",
         "5",
         "5",
         "5",
         "5",
         "5",
         "5",
         "5",
         "5",
         "5",
         "5",
         "1",
         "1",
         "1",
         "1",
         "1",
         "1",
         "5",
         "5",
         "5",
         "5",
         "5",
         "5",
         "1",
         "1",
         "1",
         "5",
         "5",
         "5",
         "5.0",
         "5.0",
         "5.0",
         "5.0",
         "5.0",
         "5.0",
         "1.0",
         "1.0",
         "3.0",
         "1.0",
         "1.0",
         "5.0",
         "5.0",
         "1.0",
         "5.0"
        ]
       ],
       "shape": {
        "columns": 60,
        "rows": 3
       }
      },
      "text/html": [
       "<div>\n",
       "<style scoped>\n",
       "    .dataframe tbody tr th:only-of-type {\n",
       "        vertical-align: middle;\n",
       "    }\n",
       "\n",
       "    .dataframe tbody tr th {\n",
       "        vertical-align: top;\n",
       "    }\n",
       "\n",
       "    .dataframe thead th {\n",
       "        text-align: right;\n",
       "    }\n",
       "</style>\n",
       "<table border=\"1\" class=\"dataframe\">\n",
       "  <thead>\n",
       "    <tr style=\"text-align: right;\">\n",
       "      <th></th>\n",
       "      <th>Gender</th>\n",
       "      <th>Age</th>\n",
       "      <th>Grade</th>\n",
       "      <th>School_level</th>\n",
       "      <th>Tech_efficacy_1</th>\n",
       "      <th>Tech_efficacy_2</th>\n",
       "      <th>Tech_efficacy_3</th>\n",
       "      <th>Tech_efficacy_4</th>\n",
       "      <th>Tech_efficacy_5</th>\n",
       "      <th>Tech_efficacy_6</th>\n",
       "      <th>Tech_efficacy_7</th>\n",
       "      <th>Value_app_1</th>\n",
       "      <th>Value_app_2</th>\n",
       "      <th>Value_app_3</th>\n",
       "      <th>Value_app_4</th>\n",
       "      <th>Value_app_5</th>\n",
       "      <th>Control_app_1</th>\n",
       "      <th>Control_app_2</th>\n",
       "      <th>Control_app_3</th>\n",
       "      <th>Control_app_4</th>\n",
       "      <th>Control_app_5</th>\n",
       "      <th>Enjoyment1</th>\n",
       "      <th>Enjoyment2</th>\n",
       "      <th>Hopefulness1</th>\n",
       "      <th>Hopefulness2</th>\n",
       "      <th>Pride1</th>\n",
       "      <th>Pride2</th>\n",
       "      <th>Anxiety1</th>\n",
       "      <th>Anxiety2</th>\n",
       "      <th>Hopelessness1</th>\n",
       "      <th>Hopelessness2</th>\n",
       "      <th>Boredom1</th>\n",
       "      <th>Boredom2</th>\n",
       "      <th>Outcome_goal_1</th>\n",
       "      <th>Outcome_goal_2</th>\n",
       "      <th>Outcome_goal_3</th>\n",
       "      <th>Ability_goal_1</th>\n",
       "      <th>Ability_goal_2</th>\n",
       "      <th>Ability_goal_3</th>\n",
       "      <th>Neg_effort_1</th>\n",
       "      <th>Neg_effort_2</th>\n",
       "      <th>Neg_effort_3</th>\n",
       "      <th>Pos_effort_1</th>\n",
       "      <th>Pos_effort_2</th>\n",
       "      <th>Pos_effort_3</th>\n",
       "      <th>Tech_efficacy_aver</th>\n",
       "      <th>Control_app_aver</th>\n",
       "      <th>Value_app_aver</th>\n",
       "      <th>Enjoyment_aver</th>\n",
       "      <th>Hopefulness_aver</th>\n",
       "      <th>Pride_aver</th>\n",
       "      <th>Anger_aver</th>\n",
       "      <th>Anxiety_aver</th>\n",
       "      <th>Shame_aver</th>\n",
       "      <th>Hopelessness_aver</th>\n",
       "      <th>Boredom_aver</th>\n",
       "      <th>Outcome_goal_aver</th>\n",
       "      <th>Ability_goal_aver</th>\n",
       "      <th>Neg_effort_aver</th>\n",
       "      <th>Pos_effort_aver</th>\n",
       "    </tr>\n",
       "  </thead>\n",
       "  <tbody>\n",
       "    <tr>\n",
       "      <th>463</th>\n",
       "      <td>1</td>\n",
       "      <td>10</td>\n",
       "      <td>4</td>\n",
       "      <td>2</td>\n",
       "      <td>5</td>\n",
       "      <td>5</td>\n",
       "      <td>5</td>\n",
       "      <td>5</td>\n",
       "      <td>5</td>\n",
       "      <td>5</td>\n",
       "      <td>5</td>\n",
       "      <td>5</td>\n",
       "      <td>5</td>\n",
       "      <td>5</td>\n",
       "      <td>5</td>\n",
       "      <td>5</td>\n",
       "      <td>5</td>\n",
       "      <td>5</td>\n",
       "      <td>5</td>\n",
       "      <td>5</td>\n",
       "      <td>5</td>\n",
       "      <td>5</td>\n",
       "      <td>5</td>\n",
       "      <td>5</td>\n",
       "      <td>5</td>\n",
       "      <td>5</td>\n",
       "      <td>5</td>\n",
       "      <td>1</td>\n",
       "      <td>1</td>\n",
       "      <td>1</td>\n",
       "      <td>1</td>\n",
       "      <td>1</td>\n",
       "      <td>1</td>\n",
       "      <td>5</td>\n",
       "      <td>5</td>\n",
       "      <td>5</td>\n",
       "      <td>5</td>\n",
       "      <td>5</td>\n",
       "      <td>5</td>\n",
       "      <td>1</td>\n",
       "      <td>1</td>\n",
       "      <td>5</td>\n",
       "      <td>5</td>\n",
       "      <td>5</td>\n",
       "      <td>5</td>\n",
       "      <td>5.0</td>\n",
       "      <td>5.0</td>\n",
       "      <td>5.0</td>\n",
       "      <td>5.0</td>\n",
       "      <td>5.0</td>\n",
       "      <td>5.0</td>\n",
       "      <td>1.0</td>\n",
       "      <td>1.0</td>\n",
       "      <td>1.0</td>\n",
       "      <td>1.0</td>\n",
       "      <td>1.0</td>\n",
       "      <td>5.0</td>\n",
       "      <td>5.0</td>\n",
       "      <td>2.333333</td>\n",
       "      <td>5.0</td>\n",
       "    </tr>\n",
       "    <tr>\n",
       "      <th>477</th>\n",
       "      <td>0</td>\n",
       "      <td>10</td>\n",
       "      <td>4</td>\n",
       "      <td>2</td>\n",
       "      <td>5</td>\n",
       "      <td>5</td>\n",
       "      <td>5</td>\n",
       "      <td>5</td>\n",
       "      <td>5</td>\n",
       "      <td>5</td>\n",
       "      <td>5</td>\n",
       "      <td>5</td>\n",
       "      <td>5</td>\n",
       "      <td>5</td>\n",
       "      <td>5</td>\n",
       "      <td>5</td>\n",
       "      <td>5</td>\n",
       "      <td>5</td>\n",
       "      <td>5</td>\n",
       "      <td>5</td>\n",
       "      <td>5</td>\n",
       "      <td>5</td>\n",
       "      <td>5</td>\n",
       "      <td>5</td>\n",
       "      <td>5</td>\n",
       "      <td>5</td>\n",
       "      <td>5</td>\n",
       "      <td>1</td>\n",
       "      <td>1</td>\n",
       "      <td>1</td>\n",
       "      <td>1</td>\n",
       "      <td>1</td>\n",
       "      <td>1</td>\n",
       "      <td>5</td>\n",
       "      <td>5</td>\n",
       "      <td>5</td>\n",
       "      <td>5</td>\n",
       "      <td>5</td>\n",
       "      <td>5</td>\n",
       "      <td>1</td>\n",
       "      <td>1</td>\n",
       "      <td>5</td>\n",
       "      <td>5</td>\n",
       "      <td>5</td>\n",
       "      <td>5</td>\n",
       "      <td>5.0</td>\n",
       "      <td>5.0</td>\n",
       "      <td>5.0</td>\n",
       "      <td>5.0</td>\n",
       "      <td>5.0</td>\n",
       "      <td>5.0</td>\n",
       "      <td>1.0</td>\n",
       "      <td>1.0</td>\n",
       "      <td>1.0</td>\n",
       "      <td>1.0</td>\n",
       "      <td>1.0</td>\n",
       "      <td>5.0</td>\n",
       "      <td>5.0</td>\n",
       "      <td>2.333333</td>\n",
       "      <td>5.0</td>\n",
       "    </tr>\n",
       "    <tr>\n",
       "      <th>718</th>\n",
       "      <td>0</td>\n",
       "      <td>10</td>\n",
       "      <td>5</td>\n",
       "      <td>2</td>\n",
       "      <td>5</td>\n",
       "      <td>5</td>\n",
       "      <td>5</td>\n",
       "      <td>5</td>\n",
       "      <td>5</td>\n",
       "      <td>5</td>\n",
       "      <td>5</td>\n",
       "      <td>5</td>\n",
       "      <td>5</td>\n",
       "      <td>5</td>\n",
       "      <td>5</td>\n",
       "      <td>5</td>\n",
       "      <td>5</td>\n",
       "      <td>5</td>\n",
       "      <td>5</td>\n",
       "      <td>5</td>\n",
       "      <td>5</td>\n",
       "      <td>5</td>\n",
       "      <td>5</td>\n",
       "      <td>5</td>\n",
       "      <td>5</td>\n",
       "      <td>5</td>\n",
       "      <td>5</td>\n",
       "      <td>1</td>\n",
       "      <td>1</td>\n",
       "      <td>1</td>\n",
       "      <td>1</td>\n",
       "      <td>1</td>\n",
       "      <td>1</td>\n",
       "      <td>5</td>\n",
       "      <td>5</td>\n",
       "      <td>5</td>\n",
       "      <td>5</td>\n",
       "      <td>5</td>\n",
       "      <td>5</td>\n",
       "      <td>1</td>\n",
       "      <td>1</td>\n",
       "      <td>1</td>\n",
       "      <td>5</td>\n",
       "      <td>5</td>\n",
       "      <td>5</td>\n",
       "      <td>5.0</td>\n",
       "      <td>5.0</td>\n",
       "      <td>5.0</td>\n",
       "      <td>5.0</td>\n",
       "      <td>5.0</td>\n",
       "      <td>5.0</td>\n",
       "      <td>1.0</td>\n",
       "      <td>1.0</td>\n",
       "      <td>3.0</td>\n",
       "      <td>1.0</td>\n",
       "      <td>1.0</td>\n",
       "      <td>5.0</td>\n",
       "      <td>5.0</td>\n",
       "      <td>1.000000</td>\n",
       "      <td>5.0</td>\n",
       "    </tr>\n",
       "  </tbody>\n",
       "</table>\n",
       "</div>"
      ],
      "text/plain": [
       "     Gender  Age  Grade  School_level  Tech_efficacy_1  Tech_efficacy_2  \\\n",
       "463       1   10      4             2                5                5   \n",
       "477       0   10      4             2                5                5   \n",
       "718       0   10      5             2                5                5   \n",
       "\n",
       "     Tech_efficacy_3  Tech_efficacy_4  Tech_efficacy_5  Tech_efficacy_6  \\\n",
       "463                5                5                5                5   \n",
       "477                5                5                5                5   \n",
       "718                5                5                5                5   \n",
       "\n",
       "     Tech_efficacy_7  Value_app_1  Value_app_2  Value_app_3  Value_app_4  \\\n",
       "463                5            5            5            5            5   \n",
       "477                5            5            5            5            5   \n",
       "718                5            5            5            5            5   \n",
       "\n",
       "     Value_app_5  Control_app_1  Control_app_2  Control_app_3  Control_app_4  \\\n",
       "463            5              5              5              5              5   \n",
       "477            5              5              5              5              5   \n",
       "718            5              5              5              5              5   \n",
       "\n",
       "     Control_app_5  Enjoyment1  Enjoyment2  Hopefulness1  Hopefulness2  \\\n",
       "463              5           5           5             5             5   \n",
       "477              5           5           5             5             5   \n",
       "718              5           5           5             5             5   \n",
       "\n",
       "     Pride1  Pride2  Anxiety1  Anxiety2  Hopelessness1  Hopelessness2  \\\n",
       "463       5       5         1         1              1              1   \n",
       "477       5       5         1         1              1              1   \n",
       "718       5       5         1         1              1              1   \n",
       "\n",
       "     Boredom1  Boredom2  Outcome_goal_1  Outcome_goal_2  Outcome_goal_3  \\\n",
       "463         1         1               5               5               5   \n",
       "477         1         1               5               5               5   \n",
       "718         1         1               5               5               5   \n",
       "\n",
       "     Ability_goal_1  Ability_goal_2  Ability_goal_3  Neg_effort_1  \\\n",
       "463               5               5               5             1   \n",
       "477               5               5               5             1   \n",
       "718               5               5               5             1   \n",
       "\n",
       "     Neg_effort_2  Neg_effort_3  Pos_effort_1  Pos_effort_2  Pos_effort_3  \\\n",
       "463             1             5             5             5             5   \n",
       "477             1             5             5             5             5   \n",
       "718             1             1             5             5             5   \n",
       "\n",
       "     Tech_efficacy_aver  Control_app_aver  Value_app_aver  Enjoyment_aver  \\\n",
       "463                 5.0               5.0             5.0             5.0   \n",
       "477                 5.0               5.0             5.0             5.0   \n",
       "718                 5.0               5.0             5.0             5.0   \n",
       "\n",
       "     Hopefulness_aver  Pride_aver  Anger_aver  Anxiety_aver  Shame_aver  \\\n",
       "463               5.0         5.0         1.0           1.0         1.0   \n",
       "477               5.0         5.0         1.0           1.0         1.0   \n",
       "718               5.0         5.0         1.0           1.0         3.0   \n",
       "\n",
       "     Hopelessness_aver  Boredom_aver  Outcome_goal_aver  Ability_goal_aver  \\\n",
       "463                1.0           1.0                5.0                5.0   \n",
       "477                1.0           1.0                5.0                5.0   \n",
       "718                1.0           1.0                5.0                5.0   \n",
       "\n",
       "     Neg_effort_aver  Pos_effort_aver  \n",
       "463         2.333333              5.0  \n",
       "477         2.333333              5.0  \n",
       "718         1.000000              5.0  "
      ]
     },
     "metadata": {},
     "output_type": "display_data"
    },
    {
     "name": "stdout",
     "output_type": "stream",
     "text": [
      "────────────────────────────────────────────────────────────────────────────────────────────────────\n",
      "🪹 Columnas constantes (solo un valor):\n",
      "✅ No hay columnas constantes.\n",
      "────────────────────────────────────────────────────────────────────────────────────────────────────\n",
      "🚀 Valores únicos en columnas categóricas:\n",
      "📭 No hay columnas categóricas.\n",
      "────────────────────────────────────────────────────────────────────────────────────────────────────\n",
      "🧬 Tipos de datos por columna:\n"
     ]
    },
    {
     "data": {
      "application/vnd.microsoft.datawrangler.viewer.v0+json": {
       "columns": [
        {
         "name": "index",
         "rawType": "object",
         "type": "unknown"
        },
        {
         "name": "count",
         "rawType": "int64",
         "type": "integer"
        }
       ],
       "ref": "1530a5e1-4a1c-46dc-b776-fc84f4309cef",
       "rows": [
        [
         "int64",
         "45"
        ],
        [
         "float64",
         "15"
        ]
       ],
       "shape": {
        "columns": 1,
        "rows": 2
       }
      },
      "text/plain": [
       "int64      45\n",
       "float64    15\n",
       "Name: count, dtype: int64"
      ]
     },
     "metadata": {},
     "output_type": "display_data"
    },
    {
     "name": "stdout",
     "output_type": "stream",
     "text": [
      "────────────────────────────────────────────────────────────────────────────────────────────────────\n"
     ]
    }
   ],
   "source": [
    "eda_basico(df3)"
   ]
  },
  {
   "cell_type": "code",
   "execution_count": 13,
   "id": "c4d58197",
   "metadata": {},
   "outputs": [
    {
     "name": "stdout",
     "output_type": "stream",
     "text": [
      "🌷 Ejemplo de datos del DF:\n"
     ]
    },
    {
     "data": {
      "application/vnd.microsoft.datawrangler.viewer.v0+json": {
       "columns": [
        {
         "name": "index",
         "rawType": "int64",
         "type": "integer"
        },
        {
         "name": "edad",
         "rawType": "int64",
         "type": "integer"
        },
        {
         "name": "género",
         "rawType": "object",
         "type": "string"
        },
        {
         "name": "nivel_autocontrol",
         "rawType": "float64",
         "type": "float"
        },
        {
         "name": "nivel_empático",
         "rawType": "float64",
         "type": "float"
        },
        {
         "name": "habilidad_regulación",
         "rawType": "float64",
         "type": "float"
        },
        {
         "name": "autoestima",
         "rawType": "float64",
         "type": "float"
        },
        {
         "name": "autoconciencia",
         "rawType": "float64",
         "type": "float"
        },
        {
         "name": "regulación_estrés",
         "rawType": "float64",
         "type": "float"
        },
        {
         "name": "ansiedad",
         "rawType": "float64",
         "type": "float"
        },
        {
         "name": "motivación_académica",
         "rawType": "float64",
         "type": "float"
        },
        {
         "name": "rendimiento",
         "rawType": "float64",
         "type": "float"
        },
        {
         "name": "satisfacción_escolar",
         "rawType": "float64",
         "type": "float"
        },
        {
         "name": "apoyo_familiar",
         "rawType": "float64",
         "type": "float"
        },
        {
         "name": "relaciones_sociales",
         "rawType": "float64",
         "type": "float"
        },
        {
         "name": "atención_clase",
         "rawType": "float64",
         "type": "float"
        },
        {
         "name": "bienestar_general",
         "rawType": "float64",
         "type": "float"
        }
       ],
       "ref": "1aa3d87b-f686-4def-9c1d-aeeec5e6fa59",
       "rows": [
        [
         "0",
         "12",
         "Niña",
         "4.89",
         "3.36",
         "6.86",
         "6.83",
         "6.41",
         "6.63",
         "8.84",
         "9.4",
         "5.88",
         "5.13",
         "7.57",
         "6.64",
         "5.54",
         "6.7"
        ],
        [
         "1",
         "9",
         "Niño",
         "4.04",
         "6.09",
         "8.77",
         "7.23",
         "9.56",
         "5.53",
         "3.46",
         "5.71",
         "6.05",
         "8.97",
         "10.0",
         "7.75",
         "9.3",
         "7.59"
        ],
        [
         "2",
         "16",
         "Niña",
         "8.11",
         "6.7",
         "4.23",
         "4.76",
         "6.52",
         "4.18",
         "3.91",
         "7.86",
         "6.09",
         "6.8",
         "9.41",
         "7.47",
         "3.99",
         "6.5"
        ]
       ],
       "shape": {
        "columns": 16,
        "rows": 3
       }
      },
      "text/html": [
       "<div>\n",
       "<style scoped>\n",
       "    .dataframe tbody tr th:only-of-type {\n",
       "        vertical-align: middle;\n",
       "    }\n",
       "\n",
       "    .dataframe tbody tr th {\n",
       "        vertical-align: top;\n",
       "    }\n",
       "\n",
       "    .dataframe thead th {\n",
       "        text-align: right;\n",
       "    }\n",
       "</style>\n",
       "<table border=\"1\" class=\"dataframe\">\n",
       "  <thead>\n",
       "    <tr style=\"text-align: right;\">\n",
       "      <th></th>\n",
       "      <th>edad</th>\n",
       "      <th>género</th>\n",
       "      <th>nivel_autocontrol</th>\n",
       "      <th>nivel_empático</th>\n",
       "      <th>habilidad_regulación</th>\n",
       "      <th>autoestima</th>\n",
       "      <th>autoconciencia</th>\n",
       "      <th>regulación_estrés</th>\n",
       "      <th>ansiedad</th>\n",
       "      <th>motivación_académica</th>\n",
       "      <th>rendimiento</th>\n",
       "      <th>satisfacción_escolar</th>\n",
       "      <th>apoyo_familiar</th>\n",
       "      <th>relaciones_sociales</th>\n",
       "      <th>atención_clase</th>\n",
       "      <th>bienestar_general</th>\n",
       "    </tr>\n",
       "  </thead>\n",
       "  <tbody>\n",
       "    <tr>\n",
       "      <th>0</th>\n",
       "      <td>12</td>\n",
       "      <td>Niña</td>\n",
       "      <td>4.89</td>\n",
       "      <td>3.36</td>\n",
       "      <td>6.86</td>\n",
       "      <td>6.83</td>\n",
       "      <td>6.41</td>\n",
       "      <td>6.63</td>\n",
       "      <td>8.84</td>\n",
       "      <td>9.40</td>\n",
       "      <td>5.88</td>\n",
       "      <td>5.13</td>\n",
       "      <td>7.57</td>\n",
       "      <td>6.64</td>\n",
       "      <td>5.54</td>\n",
       "      <td>6.70</td>\n",
       "    </tr>\n",
       "    <tr>\n",
       "      <th>1</th>\n",
       "      <td>9</td>\n",
       "      <td>Niño</td>\n",
       "      <td>4.04</td>\n",
       "      <td>6.09</td>\n",
       "      <td>8.77</td>\n",
       "      <td>7.23</td>\n",
       "      <td>9.56</td>\n",
       "      <td>5.53</td>\n",
       "      <td>3.46</td>\n",
       "      <td>5.71</td>\n",
       "      <td>6.05</td>\n",
       "      <td>8.97</td>\n",
       "      <td>10.00</td>\n",
       "      <td>7.75</td>\n",
       "      <td>9.30</td>\n",
       "      <td>7.59</td>\n",
       "    </tr>\n",
       "    <tr>\n",
       "      <th>2</th>\n",
       "      <td>16</td>\n",
       "      <td>Niña</td>\n",
       "      <td>8.11</td>\n",
       "      <td>6.70</td>\n",
       "      <td>4.23</td>\n",
       "      <td>4.76</td>\n",
       "      <td>6.52</td>\n",
       "      <td>4.18</td>\n",
       "      <td>3.91</td>\n",
       "      <td>7.86</td>\n",
       "      <td>6.09</td>\n",
       "      <td>6.80</td>\n",
       "      <td>9.41</td>\n",
       "      <td>7.47</td>\n",
       "      <td>3.99</td>\n",
       "      <td>6.50</td>\n",
       "    </tr>\n",
       "  </tbody>\n",
       "</table>\n",
       "</div>"
      ],
      "text/plain": [
       "   edad género  nivel_autocontrol  nivel_empático  habilidad_regulación  \\\n",
       "0    12   Niña               4.89            3.36                  6.86   \n",
       "1     9   Niño               4.04            6.09                  8.77   \n",
       "2    16   Niña               8.11            6.70                  4.23   \n",
       "\n",
       "   autoestima  autoconciencia  regulación_estrés  ansiedad  \\\n",
       "0        6.83            6.41               6.63      8.84   \n",
       "1        7.23            9.56               5.53      3.46   \n",
       "2        4.76            6.52               4.18      3.91   \n",
       "\n",
       "   motivación_académica  rendimiento  satisfacción_escolar  apoyo_familiar  \\\n",
       "0                  9.40         5.88                  5.13            7.57   \n",
       "1                  5.71         6.05                  8.97           10.00   \n",
       "2                  7.86         6.09                  6.80            9.41   \n",
       "\n",
       "   relaciones_sociales  atención_clase  bienestar_general  \n",
       "0                 6.64            5.54               6.70  \n",
       "1                 7.75            9.30               7.59  \n",
       "2                 7.47            3.99               6.50  "
      ]
     },
     "metadata": {},
     "output_type": "display_data"
    },
    {
     "data": {
      "application/vnd.microsoft.datawrangler.viewer.v0+json": {
       "columns": [
        {
         "name": "index",
         "rawType": "int64",
         "type": "integer"
        },
        {
         "name": "edad",
         "rawType": "int64",
         "type": "integer"
        },
        {
         "name": "género",
         "rawType": "object",
         "type": "string"
        },
        {
         "name": "nivel_autocontrol",
         "rawType": "float64",
         "type": "float"
        },
        {
         "name": "nivel_empático",
         "rawType": "float64",
         "type": "float"
        },
        {
         "name": "habilidad_regulación",
         "rawType": "float64",
         "type": "float"
        },
        {
         "name": "autoestima",
         "rawType": "float64",
         "type": "float"
        },
        {
         "name": "autoconciencia",
         "rawType": "float64",
         "type": "float"
        },
        {
         "name": "regulación_estrés",
         "rawType": "float64",
         "type": "float"
        },
        {
         "name": "ansiedad",
         "rawType": "float64",
         "type": "float"
        },
        {
         "name": "motivación_académica",
         "rawType": "float64",
         "type": "float"
        },
        {
         "name": "rendimiento",
         "rawType": "float64",
         "type": "float"
        },
        {
         "name": "satisfacción_escolar",
         "rawType": "float64",
         "type": "float"
        },
        {
         "name": "apoyo_familiar",
         "rawType": "float64",
         "type": "float"
        },
        {
         "name": "relaciones_sociales",
         "rawType": "float64",
         "type": "float"
        },
        {
         "name": "atención_clase",
         "rawType": "float64",
         "type": "float"
        },
        {
         "name": "bienestar_general",
         "rawType": "float64",
         "type": "float"
        }
       ],
       "ref": "5b30a2b4-2030-44a9-812f-a16882f21260",
       "rows": [
        [
         "1197",
         "9",
         "Niña",
         "3.38",
         "6.65",
         "5.83",
         "7.43",
         "6.27",
         "5.51",
         "2.3",
         "8.07",
         "6.26",
         "7.54",
         "7.01",
         "8.12",
         "7.7",
         "6.6"
        ],
        [
         "1198",
         "10",
         "Niño",
         "7.16",
         "8.29",
         "4.85",
         "5.75",
         "6.03",
         "4.62",
         "3.14",
         "9.25",
         "7.22",
         "6.13",
         "7.45",
         "6.61",
         "6.13",
         "6.37"
        ],
        [
         "1199",
         "13",
         "Niña",
         "3.91",
         "7.39",
         "3.39",
         "5.97",
         "6.9",
         "4.37",
         "4.15",
         "7.66",
         "6.04",
         "5.89",
         "7.09",
         "8.73",
         "4.96",
         "6.04"
        ]
       ],
       "shape": {
        "columns": 16,
        "rows": 3
       }
      },
      "text/html": [
       "<div>\n",
       "<style scoped>\n",
       "    .dataframe tbody tr th:only-of-type {\n",
       "        vertical-align: middle;\n",
       "    }\n",
       "\n",
       "    .dataframe tbody tr th {\n",
       "        vertical-align: top;\n",
       "    }\n",
       "\n",
       "    .dataframe thead th {\n",
       "        text-align: right;\n",
       "    }\n",
       "</style>\n",
       "<table border=\"1\" class=\"dataframe\">\n",
       "  <thead>\n",
       "    <tr style=\"text-align: right;\">\n",
       "      <th></th>\n",
       "      <th>edad</th>\n",
       "      <th>género</th>\n",
       "      <th>nivel_autocontrol</th>\n",
       "      <th>nivel_empático</th>\n",
       "      <th>habilidad_regulación</th>\n",
       "      <th>autoestima</th>\n",
       "      <th>autoconciencia</th>\n",
       "      <th>regulación_estrés</th>\n",
       "      <th>ansiedad</th>\n",
       "      <th>motivación_académica</th>\n",
       "      <th>rendimiento</th>\n",
       "      <th>satisfacción_escolar</th>\n",
       "      <th>apoyo_familiar</th>\n",
       "      <th>relaciones_sociales</th>\n",
       "      <th>atención_clase</th>\n",
       "      <th>bienestar_general</th>\n",
       "    </tr>\n",
       "  </thead>\n",
       "  <tbody>\n",
       "    <tr>\n",
       "      <th>1197</th>\n",
       "      <td>9</td>\n",
       "      <td>Niña</td>\n",
       "      <td>3.38</td>\n",
       "      <td>6.65</td>\n",
       "      <td>5.83</td>\n",
       "      <td>7.43</td>\n",
       "      <td>6.27</td>\n",
       "      <td>5.51</td>\n",
       "      <td>2.30</td>\n",
       "      <td>8.07</td>\n",
       "      <td>6.26</td>\n",
       "      <td>7.54</td>\n",
       "      <td>7.01</td>\n",
       "      <td>8.12</td>\n",
       "      <td>7.70</td>\n",
       "      <td>6.60</td>\n",
       "    </tr>\n",
       "    <tr>\n",
       "      <th>1198</th>\n",
       "      <td>10</td>\n",
       "      <td>Niño</td>\n",
       "      <td>7.16</td>\n",
       "      <td>8.29</td>\n",
       "      <td>4.85</td>\n",
       "      <td>5.75</td>\n",
       "      <td>6.03</td>\n",
       "      <td>4.62</td>\n",
       "      <td>3.14</td>\n",
       "      <td>9.25</td>\n",
       "      <td>7.22</td>\n",
       "      <td>6.13</td>\n",
       "      <td>7.45</td>\n",
       "      <td>6.61</td>\n",
       "      <td>6.13</td>\n",
       "      <td>6.37</td>\n",
       "    </tr>\n",
       "    <tr>\n",
       "      <th>1199</th>\n",
       "      <td>13</td>\n",
       "      <td>Niña</td>\n",
       "      <td>3.91</td>\n",
       "      <td>7.39</td>\n",
       "      <td>3.39</td>\n",
       "      <td>5.97</td>\n",
       "      <td>6.90</td>\n",
       "      <td>4.37</td>\n",
       "      <td>4.15</td>\n",
       "      <td>7.66</td>\n",
       "      <td>6.04</td>\n",
       "      <td>5.89</td>\n",
       "      <td>7.09</td>\n",
       "      <td>8.73</td>\n",
       "      <td>4.96</td>\n",
       "      <td>6.04</td>\n",
       "    </tr>\n",
       "  </tbody>\n",
       "</table>\n",
       "</div>"
      ],
      "text/plain": [
       "      edad género  nivel_autocontrol  nivel_empático  habilidad_regulación  \\\n",
       "1197     9   Niña               3.38            6.65                  5.83   \n",
       "1198    10   Niño               7.16            8.29                  4.85   \n",
       "1199    13   Niña               3.91            7.39                  3.39   \n",
       "\n",
       "      autoestima  autoconciencia  regulación_estrés  ansiedad  \\\n",
       "1197        7.43            6.27               5.51      2.30   \n",
       "1198        5.75            6.03               4.62      3.14   \n",
       "1199        5.97            6.90               4.37      4.15   \n",
       "\n",
       "      motivación_académica  rendimiento  satisfacción_escolar  apoyo_familiar  \\\n",
       "1197                  8.07         6.26                  7.54            7.01   \n",
       "1198                  9.25         7.22                  6.13            7.45   \n",
       "1199                  7.66         6.04                  5.89            7.09   \n",
       "\n",
       "      relaciones_sociales  atención_clase  bienestar_general  \n",
       "1197                 8.12            7.70               6.60  \n",
       "1198                 6.61            6.13               6.37  \n",
       "1199                 8.73            4.96               6.04  "
      ]
     },
     "metadata": {},
     "output_type": "display_data"
    },
    {
     "data": {
      "application/vnd.microsoft.datawrangler.viewer.v0+json": {
       "columns": [
        {
         "name": "index",
         "rawType": "int64",
         "type": "integer"
        },
        {
         "name": "edad",
         "rawType": "int64",
         "type": "integer"
        },
        {
         "name": "género",
         "rawType": "object",
         "type": "string"
        },
        {
         "name": "nivel_autocontrol",
         "rawType": "float64",
         "type": "float"
        },
        {
         "name": "nivel_empático",
         "rawType": "float64",
         "type": "float"
        },
        {
         "name": "habilidad_regulación",
         "rawType": "float64",
         "type": "float"
        },
        {
         "name": "autoestima",
         "rawType": "float64",
         "type": "float"
        },
        {
         "name": "autoconciencia",
         "rawType": "float64",
         "type": "float"
        },
        {
         "name": "regulación_estrés",
         "rawType": "float64",
         "type": "float"
        },
        {
         "name": "ansiedad",
         "rawType": "float64",
         "type": "float"
        },
        {
         "name": "motivación_académica",
         "rawType": "float64",
         "type": "float"
        },
        {
         "name": "rendimiento",
         "rawType": "float64",
         "type": "float"
        },
        {
         "name": "satisfacción_escolar",
         "rawType": "float64",
         "type": "float"
        },
        {
         "name": "apoyo_familiar",
         "rawType": "float64",
         "type": "float"
        },
        {
         "name": "relaciones_sociales",
         "rawType": "float64",
         "type": "float"
        },
        {
         "name": "atención_clase",
         "rawType": "float64",
         "type": "float"
        },
        {
         "name": "bienestar_general",
         "rawType": "float64",
         "type": "float"
        }
       ],
       "ref": "bd013cce-13cf-4366-81b3-cf2ede596527",
       "rows": [
        [
         "445",
         "10",
         "Niño",
         "6.55",
         "6.5",
         "4.85",
         "8.13",
         "7.16",
         "7.44",
         "5.35",
         "8.02",
         "7.44",
         "5.53",
         "7.07",
         "7.72",
         "7.34",
         "7.01"
        ],
        [
         "358",
         "8",
         "Niña",
         "5.23",
         "5.71",
         "9.19",
         "5.94",
         "5.9",
         "4.53",
         "4.56",
         "6.26",
         "6.82",
         "5.9",
         "7.68",
         "6.94",
         "2.32",
         "6.35"
        ],
        [
         "1114",
         "12",
         "Niño",
         "8.08",
         "3.09",
         "7.08",
         "6.77",
         "6.34",
         "5.5",
         "5.13",
         "5.92",
         "8.52",
         "5.48",
         "10.0",
         "6.49",
         "6.98",
         "6.82"
        ]
       ],
       "shape": {
        "columns": 16,
        "rows": 3
       }
      },
      "text/html": [
       "<div>\n",
       "<style scoped>\n",
       "    .dataframe tbody tr th:only-of-type {\n",
       "        vertical-align: middle;\n",
       "    }\n",
       "\n",
       "    .dataframe tbody tr th {\n",
       "        vertical-align: top;\n",
       "    }\n",
       "\n",
       "    .dataframe thead th {\n",
       "        text-align: right;\n",
       "    }\n",
       "</style>\n",
       "<table border=\"1\" class=\"dataframe\">\n",
       "  <thead>\n",
       "    <tr style=\"text-align: right;\">\n",
       "      <th></th>\n",
       "      <th>edad</th>\n",
       "      <th>género</th>\n",
       "      <th>nivel_autocontrol</th>\n",
       "      <th>nivel_empático</th>\n",
       "      <th>habilidad_regulación</th>\n",
       "      <th>autoestima</th>\n",
       "      <th>autoconciencia</th>\n",
       "      <th>regulación_estrés</th>\n",
       "      <th>ansiedad</th>\n",
       "      <th>motivación_académica</th>\n",
       "      <th>rendimiento</th>\n",
       "      <th>satisfacción_escolar</th>\n",
       "      <th>apoyo_familiar</th>\n",
       "      <th>relaciones_sociales</th>\n",
       "      <th>atención_clase</th>\n",
       "      <th>bienestar_general</th>\n",
       "    </tr>\n",
       "  </thead>\n",
       "  <tbody>\n",
       "    <tr>\n",
       "      <th>445</th>\n",
       "      <td>10</td>\n",
       "      <td>Niño</td>\n",
       "      <td>6.55</td>\n",
       "      <td>6.50</td>\n",
       "      <td>4.85</td>\n",
       "      <td>8.13</td>\n",
       "      <td>7.16</td>\n",
       "      <td>7.44</td>\n",
       "      <td>5.35</td>\n",
       "      <td>8.02</td>\n",
       "      <td>7.44</td>\n",
       "      <td>5.53</td>\n",
       "      <td>7.07</td>\n",
       "      <td>7.72</td>\n",
       "      <td>7.34</td>\n",
       "      <td>7.01</td>\n",
       "    </tr>\n",
       "    <tr>\n",
       "      <th>358</th>\n",
       "      <td>8</td>\n",
       "      <td>Niña</td>\n",
       "      <td>5.23</td>\n",
       "      <td>5.71</td>\n",
       "      <td>9.19</td>\n",
       "      <td>5.94</td>\n",
       "      <td>5.90</td>\n",
       "      <td>4.53</td>\n",
       "      <td>4.56</td>\n",
       "      <td>6.26</td>\n",
       "      <td>6.82</td>\n",
       "      <td>5.90</td>\n",
       "      <td>7.68</td>\n",
       "      <td>6.94</td>\n",
       "      <td>2.32</td>\n",
       "      <td>6.35</td>\n",
       "    </tr>\n",
       "    <tr>\n",
       "      <th>1114</th>\n",
       "      <td>12</td>\n",
       "      <td>Niño</td>\n",
       "      <td>8.08</td>\n",
       "      <td>3.09</td>\n",
       "      <td>7.08</td>\n",
       "      <td>6.77</td>\n",
       "      <td>6.34</td>\n",
       "      <td>5.50</td>\n",
       "      <td>5.13</td>\n",
       "      <td>5.92</td>\n",
       "      <td>8.52</td>\n",
       "      <td>5.48</td>\n",
       "      <td>10.00</td>\n",
       "      <td>6.49</td>\n",
       "      <td>6.98</td>\n",
       "      <td>6.82</td>\n",
       "    </tr>\n",
       "  </tbody>\n",
       "</table>\n",
       "</div>"
      ],
      "text/plain": [
       "      edad género  nivel_autocontrol  nivel_empático  habilidad_regulación  \\\n",
       "445     10   Niño               6.55            6.50                  4.85   \n",
       "358      8   Niña               5.23            5.71                  9.19   \n",
       "1114    12   Niño               8.08            3.09                  7.08   \n",
       "\n",
       "      autoestima  autoconciencia  regulación_estrés  ansiedad  \\\n",
       "445         8.13            7.16               7.44      5.35   \n",
       "358         5.94            5.90               4.53      4.56   \n",
       "1114        6.77            6.34               5.50      5.13   \n",
       "\n",
       "      motivación_académica  rendimiento  satisfacción_escolar  apoyo_familiar  \\\n",
       "445                   8.02         7.44                  5.53            7.07   \n",
       "358                   6.26         6.82                  5.90            7.68   \n",
       "1114                  5.92         8.52                  5.48           10.00   \n",
       "\n",
       "      relaciones_sociales  atención_clase  bienestar_general  \n",
       "445                  7.72            7.34               7.01  \n",
       "358                  6.94            2.32               6.35  \n",
       "1114                 6.49            6.98               6.82  "
      ]
     },
     "metadata": {},
     "output_type": "display_data"
    },
    {
     "name": "stdout",
     "output_type": "stream",
     "text": [
      "────────────────────────────────────────────────────────────────────────────────────────────────────\n",
      "🌻 Número de filas:\n",
      "1200\n",
      "────────────────────────────────────────────────────────────────────────────────────────────────────\n",
      "🌱 Número de columnas:\n",
      "16\n",
      "────────────────────────────────────────────────────────────────────────────────────────────────────\n",
      "🌼 Información de la tabla:\n",
      "<class 'pandas.core.frame.DataFrame'>\n",
      "RangeIndex: 1200 entries, 0 to 1199\n",
      "Data columns (total 16 columns):\n",
      " #   Column                Non-Null Count  Dtype  \n",
      "---  ------                --------------  -----  \n",
      " 0   edad                  1200 non-null   int64  \n",
      " 1   género                1200 non-null   object \n",
      " 2   nivel_autocontrol     1200 non-null   float64\n",
      " 3   nivel_empático        1200 non-null   float64\n",
      " 4   habilidad_regulación  1200 non-null   float64\n",
      " 5   autoestima            1200 non-null   float64\n",
      " 6   autoconciencia        1200 non-null   float64\n",
      " 7   regulación_estrés     1200 non-null   float64\n",
      " 8   ansiedad              1200 non-null   float64\n",
      " 9   motivación_académica  1200 non-null   float64\n",
      " 10  rendimiento           1200 non-null   float64\n",
      " 11  satisfacción_escolar  1200 non-null   float64\n",
      " 12  apoyo_familiar        1200 non-null   float64\n",
      " 13  relaciones_sociales   1200 non-null   float64\n",
      " 14  atención_clase        1200 non-null   float64\n",
      " 15  bienestar_general     1200 non-null   float64\n",
      "dtypes: float64(14), int64(1), object(1)\n",
      "memory usage: 150.1+ KB\n"
     ]
    },
    {
     "data": {
      "text/plain": [
       "None"
      ]
     },
     "metadata": {},
     "output_type": "display_data"
    },
    {
     "name": "stdout",
     "output_type": "stream",
     "text": [
      "────────────────────────────────────────────────────────────────────────────────────────────────────\n",
      "🌑 Nombre de las columnas:\n",
      "['edad', 'género', 'nivel_autocontrol', 'nivel_empático', 'habilidad_regulación', 'autoestima', 'autoconciencia', 'regulación_estrés', 'ansiedad', 'motivación_académica', 'rendimiento', 'satisfacción_escolar', 'apoyo_familiar', 'relaciones_sociales', 'atención_clase', 'bienestar_general']\n",
      "────────────────────────────────────────────────────────────────────────────────────────────────────\n",
      "🍄 Descripción de los datos numéricos:\n"
     ]
    },
    {
     "data": {
      "application/vnd.microsoft.datawrangler.viewer.v0+json": {
       "columns": [
        {
         "name": "index",
         "rawType": "object",
         "type": "string"
        },
        {
         "name": "count",
         "rawType": "float64",
         "type": "float"
        },
        {
         "name": "mean",
         "rawType": "float64",
         "type": "float"
        },
        {
         "name": "std",
         "rawType": "float64",
         "type": "float"
        },
        {
         "name": "min",
         "rawType": "float64",
         "type": "float"
        },
        {
         "name": "25%",
         "rawType": "float64",
         "type": "float"
        },
        {
         "name": "50%",
         "rawType": "float64",
         "type": "float"
        },
        {
         "name": "75%",
         "rawType": "float64",
         "type": "float"
        },
        {
         "name": "max",
         "rawType": "float64",
         "type": "float"
        }
       ],
       "ref": "add432ba-1829-4091-8132-9c603ff547ac",
       "rows": [
        [
         "edad",
         "1200.0",
         "11.438333333333333",
         "3.50043922737457",
         "6.0",
         "8.0",
         "11.0",
         "15.0",
         "17.0"
        ],
        [
         "nivel_autocontrol",
         "1200.0",
         "6.024058333333334",
         "1.5282639187768197",
         "1.0",
         "4.97",
         "6.08",
         "7.1",
         "10.0"
        ],
        [
         "nivel_empático",
         "1200.0",
         "6.519575",
         "1.4205925895424363",
         "1.96",
         "5.59",
         "6.55",
         "7.48",
         "10.0"
        ],
        [
         "habilidad_regulación",
         "1200.0",
         "5.995183333333333",
         "1.6355604589052959",
         "1.0",
         "4.907500000000001",
         "5.98",
         "7.1",
         "10.0"
        ],
        [
         "autoestima",
         "1200.0",
         "6.801383333333333",
         "1.2015151345576265",
         "2.35",
         "5.94",
         "6.84",
         "7.64",
         "10.0"
        ],
        [
         "autoconciencia",
         "1200.0",
         "6.324233333333333",
         "1.291981976168595",
         "2.32",
         "5.46",
         "6.3",
         "7.202500000000001",
         "10.0"
        ],
        [
         "regulación_estrés",
         "1200.0",
         "5.7985750000000005",
         "1.6223312500675655",
         "1.0",
         "4.69",
         "5.8",
         "6.9025",
         "10.0"
        ],
        [
         "ansiedad",
         "1200.0",
         "4.762058333333333",
         "1.9238797019356875",
         "1.0",
         "3.42",
         "4.78",
         "6.092499999999999",
         "10.0"
        ],
        [
         "motivación_académica",
         "1200.0",
         "6.698308333333332",
         "1.4849249329997876",
         "2.64",
         "5.64",
         "6.74",
         "7.702500000000001",
         "10.0"
        ],
        [
         "rendimiento",
         "1200.0",
         "6.9422500000000005",
         "1.312889626031749",
         "2.87",
         "6.03",
         "6.95",
         "7.83",
         "10.0"
        ],
        [
         "satisfacción_escolar",
         "1200.0",
         "6.877275",
         "1.3809232232455033",
         "2.56",
         "5.91",
         "6.845",
         "7.89",
         "10.0"
        ],
        [
         "apoyo_familiar",
         "1200.0",
         "7.5138",
         "1.1643629922185101",
         "3.66",
         "6.7",
         "7.5",
         "8.2625",
         "10.0"
        ],
        [
         "relaciones_sociales",
         "1200.0",
         "7.032916666666667",
         "1.2197527031887803",
         "2.96",
         "6.21",
         "7.01",
         "7.8725000000000005",
         "10.0"
        ],
        [
         "atención_clase",
         "1200.0",
         "6.427316666666667",
         "1.5636138824424315",
         "1.0",
         "5.33",
         "6.48",
         "7.512499999999999",
         "10.0"
        ],
        [
         "bienestar_general",
         "1200.0",
         "6.562758333333334",
         "0.4657364064190269",
         "4.85",
         "6.26",
         "6.56",
         "6.85",
         "8.26"
        ]
       ],
       "shape": {
        "columns": 8,
        "rows": 15
       }
      },
      "text/html": [
       "<div>\n",
       "<style scoped>\n",
       "    .dataframe tbody tr th:only-of-type {\n",
       "        vertical-align: middle;\n",
       "    }\n",
       "\n",
       "    .dataframe tbody tr th {\n",
       "        vertical-align: top;\n",
       "    }\n",
       "\n",
       "    .dataframe thead th {\n",
       "        text-align: right;\n",
       "    }\n",
       "</style>\n",
       "<table border=\"1\" class=\"dataframe\">\n",
       "  <thead>\n",
       "    <tr style=\"text-align: right;\">\n",
       "      <th></th>\n",
       "      <th>count</th>\n",
       "      <th>mean</th>\n",
       "      <th>std</th>\n",
       "      <th>min</th>\n",
       "      <th>25%</th>\n",
       "      <th>50%</th>\n",
       "      <th>75%</th>\n",
       "      <th>max</th>\n",
       "    </tr>\n",
       "  </thead>\n",
       "  <tbody>\n",
       "    <tr>\n",
       "      <th>edad</th>\n",
       "      <td>1200.0</td>\n",
       "      <td>11.438333</td>\n",
       "      <td>3.500439</td>\n",
       "      <td>6.00</td>\n",
       "      <td>8.0000</td>\n",
       "      <td>11.000</td>\n",
       "      <td>15.0000</td>\n",
       "      <td>17.00</td>\n",
       "    </tr>\n",
       "    <tr>\n",
       "      <th>nivel_autocontrol</th>\n",
       "      <td>1200.0</td>\n",
       "      <td>6.024058</td>\n",
       "      <td>1.528264</td>\n",
       "      <td>1.00</td>\n",
       "      <td>4.9700</td>\n",
       "      <td>6.080</td>\n",
       "      <td>7.1000</td>\n",
       "      <td>10.00</td>\n",
       "    </tr>\n",
       "    <tr>\n",
       "      <th>nivel_empático</th>\n",
       "      <td>1200.0</td>\n",
       "      <td>6.519575</td>\n",
       "      <td>1.420593</td>\n",
       "      <td>1.96</td>\n",
       "      <td>5.5900</td>\n",
       "      <td>6.550</td>\n",
       "      <td>7.4800</td>\n",
       "      <td>10.00</td>\n",
       "    </tr>\n",
       "    <tr>\n",
       "      <th>habilidad_regulación</th>\n",
       "      <td>1200.0</td>\n",
       "      <td>5.995183</td>\n",
       "      <td>1.635560</td>\n",
       "      <td>1.00</td>\n",
       "      <td>4.9075</td>\n",
       "      <td>5.980</td>\n",
       "      <td>7.1000</td>\n",
       "      <td>10.00</td>\n",
       "    </tr>\n",
       "    <tr>\n",
       "      <th>autoestima</th>\n",
       "      <td>1200.0</td>\n",
       "      <td>6.801383</td>\n",
       "      <td>1.201515</td>\n",
       "      <td>2.35</td>\n",
       "      <td>5.9400</td>\n",
       "      <td>6.840</td>\n",
       "      <td>7.6400</td>\n",
       "      <td>10.00</td>\n",
       "    </tr>\n",
       "    <tr>\n",
       "      <th>autoconciencia</th>\n",
       "      <td>1200.0</td>\n",
       "      <td>6.324233</td>\n",
       "      <td>1.291982</td>\n",
       "      <td>2.32</td>\n",
       "      <td>5.4600</td>\n",
       "      <td>6.300</td>\n",
       "      <td>7.2025</td>\n",
       "      <td>10.00</td>\n",
       "    </tr>\n",
       "    <tr>\n",
       "      <th>regulación_estrés</th>\n",
       "      <td>1200.0</td>\n",
       "      <td>5.798575</td>\n",
       "      <td>1.622331</td>\n",
       "      <td>1.00</td>\n",
       "      <td>4.6900</td>\n",
       "      <td>5.800</td>\n",
       "      <td>6.9025</td>\n",
       "      <td>10.00</td>\n",
       "    </tr>\n",
       "    <tr>\n",
       "      <th>ansiedad</th>\n",
       "      <td>1200.0</td>\n",
       "      <td>4.762058</td>\n",
       "      <td>1.923880</td>\n",
       "      <td>1.00</td>\n",
       "      <td>3.4200</td>\n",
       "      <td>4.780</td>\n",
       "      <td>6.0925</td>\n",
       "      <td>10.00</td>\n",
       "    </tr>\n",
       "    <tr>\n",
       "      <th>motivación_académica</th>\n",
       "      <td>1200.0</td>\n",
       "      <td>6.698308</td>\n",
       "      <td>1.484925</td>\n",
       "      <td>2.64</td>\n",
       "      <td>5.6400</td>\n",
       "      <td>6.740</td>\n",
       "      <td>7.7025</td>\n",
       "      <td>10.00</td>\n",
       "    </tr>\n",
       "    <tr>\n",
       "      <th>rendimiento</th>\n",
       "      <td>1200.0</td>\n",
       "      <td>6.942250</td>\n",
       "      <td>1.312890</td>\n",
       "      <td>2.87</td>\n",
       "      <td>6.0300</td>\n",
       "      <td>6.950</td>\n",
       "      <td>7.8300</td>\n",
       "      <td>10.00</td>\n",
       "    </tr>\n",
       "    <tr>\n",
       "      <th>satisfacción_escolar</th>\n",
       "      <td>1200.0</td>\n",
       "      <td>6.877275</td>\n",
       "      <td>1.380923</td>\n",
       "      <td>2.56</td>\n",
       "      <td>5.9100</td>\n",
       "      <td>6.845</td>\n",
       "      <td>7.8900</td>\n",
       "      <td>10.00</td>\n",
       "    </tr>\n",
       "    <tr>\n",
       "      <th>apoyo_familiar</th>\n",
       "      <td>1200.0</td>\n",
       "      <td>7.513800</td>\n",
       "      <td>1.164363</td>\n",
       "      <td>3.66</td>\n",
       "      <td>6.7000</td>\n",
       "      <td>7.500</td>\n",
       "      <td>8.2625</td>\n",
       "      <td>10.00</td>\n",
       "    </tr>\n",
       "    <tr>\n",
       "      <th>relaciones_sociales</th>\n",
       "      <td>1200.0</td>\n",
       "      <td>7.032917</td>\n",
       "      <td>1.219753</td>\n",
       "      <td>2.96</td>\n",
       "      <td>6.2100</td>\n",
       "      <td>7.010</td>\n",
       "      <td>7.8725</td>\n",
       "      <td>10.00</td>\n",
       "    </tr>\n",
       "    <tr>\n",
       "      <th>atención_clase</th>\n",
       "      <td>1200.0</td>\n",
       "      <td>6.427317</td>\n",
       "      <td>1.563614</td>\n",
       "      <td>1.00</td>\n",
       "      <td>5.3300</td>\n",
       "      <td>6.480</td>\n",
       "      <td>7.5125</td>\n",
       "      <td>10.00</td>\n",
       "    </tr>\n",
       "    <tr>\n",
       "      <th>bienestar_general</th>\n",
       "      <td>1200.0</td>\n",
       "      <td>6.562758</td>\n",
       "      <td>0.465736</td>\n",
       "      <td>4.85</td>\n",
       "      <td>6.2600</td>\n",
       "      <td>6.560</td>\n",
       "      <td>6.8500</td>\n",
       "      <td>8.26</td>\n",
       "    </tr>\n",
       "  </tbody>\n",
       "</table>\n",
       "</div>"
      ],
      "text/plain": [
       "                       count       mean       std   min     25%     50%  \\\n",
       "edad                  1200.0  11.438333  3.500439  6.00  8.0000  11.000   \n",
       "nivel_autocontrol     1200.0   6.024058  1.528264  1.00  4.9700   6.080   \n",
       "nivel_empático        1200.0   6.519575  1.420593  1.96  5.5900   6.550   \n",
       "habilidad_regulación  1200.0   5.995183  1.635560  1.00  4.9075   5.980   \n",
       "autoestima            1200.0   6.801383  1.201515  2.35  5.9400   6.840   \n",
       "autoconciencia        1200.0   6.324233  1.291982  2.32  5.4600   6.300   \n",
       "regulación_estrés     1200.0   5.798575  1.622331  1.00  4.6900   5.800   \n",
       "ansiedad              1200.0   4.762058  1.923880  1.00  3.4200   4.780   \n",
       "motivación_académica  1200.0   6.698308  1.484925  2.64  5.6400   6.740   \n",
       "rendimiento           1200.0   6.942250  1.312890  2.87  6.0300   6.950   \n",
       "satisfacción_escolar  1200.0   6.877275  1.380923  2.56  5.9100   6.845   \n",
       "apoyo_familiar        1200.0   7.513800  1.164363  3.66  6.7000   7.500   \n",
       "relaciones_sociales   1200.0   7.032917  1.219753  2.96  6.2100   7.010   \n",
       "atención_clase        1200.0   6.427317  1.563614  1.00  5.3300   6.480   \n",
       "bienestar_general     1200.0   6.562758  0.465736  4.85  6.2600   6.560   \n",
       "\n",
       "                          75%    max  \n",
       "edad                  15.0000  17.00  \n",
       "nivel_autocontrol      7.1000  10.00  \n",
       "nivel_empático         7.4800  10.00  \n",
       "habilidad_regulación   7.1000  10.00  \n",
       "autoestima             7.6400  10.00  \n",
       "autoconciencia         7.2025  10.00  \n",
       "regulación_estrés      6.9025  10.00  \n",
       "ansiedad               6.0925  10.00  \n",
       "motivación_académica   7.7025  10.00  \n",
       "rendimiento            7.8300  10.00  \n",
       "satisfacción_escolar   7.8900  10.00  \n",
       "apoyo_familiar         8.2625  10.00  \n",
       "relaciones_sociales    7.8725  10.00  \n",
       "atención_clase         7.5125  10.00  \n",
       "bienestar_general      6.8500   8.26  "
      ]
     },
     "metadata": {},
     "output_type": "display_data"
    },
    {
     "name": "stdout",
     "output_type": "stream",
     "text": [
      "────────────────────────────────────────────────────────────────────────────────────────────────────\n",
      "🌋 Descripción de los datos no-numéricos:\n"
     ]
    },
    {
     "data": {
      "application/vnd.microsoft.datawrangler.viewer.v0+json": {
       "columns": [
        {
         "name": "index",
         "rawType": "object",
         "type": "string"
        },
        {
         "name": "count",
         "rawType": "object",
         "type": "unknown"
        },
        {
         "name": "unique",
         "rawType": "object",
         "type": "unknown"
        },
        {
         "name": "top",
         "rawType": "object",
         "type": "string"
        },
        {
         "name": "freq",
         "rawType": "object",
         "type": "unknown"
        }
       ],
       "ref": "08ff1749-929a-44cf-8d20-3ea7d773b389",
       "rows": [
        [
         "género",
         "1200",
         "2",
         "Niña",
         "611"
        ]
       ],
       "shape": {
        "columns": 4,
        "rows": 1
       }
      },
      "text/html": [
       "<div>\n",
       "<style scoped>\n",
       "    .dataframe tbody tr th:only-of-type {\n",
       "        vertical-align: middle;\n",
       "    }\n",
       "\n",
       "    .dataframe tbody tr th {\n",
       "        vertical-align: top;\n",
       "    }\n",
       "\n",
       "    .dataframe thead th {\n",
       "        text-align: right;\n",
       "    }\n",
       "</style>\n",
       "<table border=\"1\" class=\"dataframe\">\n",
       "  <thead>\n",
       "    <tr style=\"text-align: right;\">\n",
       "      <th></th>\n",
       "      <th>count</th>\n",
       "      <th>unique</th>\n",
       "      <th>top</th>\n",
       "      <th>freq</th>\n",
       "    </tr>\n",
       "  </thead>\n",
       "  <tbody>\n",
       "    <tr>\n",
       "      <th>género</th>\n",
       "      <td>1200</td>\n",
       "      <td>2</td>\n",
       "      <td>Niña</td>\n",
       "      <td>611</td>\n",
       "    </tr>\n",
       "  </tbody>\n",
       "</table>\n",
       "</div>"
      ],
      "text/plain": [
       "       count unique   top freq\n",
       "género  1200      2  Niña  611"
      ]
     },
     "metadata": {},
     "output_type": "display_data"
    },
    {
     "name": "stdout",
     "output_type": "stream",
     "text": [
      "────────────────────────────────────────────────────────────────────────────────────────────────────\n",
      "🍂 Número de valores únicos por columna:\n"
     ]
    },
    {
     "data": {
      "application/vnd.microsoft.datawrangler.viewer.v0+json": {
       "columns": [
        {
         "name": "index",
         "rawType": "object",
         "type": "string"
        },
        {
         "name": "0",
         "rawType": "int64",
         "type": "integer"
        }
       ],
       "ref": "83d60467-9f79-4dff-8499-cc545bae83df",
       "rows": [
        [
         "edad",
         "12"
        ],
        [
         "género",
         "2"
        ],
        [
         "nivel_autocontrol",
         "530"
        ],
        [
         "nivel_empático",
         "490"
        ],
        [
         "habilidad_regulación",
         "542"
        ],
        [
         "autoestima",
         "443"
        ],
        [
         "autoconciencia",
         "461"
        ],
        [
         "regulación_estrés",
         "546"
        ],
        [
         "ansiedad",
         "572"
        ],
        [
         "motivación_académica",
         "505"
        ],
        [
         "rendimiento",
         "463"
        ],
        [
         "satisfacción_escolar",
         "483"
        ],
        [
         "apoyo_familiar",
         "421"
        ],
        [
         "relaciones_sociales",
         "449"
        ],
        [
         "atención_clase",
         "526"
        ],
        [
         "bienestar_general",
         "220"
        ]
       ],
       "shape": {
        "columns": 1,
        "rows": 16
       }
      },
      "text/plain": [
       "edad                     12\n",
       "género                    2\n",
       "nivel_autocontrol       530\n",
       "nivel_empático          490\n",
       "habilidad_regulación    542\n",
       "autoestima              443\n",
       "autoconciencia          461\n",
       "regulación_estrés       546\n",
       "ansiedad                572\n",
       "motivación_académica    505\n",
       "rendimiento             463\n",
       "satisfacción_escolar    483\n",
       "apoyo_familiar          421\n",
       "relaciones_sociales     449\n",
       "atención_clase          526\n",
       "bienestar_general       220\n",
       "dtype: int64"
      ]
     },
     "metadata": {},
     "output_type": "display_data"
    },
    {
     "name": "stdout",
     "output_type": "stream",
     "text": [
      "────────────────────────────────────────────────────────────────────────────────────────────────────\n",
      "🐖 Valores nulos por columna:\n"
     ]
    },
    {
     "data": {
      "application/vnd.microsoft.datawrangler.viewer.v0+json": {
       "columns": [
        {
         "name": "index",
         "rawType": "object",
         "type": "string"
        },
        {
         "name": "0",
         "rawType": "int64",
         "type": "integer"
        }
       ],
       "ref": "17da0a1a-f0ff-4449-98d5-6e866555e628",
       "rows": [
        [
         "edad",
         "0"
        ],
        [
         "género",
         "0"
        ],
        [
         "nivel_autocontrol",
         "0"
        ],
        [
         "nivel_empático",
         "0"
        ],
        [
         "habilidad_regulación",
         "0"
        ],
        [
         "autoestima",
         "0"
        ],
        [
         "autoconciencia",
         "0"
        ],
        [
         "regulación_estrés",
         "0"
        ],
        [
         "ansiedad",
         "0"
        ],
        [
         "motivación_académica",
         "0"
        ],
        [
         "rendimiento",
         "0"
        ],
        [
         "satisfacción_escolar",
         "0"
        ],
        [
         "apoyo_familiar",
         "0"
        ],
        [
         "relaciones_sociales",
         "0"
        ],
        [
         "atención_clase",
         "0"
        ],
        [
         "bienestar_general",
         "0"
        ]
       ],
       "shape": {
        "columns": 1,
        "rows": 16
       }
      },
      "text/plain": [
       "edad                    0\n",
       "género                  0\n",
       "nivel_autocontrol       0\n",
       "nivel_empático          0\n",
       "habilidad_regulación    0\n",
       "autoestima              0\n",
       "autoconciencia          0\n",
       "regulación_estrés       0\n",
       "ansiedad                0\n",
       "motivación_académica    0\n",
       "rendimiento             0\n",
       "satisfacción_escolar    0\n",
       "apoyo_familiar          0\n",
       "relaciones_sociales     0\n",
       "atención_clase          0\n",
       "bienestar_general       0\n",
       "dtype: int64"
      ]
     },
     "metadata": {},
     "output_type": "display_data"
    },
    {
     "name": "stdout",
     "output_type": "stream",
     "text": [
      "────────────────────────────────────────────────────────────────────────────────────────────────────\n",
      "🐲 Filas duplicadas:\n",
      "✅ No hay filas duplicadas.\n",
      "────────────────────────────────────────────────────────────────────────────────────────────────────\n",
      "🪹 Columnas constantes (solo un valor):\n",
      "✅ No hay columnas constantes.\n",
      "────────────────────────────────────────────────────────────────────────────────────────────────────\n",
      "🚀 Valores únicos en columnas categóricas:\n",
      "🔸 género\n",
      "['Niña' 'Niño']\n",
      "────────────────────────────────────────────────────────────\n",
      "────────────────────────────────────────────────────────────────────────────────────────────────────\n",
      "🧬 Tipos de datos por columna:\n"
     ]
    },
    {
     "data": {
      "application/vnd.microsoft.datawrangler.viewer.v0+json": {
       "columns": [
        {
         "name": "index",
         "rawType": "object",
         "type": "unknown"
        },
        {
         "name": "count",
         "rawType": "int64",
         "type": "integer"
        }
       ],
       "ref": "730b0086-3833-4fe3-87a4-ba89c6e88cef",
       "rows": [
        [
         "float64",
         "14"
        ],
        [
         "int64",
         "1"
        ],
        [
         "object",
         "1"
        ]
       ],
       "shape": {
        "columns": 1,
        "rows": 3
       }
      },
      "text/plain": [
       "float64    14\n",
       "int64       1\n",
       "object      1\n",
       "Name: count, dtype: int64"
      ]
     },
     "metadata": {},
     "output_type": "display_data"
    },
    {
     "name": "stdout",
     "output_type": "stream",
     "text": [
      "────────────────────────────────────────────────────────────────────────────────────────────────────\n"
     ]
    }
   ],
   "source": [
    "eda_basico(df4)"
   ]
  }
 ],
 "metadata": {
  "kernelspec": {
   "display_name": "base",
   "language": "python",
   "name": "python3"
  },
  "language_info": {
   "codemirror_mode": {
    "name": "ipython",
    "version": 3
   },
   "file_extension": ".py",
   "mimetype": "text/x-python",
   "name": "python",
   "nbconvert_exporter": "python",
   "pygments_lexer": "ipython3",
   "version": "3.12.7"
  }
 },
 "nbformat": 4,
 "nbformat_minor": 5
}
